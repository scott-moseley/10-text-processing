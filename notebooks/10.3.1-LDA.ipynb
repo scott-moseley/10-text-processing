{
 "cells": [
  {
   "cell_type": "markdown",
   "metadata": {
    "slideshow": {
     "slide_type": "slide"
    }
   },
   "source": [
    "# Week 10.3.1 Topic Modelling using LDA\n",
    "\n",
    "## Preparation\n",
    "\n",
    "In this exercise, we will need to make sure the following packages are installed into your conda environment that runs this Jupyter notebook. \n",
    "\n",
    "`pip install gensim spacy pyLDAvis matplotlib numpy pandas`\n",
    "\n",
    "To view the list of modules or packages installed, use\n",
    "\n",
    "`conda list`\n",
    "\n",
    "Then install the ones you do not have. Once installed, we can then import them and be prepared for the rest of the exercise. "
   ]
  },
  {
   "cell_type": "code",
   "execution_count": 1,
   "metadata": {
    "slideshow": {
     "slide_type": "slide"
    }
   },
   "outputs": [
    {
     "name": "stderr",
     "output_type": "stream",
     "text": [
      "c:\\users\\wei\\appdata\\local\\conda\\conda\\envs\\py3.7\\lib\\site-packages\\gensim\\utils.py:1197: UserWarning: detected Windows; aliasing chunkize to chunkize_serial\n",
      "  warnings.warn(\"detected Windows; aliasing chunkize to chunkize_serial\")\n",
      "c:\\users\\wei\\appdata\\local\\conda\\conda\\envs\\py3.7\\lib\\importlib\\_bootstrap.py:219: RuntimeWarning: cymem.cymem.Pool size changed, may indicate binary incompatibility. Expected 48 from C header, got 64 from PyObject\n",
      "  return f(*args, **kwds)\n",
      "c:\\users\\wei\\appdata\\local\\conda\\conda\\envs\\py3.7\\lib\\importlib\\_bootstrap.py:219: RuntimeWarning: cymem.cymem.Address size changed, may indicate binary incompatibility. Expected 24 from C header, got 40 from PyObject\n",
      "  return f(*args, **kwds)\n"
     ]
    }
   ],
   "source": [
    "import re\n",
    "import numpy as np\n",
    "import pandas as pd\n",
    "from pprint import pprint\n",
    "\n",
    "# Gensim\n",
    "import gensim\n",
    "import gensim.corpora as corpora\n",
    "from gensim.utils import simple_preprocess\n",
    "from gensim.models import CoherenceModel\n",
    "\n",
    "# spacy for lemmatization\n",
    "import spacy\n",
    "\n",
    "# Plotting tools\n",
    "import pyLDAvis\n",
    "import pyLDAvis.gensim  # don't skip this\n",
    "import matplotlib.pyplot as plt\n",
    "%matplotlib inline\n",
    "\n",
    "# Enable logging for gensim - optional\n",
    "import logging\n",
    "logging.basicConfig(format='%(asctime)s : %(levelname)s : %(message)s', level=logging.ERROR)\n",
    "\n",
    "import warnings\n",
    "warnings.filterwarnings(\"ignore\",category=DeprecationWarning)"
   ]
  },
  {
   "cell_type": "markdown",
   "metadata": {
    "slideshow": {
     "slide_type": "slide"
    }
   },
   "source": [
    "### Define stop words"
   ]
  },
  {
   "cell_type": "code",
   "execution_count": 2,
   "metadata": {
    "slideshow": {
     "slide_type": "subslide"
    }
   },
   "outputs": [
    {
     "name": "stdout",
     "output_type": "stream",
     "text": [
      "['i',\n",
      " 'me',\n",
      " 'my',\n",
      " 'myself',\n",
      " 'we',\n",
      " 'our',\n",
      " 'ours',\n",
      " 'ourselves',\n",
      " 'you',\n",
      " \"you're\",\n",
      " \"you've\",\n",
      " \"you'll\",\n",
      " \"you'd\",\n",
      " 'your',\n",
      " 'yours',\n",
      " 'yourself',\n",
      " 'yourselves',\n",
      " 'he',\n",
      " 'him',\n",
      " 'his',\n",
      " 'himself',\n",
      " 'she',\n",
      " \"she's\",\n",
      " 'her',\n",
      " 'hers',\n",
      " 'herself',\n",
      " 'it',\n",
      " \"it's\",\n",
      " 'its',\n",
      " 'itself',\n",
      " 'they',\n",
      " 'them',\n",
      " 'their',\n",
      " 'theirs',\n",
      " 'themselves',\n",
      " 'what',\n",
      " 'which',\n",
      " 'who',\n",
      " 'whom',\n",
      " 'this',\n",
      " 'that',\n",
      " \"that'll\",\n",
      " 'these',\n",
      " 'those',\n",
      " 'am',\n",
      " 'is',\n",
      " 'are',\n",
      " 'was',\n",
      " 'were',\n",
      " 'be',\n",
      " 'been',\n",
      " 'being',\n",
      " 'have',\n",
      " 'has',\n",
      " 'had',\n",
      " 'having',\n",
      " 'do',\n",
      " 'does',\n",
      " 'did',\n",
      " 'doing',\n",
      " 'a',\n",
      " 'an',\n",
      " 'the',\n",
      " 'and',\n",
      " 'but',\n",
      " 'if',\n",
      " 'or',\n",
      " 'because',\n",
      " 'as',\n",
      " 'until',\n",
      " 'while',\n",
      " 'of',\n",
      " 'at',\n",
      " 'by',\n",
      " 'for',\n",
      " 'with',\n",
      " 'about',\n",
      " 'against',\n",
      " 'between',\n",
      " 'into',\n",
      " 'through',\n",
      " 'during',\n",
      " 'before',\n",
      " 'after',\n",
      " 'above',\n",
      " 'below',\n",
      " 'to',\n",
      " 'from',\n",
      " 'up',\n",
      " 'down',\n",
      " 'in',\n",
      " 'out',\n",
      " 'on',\n",
      " 'off',\n",
      " 'over',\n",
      " 'under',\n",
      " 'again',\n",
      " 'further',\n",
      " 'then',\n",
      " 'once',\n",
      " 'here',\n",
      " 'there',\n",
      " 'when',\n",
      " 'where',\n",
      " 'why',\n",
      " 'how',\n",
      " 'all',\n",
      " 'any',\n",
      " 'both',\n",
      " 'each',\n",
      " 'few',\n",
      " 'more',\n",
      " 'most',\n",
      " 'other',\n",
      " 'some',\n",
      " 'such',\n",
      " 'no',\n",
      " 'nor',\n",
      " 'not',\n",
      " 'only',\n",
      " 'own',\n",
      " 'same',\n",
      " 'so',\n",
      " 'than',\n",
      " 'too',\n",
      " 'very',\n",
      " 's',\n",
      " 't',\n",
      " 'can',\n",
      " 'will',\n",
      " 'just',\n",
      " 'don',\n",
      " \"don't\",\n",
      " 'should',\n",
      " \"should've\",\n",
      " 'now',\n",
      " 'd',\n",
      " 'll',\n",
      " 'm',\n",
      " 'o',\n",
      " 're',\n",
      " 've',\n",
      " 'y',\n",
      " 'ain',\n",
      " 'aren',\n",
      " \"aren't\",\n",
      " 'couldn',\n",
      " \"couldn't\",\n",
      " 'didn',\n",
      " \"didn't\",\n",
      " 'doesn',\n",
      " \"doesn't\",\n",
      " 'hadn',\n",
      " \"hadn't\",\n",
      " 'hasn',\n",
      " \"hasn't\",\n",
      " 'haven',\n",
      " \"haven't\",\n",
      " 'isn',\n",
      " \"isn't\",\n",
      " 'ma',\n",
      " 'mightn',\n",
      " \"mightn't\",\n",
      " 'mustn',\n",
      " \"mustn't\",\n",
      " 'needn',\n",
      " \"needn't\",\n",
      " 'shan',\n",
      " \"shan't\",\n",
      " 'shouldn',\n",
      " \"shouldn't\",\n",
      " 'wasn',\n",
      " \"wasn't\",\n",
      " 'weren',\n",
      " \"weren't\",\n",
      " 'won',\n",
      " \"won't\",\n",
      " 'wouldn',\n",
      " \"wouldn't\",\n",
      " 'from',\n",
      " 'subject',\n",
      " 're',\n",
      " 'edu',\n",
      " 'use']\n"
     ]
    }
   ],
   "source": [
    "# NLTK Stop words\n",
    "from nltk.corpus import stopwords\n",
    "stop_words = stopwords.words('english')\n",
    "stop_words.extend(['from', 'subject', 're', 'edu', 'use'])\n",
    "pprint(stop_words)"
   ]
  },
  {
   "cell_type": "markdown",
   "metadata": {
    "slideshow": {
     "slide_type": "slide"
    }
   },
   "source": [
    "### Import 20-Newsgroups dataset\n",
    "\n",
    "The 20-Newsgroups dataset contains about 11k newsgroups posts from 20 different topics. \n",
    "\n",
    "The dataset can be imported using `pandas.read_json` and we can see the dataset has 3 columns. The `target-name` is the category or topics that the news is manually assigned to. \n",
    "\n",
    "We choose to use this dataset because it has pre-assigned categories according to topics, so our clustering results can be readily compared. In real world data, this is not always easily available. "
   ]
  },
  {
   "cell_type": "code",
   "execution_count": 3,
   "metadata": {
    "slideshow": {
     "slide_type": "subslide"
    }
   },
   "outputs": [
    {
     "name": "stdout",
     "output_type": "stream",
     "text": [
      "['rec.autos' 'comp.sys.mac.hardware' 'rec.motorcycles' 'misc.forsale'\n",
      " 'comp.os.ms-windows.misc' 'alt.atheism' 'comp.graphics'\n",
      " 'rec.sport.baseball' 'rec.sport.hockey' 'sci.electronics' 'sci.space'\n",
      " 'talk.politics.misc' 'sci.med' 'talk.politics.mideast'\n",
      " 'soc.religion.christian' 'comp.windows.x' 'comp.sys.ibm.pc.hardware'\n",
      " 'talk.politics.guns' 'talk.religion.misc' 'sci.crypt']\n"
     ]
    },
    {
     "data": {
      "text/html": [
       "<div>\n",
       "<style scoped>\n",
       "    .dataframe tbody tr th:only-of-type {\n",
       "        vertical-align: middle;\n",
       "    }\n",
       "\n",
       "    .dataframe tbody tr th {\n",
       "        vertical-align: top;\n",
       "    }\n",
       "\n",
       "    .dataframe thead th {\n",
       "        text-align: right;\n",
       "    }\n",
       "</style>\n",
       "<table border=\"1\" class=\"dataframe\">\n",
       "  <thead>\n",
       "    <tr style=\"text-align: right;\">\n",
       "      <th></th>\n",
       "      <th>content</th>\n",
       "      <th>target</th>\n",
       "      <th>target_names</th>\n",
       "    </tr>\n",
       "  </thead>\n",
       "  <tbody>\n",
       "    <tr>\n",
       "      <th>0</th>\n",
       "      <td>From: lerxst@wam.umd.edu (where's my thing)\\nS...</td>\n",
       "      <td>7</td>\n",
       "      <td>rec.autos</td>\n",
       "    </tr>\n",
       "    <tr>\n",
       "      <th>1</th>\n",
       "      <td>From: guykuo@carson.u.washington.edu (Guy Kuo)...</td>\n",
       "      <td>4</td>\n",
       "      <td>comp.sys.mac.hardware</td>\n",
       "    </tr>\n",
       "    <tr>\n",
       "      <th>10</th>\n",
       "      <td>From: irwin@cmptrc.lonestar.org (Irwin Arnstei...</td>\n",
       "      <td>8</td>\n",
       "      <td>rec.motorcycles</td>\n",
       "    </tr>\n",
       "    <tr>\n",
       "      <th>100</th>\n",
       "      <td>From: tchen@magnus.acs.ohio-state.edu (Tsung-K...</td>\n",
       "      <td>6</td>\n",
       "      <td>misc.forsale</td>\n",
       "    </tr>\n",
       "    <tr>\n",
       "      <th>1000</th>\n",
       "      <td>From: dabl2@nlm.nih.gov (Don A.B. Lindbergh)\\n...</td>\n",
       "      <td>2</td>\n",
       "      <td>comp.os.ms-windows.misc</td>\n",
       "    </tr>\n",
       "  </tbody>\n",
       "</table>\n",
       "</div>"
      ],
      "text/plain": [
       "                                                content  target  \\\n",
       "0     From: lerxst@wam.umd.edu (where's my thing)\\nS...       7   \n",
       "1     From: guykuo@carson.u.washington.edu (Guy Kuo)...       4   \n",
       "10    From: irwin@cmptrc.lonestar.org (Irwin Arnstei...       8   \n",
       "100   From: tchen@magnus.acs.ohio-state.edu (Tsung-K...       6   \n",
       "1000  From: dabl2@nlm.nih.gov (Don A.B. Lindbergh)\\n...       2   \n",
       "\n",
       "                 target_names  \n",
       "0                   rec.autos  \n",
       "1       comp.sys.mac.hardware  \n",
       "10            rec.motorcycles  \n",
       "100              misc.forsale  \n",
       "1000  comp.os.ms-windows.misc  "
      ]
     },
     "execution_count": 3,
     "metadata": {},
     "output_type": "execute_result"
    }
   ],
   "source": [
    "# Import Dataset\n",
    "df = pd.read_json('https://raw.githubusercontent.com/selva86/datasets/master/newsgroups.json')\n",
    "print(df.target_names.unique())\n",
    "df.head()"
   ]
  },
  {
   "cell_type": "markdown",
   "metadata": {},
   "source": [
    "## Pre-processing\n",
    "### Removing emails and newline characters\n",
    "\n",
    "We can use regular expressions for this purpose by untilising the `re` package."
   ]
  },
  {
   "cell_type": "code",
   "execution_count": 4,
   "metadata": {},
   "outputs": [
    {
     "name": "stdout",
     "output_type": "stream",
     "text": [
      "['From: (wheres my thing) Subject: WHAT car is this!? Nntp-Posting-Host: '\n",
      " 'rac3.wam.umd.edu Organization: University of Maryland, College Park Lines: '\n",
      " '15 I was wondering if anyone out there could enlighten me on this car I saw '\n",
      " 'the other day. It was a 2-door sports car, looked to be from the late 60s/ '\n",
      " 'early 70s. It was called a Bricklin. The doors were really small. In '\n",
      " 'addition, the front bumper was separate from the rest of the body. This is '\n",
      " 'all I know. If anyone can tellme a model name, engine specs, years of '\n",
      " 'production, where this car is made, history, or whatever info you have on '\n",
      " 'this funky looking car, please e-mail. Thanks, - IL ---- brought to you by '\n",
      " 'your neighborhood Lerxst ---- ']\n"
     ]
    }
   ],
   "source": [
    "# Convert to list\n",
    "data = df.content.values.tolist()\n",
    "\n",
    "# Remove Emails\n",
    "data = [re.sub('\\S*@\\S*\\s?', '', sent) for sent in data]\n",
    "\n",
    "# Remove new line characters\n",
    "data = [re.sub('\\s+', ' ', sent) for sent in data]\n",
    "\n",
    "# Remove distracting single quotes\n",
    "data = [re.sub(\"\\'\", \"\", sent) for sent in data]\n",
    "\n",
    "pprint(data[:1])"
   ]
  },
  {
   "cell_type": "markdown",
   "metadata": {},
   "source": [
    "### Tokenisation\n",
    "\n",
    "We need to break down each sentence into a list of words, for the data to be ready for consumption by `gensim`. The `simple_preprocess()` function is built for such purposes. We can also set the `deacc=True` to remove punctuations. "
   ]
  },
  {
   "cell_type": "code",
   "execution_count": 5,
   "metadata": {},
   "outputs": [
    {
     "name": "stdout",
     "output_type": "stream",
     "text": [
      "[['from', 'wheres', 'my', 'thing', 'subject', 'what', 'car', 'is', 'this', 'nntp', 'posting', 'host', 'rac', 'wam', 'umd', 'edu', 'organization', 'university', 'of', 'maryland', 'college', 'park', 'lines', 'was', 'wondering', 'if', 'anyone', 'out', 'there', 'could', 'enlighten', 'me', 'on', 'this', 'car', 'saw', 'the', 'other', 'day', 'it', 'was', 'door', 'sports', 'car', 'looked', 'to', 'be', 'from', 'the', 'late', 'early', 'it', 'was', 'called', 'bricklin', 'the', 'doors', 'were', 'really', 'small', 'in', 'addition', 'the', 'front', 'bumper', 'was', 'separate', 'from', 'the', 'rest', 'of', 'the', 'body', 'this', 'is', 'all', 'know', 'if', 'anyone', 'can', 'tellme', 'model', 'name', 'engine', 'specs', 'years', 'of', 'production', 'where', 'this', 'car', 'is', 'made', 'history', 'or', 'whatever', 'info', 'you', 'have', 'on', 'this', 'funky', 'looking', 'car', 'please', 'mail', 'thanks', 'il', 'brought', 'to', 'you', 'by', 'your', 'neighborhood', 'lerxst']]\n"
     ]
    }
   ],
   "source": [
    "def sent_to_words(sentences):\n",
    "    for sentence in sentences:\n",
    "        yield(gensim.utils.simple_preprocess(str(sentence), deacc=True))  # deacc=True removes punctuations\n",
    "\n",
    "data_words = list(sent_to_words(data))\n",
    "\n",
    "print(data_words[:1])"
   ]
  },
  {
   "cell_type": "markdown",
   "metadata": {},
   "source": [
    "### Creating bigram and trigrams - Gensim’s Phrases model\n",
    "\n",
    "Bigrams are two words frequently occurring together in the document. Trigrams are 3 words frequently occurring.\n",
    "\n",
    "Some examples in our example are: ‘front_bumper’, ‘oil_leak’, ‘maryland_college_park’ etc.\n",
    "\n",
    "Gensim’s Phrases model can build and implement the bigrams, trigrams, quadgrams and more. The two important arguments to Phrases are min_count and threshold. The higher the values of these param, the harder it is for words to be combined to bigrams."
   ]
  },
  {
   "cell_type": "code",
   "execution_count": 6,
   "metadata": {},
   "outputs": [
    {
     "name": "stderr",
     "output_type": "stream",
     "text": [
      "c:\\users\\wei\\appdata\\local\\conda\\conda\\envs\\py3.7\\lib\\site-packages\\gensim\\models\\phrases.py:494: UserWarning: For a faster implementation, use the gensim.models.phrases.Phraser class\n",
      "  warnings.warn(\"For a faster implementation, use the gensim.models.phrases.Phraser class\")\n"
     ]
    },
    {
     "name": "stdout",
     "output_type": "stream",
     "text": [
      "['from', 'wheres', 'my', 'thing', 'subject', 'what', 'car', 'is', 'this', 'nntp_posting_host', 'rac_wam_umd_edu', 'organization', 'university', 'of', 'maryland_college_park', 'lines', 'was', 'wondering', 'if', 'anyone', 'out', 'there', 'could', 'enlighten', 'me', 'on', 'this', 'car', 'saw', 'the', 'other', 'day', 'it', 'was', 'door', 'sports', 'car', 'looked', 'to', 'be', 'from', 'the', 'late', 'early', 'it', 'was', 'called', 'bricklin', 'the', 'doors', 'were', 'really', 'small', 'in', 'addition', 'the', 'front_bumper', 'was', 'separate', 'from', 'the', 'rest', 'of', 'the', 'body', 'this', 'is', 'all', 'know', 'if', 'anyone', 'can', 'tellme', 'model', 'name', 'engine', 'specs', 'years', 'of', 'production', 'where', 'this', 'car', 'is', 'made', 'history', 'or', 'whatever', 'info', 'you', 'have', 'on', 'this', 'funky', 'looking', 'car', 'please', 'mail', 'thanks', 'il', 'brought', 'to', 'you', 'by', 'your', 'neighborhood', 'lerxst']\n"
     ]
    }
   ],
   "source": [
    "# Build the bigram and trigram models\n",
    "bigram = gensim.models.Phrases(data_words, min_count=5, threshold=100) # higher threshold fewer phrases.\n",
    "trigram = gensim.models.Phrases(bigram[data_words], threshold=100)  \n",
    "\n",
    "# Faster way to get a sentence clubbed as a trigram/bigram\n",
    "bigram_mod = gensim.models.phrases.Phraser(bigram)\n",
    "trigram_mod = gensim.models.phrases.Phraser(trigram)\n",
    "\n",
    "# See trigram example\n",
    "print(trigram_mod[bigram_mod[data_words[0]]])"
   ]
  },
  {
   "cell_type": "markdown",
   "metadata": {},
   "source": [
    "### Build functions for the pre-processing pipeline\n",
    "\n",
    "Remove stopwords, make bigram and trigrams, and lemmatisation."
   ]
  },
  {
   "cell_type": "code",
   "execution_count": 7,
   "metadata": {},
   "outputs": [],
   "source": [
    "# Define functions for stopwords, bigrams, trigrams and lemmatization\n",
    "def remove_stopwords(texts):\n",
    "    return [[word for word in simple_preprocess(str(doc)) if word not in stop_words] for doc in texts]\n",
    "\n",
    "def make_bigrams(texts):\n",
    "    return [bigram_mod[doc] for doc in texts]\n",
    "\n",
    "def make_trigrams(texts):\n",
    "    return [trigram_mod[bigram_mod[doc]] for doc in texts]\n",
    "\n",
    "def lemmatization(texts, allowed_postags=['NOUN', 'ADJ', 'VERB', 'ADV']):\n",
    "    \"\"\"https://spacy.io/api/annotation\"\"\"\n",
    "    texts_out = []\n",
    "    for sent in texts:\n",
    "        doc = nlp(\" \".join(sent)) \n",
    "        texts_out.append([token.lemma_ for token in doc if token.pos_ in allowed_postags])\n",
    "    return texts_out"
   ]
  },
  {
   "cell_type": "markdown",
   "metadata": {},
   "source": [
    "Call the functions in order"
   ]
  },
  {
   "cell_type": "code",
   "execution_count": 8,
   "metadata": {},
   "outputs": [
    {
     "name": "stderr",
     "output_type": "stream",
     "text": [
      "c:\\users\\wei\\appdata\\local\\conda\\conda\\envs\\py3.7\\lib\\importlib\\_bootstrap.py:219: RuntimeWarning: cymem.cymem.Pool size changed, may indicate binary incompatibility. Expected 48 from C header, got 64 from PyObject\n",
      "  return f(*args, **kwds)\n",
      "c:\\users\\wei\\appdata\\local\\conda\\conda\\envs\\py3.7\\lib\\importlib\\_bootstrap.py:219: RuntimeWarning: cymem.cymem.Address size changed, may indicate binary incompatibility. Expected 24 from C header, got 40 from PyObject\n",
      "  return f(*args, **kwds)\n"
     ]
    },
    {
     "name": "stdout",
     "output_type": "stream",
     "text": [
      "[['where', 's', 'thing', 'car', 'nntp_post', 'host', 'rac_wam', 'umd', 'organization', 'university', 'maryland_college', 'park', 'line', 'wonder', 'anyone', 'could', 'enlighten', 'car', 'see', 'day', 'door', 'sport', 'car', 'look', 'late', 'early', 'call', 'bricklin', 'door', 'really', 'small', 'addition', 'front_bumper', 'separate', 'rest', 'body', 'know', 'anyone', 'tellme', 'model', 'name', 'engine', 'spec', 'year', 'production', 'car', 'make', 'history', 'whatev', 'info', 'funky', 'look', 'car', 'mail', 'thank', 'bring', 'neighborhood', 'lerxst']]\n"
     ]
    }
   ],
   "source": [
    "# Remove Stop Words\n",
    "data_words_nostops = remove_stopwords(data_words)\n",
    "\n",
    "# Form Bigrams\n",
    "data_words_bigrams = make_bigrams(data_words_nostops)\n",
    "\n",
    "# Initialize spacy 'en' model, keeping only tagger component (for efficiency)\n",
    "# python3 -m spacy download en\n",
    "nlp = spacy.load('en_core_web_sm', disable=['parser', 'ner'])\n",
    "\n",
    "# Do lemmatization keeping only noun, adj, vb, adv\n",
    "data_lemmatized = lemmatization(data_words_bigrams, allowed_postags=['NOUN', 'ADJ', 'VERB', 'ADV'])\n",
    "\n",
    "print(data_lemmatized[:1])"
   ]
  },
  {
   "cell_type": "code",
   "execution_count": 9,
   "metadata": {},
   "outputs": [
    {
     "name": "stdout",
     "output_type": "stream",
     "text": [
      "[[(0, 1), (1, 2), (2, 1), (3, 1), (4, 1), (5, 1), (6, 5), (7, 1), (8, 1), (9, 2), (10, 1), (11, 1), (12, 1), (13, 1), (14, 1), (15, 1), (16, 1), (17, 1), (18, 1), (19, 1), (20, 1), (21, 1), (22, 2), (23, 1), (24, 1), (25, 1), (26, 1), (27, 1), (28, 1), (29, 1), (30, 1), (31, 1), (32, 1), (33, 1), (34, 1), (35, 1), (36, 1), (37, 1), (38, 1), (39, 1), (40, 1), (41, 1), (42, 1), (43, 1), (44, 1), (45, 1), (46, 1), (47, 1), (48, 1), (49, 1), (50, 1)]]\n"
     ]
    }
   ],
   "source": [
    "# Create Dictionary\n",
    "id2word = corpora.Dictionary(data_lemmatized)\n",
    "\n",
    "# Create Corpus\n",
    "texts = data_lemmatized\n",
    "\n",
    "# Term Document Frequency\n",
    "corpus = [id2word.doc2bow(text) for text in texts]\n",
    "\n",
    "# View\n",
    "print(corpus[:1])"
   ]
  },
  {
   "cell_type": "code",
   "execution_count": 10,
   "metadata": {},
   "outputs": [
    {
     "name": "stdout",
     "output_type": "stream",
     "text": [
      "[(0, 1), (1, 2), (2, 1), (3, 1), (4, 1), (5, 1), (6, 5), (7, 1), (8, 1), (9, 2), (10, 1), (11, 1), (12, 1), (13, 1), (14, 1), (15, 1), (16, 1), (17, 1), (18, 1), (19, 1), (20, 1), (21, 1), (22, 2), (23, 1), (24, 1), (25, 1), (26, 1), (27, 1), (28, 1), (29, 1), (30, 1), (31, 1), (32, 1), (33, 1), (34, 1), (35, 1), (36, 1), (37, 1), (38, 1), (39, 1), (40, 1), (41, 1), (42, 1), (43, 1), (44, 1), (45, 1), (46, 1), (47, 1), (48, 1), (49, 1), (50, 1)]\n"
     ]
    }
   ],
   "source": [
    "print(corpus[0])"
   ]
  },
  {
   "cell_type": "code",
   "execution_count": 11,
   "metadata": {},
   "outputs": [
    {
     "name": "stdout",
     "output_type": "stream",
     "text": [
      "addition\n"
     ]
    }
   ],
   "source": [
    "print(id2word[0])"
   ]
  },
  {
   "cell_type": "code",
   "execution_count": 12,
   "metadata": {},
   "outputs": [
    {
     "name": "stdout",
     "output_type": "stream",
     "text": [
      "(0, 1)\n"
     ]
    }
   ],
   "source": [
    "print(corpus[0][0])"
   ]
  },
  {
   "cell_type": "code",
   "execution_count": 13,
   "metadata": {},
   "outputs": [
    {
     "name": "stdout",
     "output_type": "stream",
     "text": [
      "[(6, 5), (1, 2), (9, 2), (22, 2), (0, 1), (2, 1), (3, 1), (4, 1), (5, 1), (7, 1), (8, 1), (10, 1), (11, 1), (12, 1), (13, 1), (14, 1), (15, 1), (16, 1), (17, 1), (18, 1), (19, 1), (20, 1), (21, 1), (23, 1), (24, 1), (25, 1), (26, 1), (27, 1), (28, 1), (29, 1), (30, 1), (31, 1), (32, 1), (33, 1), (34, 1), (35, 1), (36, 1), (37, 1), (38, 1), (39, 1), (40, 1), (41, 1), (42, 1), (43, 1), (44, 1), (45, 1), (46, 1), (47, 1), (48, 1), (49, 1), (50, 1)]\n"
     ]
    }
   ],
   "source": [
    "sorted_by_value = sorted(corpus[0], key=lambda kv: kv[1], reverse=True)\n",
    "print(sorted_by_value)"
   ]
  },
  {
   "cell_type": "code",
   "execution_count": 14,
   "metadata": {},
   "outputs": [
    {
     "data": {
      "text/plain": [
       "[('car', 5),\n",
       " ('anyone', 2),\n",
       " ('door', 2),\n",
       " ('look', 2),\n",
       " ('addition', 1),\n",
       " ('body', 1),\n",
       " ('bricklin', 1),\n",
       " ('bring', 1),\n",
       " ('call', 1),\n",
       " ('could', 1),\n",
       " ('day', 1),\n",
       " ('early', 1),\n",
       " ('engine', 1),\n",
       " ('enlighten', 1),\n",
       " ('front_bumper', 1),\n",
       " ('funky', 1),\n",
       " ('history', 1),\n",
       " ('host', 1),\n",
       " ('info', 1),\n",
       " ('know', 1),\n",
       " ('late', 1),\n",
       " ('lerxst', 1),\n",
       " ('line', 1),\n",
       " ('mail', 1),\n",
       " ('make', 1),\n",
       " ('maryland_college', 1),\n",
       " ('model', 1),\n",
       " ('name', 1),\n",
       " ('neighborhood', 1),\n",
       " ('nntp_post', 1),\n",
       " ('organization', 1),\n",
       " ('park', 1),\n",
       " ('production', 1),\n",
       " ('rac_wam', 1),\n",
       " ('really', 1),\n",
       " ('rest', 1),\n",
       " ('s', 1),\n",
       " ('see', 1),\n",
       " ('separate', 1),\n",
       " ('small', 1),\n",
       " ('spec', 1),\n",
       " ('sport', 1),\n",
       " ('tellme', 1),\n",
       " ('thank', 1),\n",
       " ('thing', 1),\n",
       " ('umd', 1),\n",
       " ('university', 1),\n",
       " ('whatev', 1),\n",
       " ('where', 1),\n",
       " ('wonder', 1),\n",
       " ('year', 1)]"
      ]
     },
     "execution_count": 14,
     "metadata": {},
     "output_type": "execute_result"
    }
   ],
   "source": [
    "# Human readable format of corpus (term-frequency)\n",
    "[(id2word[id], freq) for id, freq in sorted_by_value] "
   ]
  },
  {
   "cell_type": "code",
   "execution_count": 15,
   "metadata": {},
   "outputs": [],
   "source": [
    "# Build LDA model\n",
    "lda_model = gensim.models.ldamodel.LdaModel(corpus=corpus,\n",
    "                                           id2word=id2word,\n",
    "                                           num_topics=20, \n",
    "                                           random_state=100,\n",
    "                                           update_every=1,\n",
    "                                           chunksize=100,\n",
    "                                           passes=10,\n",
    "                                           alpha='auto',\n",
    "                                           per_word_topics=True)"
   ]
  },
  {
   "cell_type": "code",
   "execution_count": 16,
   "metadata": {},
   "outputs": [
    {
     "name": "stdout",
     "output_type": "stream",
     "text": [
      "[(0,\n",
      "  '0.034*\"_\" + 0.029*\"blue\" + 0.021*\"tank\" + 0.014*\"cubs_suck\" + 0.012*\"eg\" + '\n",
      "  '0.012*\"gas\" + 0.011*\"hi\" + 0.007*\"henry_spencer\" + 0.007*\"cigarette\" + '\n",
      "  '0.006*\"xlib\"'),\n",
      " (1,\n",
      "  '0.020*\"value\" + 0.020*\"bus\" + 0.019*\"specifically\" + 0.015*\"function\" + '\n",
      "  '0.015*\"associate\" + 0.013*\"motorcycle\" + 0.011*\"properly\" + 0.010*\"code\" + '\n",
      "  '0.008*\"confuse\" + 0.008*\"error\"'),\n",
      " (2,\n",
      "  '0.023*\"window\" + 0.020*\"card\" + 0.017*\"file\" + 0.014*\"drive\" + 0.013*\"use\" '\n",
      "  '+ 0.013*\"system\" + 0.011*\"problem\" + 0.010*\"run\" + 0.009*\"color\" + '\n",
      "  '0.009*\"do\"'),\n",
      " (3,\n",
      "  '0.035*\"game\" + 0.033*\"team\" + 0.019*\"player\" + 0.017*\"play\" + 0.017*\"win\" + '\n",
      "  '0.016*\"hockey\" + 0.013*\"season\" + 0.011*\"contact\" + 0.011*\"year\" + '\n",
      "  '0.010*\"nhl\"'),\n",
      " (4,\n",
      "  '0.026*\"wire\" + 0.017*\"circuit\" + 0.015*\"faq\" + 0.015*\"connect\" + '\n",
      "  '0.013*\"wiring\" + 0.013*\"voice\" + 0.013*\"cover\" + 0.011*\"outlet\" + '\n",
      "  '0.011*\"neutral\" + 0.010*\"conference\"'),\n",
      " (5,\n",
      "  '0.030*\"government\" + 0.024*\"gun\" + 0.022*\"law\" + 0.017*\"state\" + '\n",
      "  '0.015*\"right\" + 0.013*\"public\" + 0.012*\"protect\" + 0.011*\"american\" + '\n",
      "  '0.010*\"police\" + 0.010*\"criminal\"'),\n",
      " (6,\n",
      "  '0.074*\"max\" + 0.018*\"cost\" + 0.015*\"price\" + 0.014*\"year\" + 0.012*\"sale\" + '\n",
      "  '0.011*\"sell\" + 0.010*\"obvious\" + 0.009*\"pay\" + 0.007*\"canada\" + '\n",
      "  '0.007*\"total\"'),\n",
      " (7,\n",
      "  '0.047*\"line\" + 0.042*\"organization\" + 0.031*\"write\" + 0.026*\"article\" + '\n",
      "  '0.019*\"would\" + 0.018*\"university\" + 0.017*\"nntp_post\" + 0.015*\"host\" + '\n",
      "  '0.015*\"not\" + 0.014*\"get\"'),\n",
      " (8,\n",
      "  '0.019*\"science\" + 0.014*\"computer_science\" + 0.012*\"prove\" + '\n",
      "  '0.011*\"homeopathy\" + 0.010*\"review\" + 0.010*\"development\" + 0.010*\"object\" '\n",
      "  '+ 0.010*\"univ\" + 0.010*\"text\" + 0.010*\"gordon_bank\"'),\n",
      " (9,\n",
      "  '0.039*\"space\" + 0.011*\"power\" + 0.009*\"launch\" + 0.008*\"ground\" + '\n",
      "  '0.008*\"switch\" + 0.008*\"build\" + 0.007*\"project\" + 0.007*\"high\" + '\n",
      "  '0.007*\"radio\" + 0.007*\"mon\"'),\n",
      " (10,\n",
      "  '0.815*\"ax\" + 0.003*\"nyi\" + 0.003*\"stl\" + 0.003*\"buffalo\" + 0.002*\"pool\" + '\n",
      "  '0.002*\"brian_kendig\" + 0.002*\"sunday\" + 0.002*\"finland\" + 0.002*\"espn\" + '\n",
      "  '0.002*\"lemieux\"'),\n",
      " (11,\n",
      "  '0.040*\"armenian\" + 0.013*\"league\" + 0.011*\"turk\" + 0.011*\"turkish\" + '\n",
      "  '0.011*\"greek\" + 0.011*\"baseball\" + 0.010*\"serdar_argic\" + 0.007*\"road\" + '\n",
      "  '0.006*\"cal\" + 0.006*\"hug\"'),\n",
      " (12,\n",
      "  '0.011*\"national\" + 0.009*\"center\" + 0.009*\"year\" + 0.009*\"april\" + '\n",
      "  '0.009*\"study\" + 0.007*\"george\" + 0.007*\"research\" + 0.006*\"march\" + '\n",
      "  '0.006*\"mission\" + 0.006*\"student\"'),\n",
      " (13,\n",
      "  '0.011*\"may\" + 0.010*\"would\" + 0.009*\"make\" + 0.007*\"people\" + '\n",
      "  '0.007*\"question\" + 0.007*\"also\" + 0.007*\"many\" + 0.007*\"point\" + '\n",
      "  '0.007*\"mean\" + 0.006*\"must\"'),\n",
      " (14,\n",
      "  '0.015*\"israel\" + 0.012*\"israeli\" + 0.009*\"attack\" + 0.009*\"kill\" + '\n",
      "  '0.009*\"military\" + 0.008*\"hour\" + 0.008*\"land\" + 0.008*\"international\" + '\n",
      "  '0.008*\"committee\" + 0.007*\"soldier\"'),\n",
      " (15,\n",
      "  '0.020*\"mail\" + 0.017*\"information\" + 0.015*\"available\" + 0.015*\"include\" + '\n",
      "  '0.013*\"send\" + 0.012*\"program\" + 0.011*\"list\" + 0.010*\"ca\" + 0.010*\"also\" + '\n",
      "  '0.010*\"internet\"'),\n",
      " (16,\n",
      "  '0.029*\"key\" + 0.022*\"chip\" + 0.014*\"use\" + 0.013*\"system\" + 0.011*\"phone\" + '\n",
      "  '0.010*\"encryption\" + 0.010*\"bit\" + 0.010*\"technology\" + 0.009*\"wiretap\" + '\n",
      "  '0.009*\"device\"'),\n",
      " (17,\n",
      "  '0.025*\"christian\" + 0.023*\"god\" + 0.012*\"man\" + 0.011*\"life\" + '\n",
      "  '0.011*\"religion\" + 0.010*\"bible\" + 0.009*\"believe\" + 0.008*\"law\" + '\n",
      "  '0.008*\"belief\" + 0.008*\"die\"'),\n",
      " (18,\n",
      "  '0.051*\"not\" + 0.032*\"do\" + 0.022*\"say\" + 0.021*\"go\" + 0.019*\"would\" + '\n",
      "  '0.018*\"be\" + 0.015*\"think\" + 0.014*\"know\" + 0.014*\"s\" + 0.013*\"people\"'),\n",
      " (19,\n",
      "  '0.017*\"light\" + 0.015*\"rise\" + 0.015*\"paul\" + 0.012*\"fire\" + 0.011*\"edge\" + '\n",
      "  '0.010*\"building\" + 0.009*\"water\" + 0.009*\"teach\" + 0.008*\"mother\" + '\n",
      "  '0.008*\"girl\"')]\n"
     ]
    }
   ],
   "source": [
    "# Print the Keyword in the 10 topics\n",
    "pprint(lda_model.print_topics())\n",
    "doc_lda = lda_model[corpus]"
   ]
  },
  {
   "cell_type": "code",
   "execution_count": 17,
   "metadata": {},
   "outputs": [
    {
     "name": "stdout",
     "output_type": "stream",
     "text": [
      "\n",
      "Perplexity:  -8.754098376125084\n",
      "\n",
      "Coherence Score:  0.515758393754623\n"
     ]
    }
   ],
   "source": [
    "# Compute Perplexity\n",
    "print('\\nPerplexity: ', lda_model.log_perplexity(corpus))  # a measure of how good the model is. lower the better.\n",
    "\n",
    "# Compute Coherence Score\n",
    "coherence_model_lda = CoherenceModel(model=lda_model, texts=data_lemmatized, dictionary=id2word, coherence='c_v')\n",
    "coherence_lda = coherence_model_lda.get_coherence()\n",
    "print('\\nCoherence Score: ', coherence_lda)"
   ]
  },
  {
   "cell_type": "code",
   "execution_count": 18,
   "metadata": {
    "scrolled": true
   },
   "outputs": [
    {
     "name": "stderr",
     "output_type": "stream",
     "text": [
      "c:\\users\\wei\\appdata\\local\\conda\\conda\\envs\\py3.7\\lib\\site-packages\\pyLDAvis\\_prepare.py:257: FutureWarning: Sorting because non-concatenation axis is not aligned. A future version\n",
      "of pandas will change to not sort by default.\n",
      "\n",
      "To accept the future behavior, pass 'sort=False'.\n",
      "\n",
      "To retain the current behavior and silence the warning, pass 'sort=True'.\n",
      "\n",
      "  return pd.concat([default_term_info] + list(topic_dfs))\n"
     ]
    },
    {
     "data": {
      "text/html": [
       "\n",
       "<link rel=\"stylesheet\" type=\"text/css\" href=\"https://cdn.rawgit.com/bmabey/pyLDAvis/files/ldavis.v1.0.0.css\">\n",
       "\n",
       "\n",
       "<div id=\"ldavis_el1910023130851235842905435235\"></div>\n",
       "<script type=\"text/javascript\">\n",
       "\n",
       "var ldavis_el1910023130851235842905435235_data = {\"mdsDat\": {\"x\": [0.3368411221703198, 0.2910275494148645, 0.32883067212398326, 0.0917782684877773, 0.059630549958824185, -0.08500582646868139, 0.06074904848957923, -0.021541090768293972, -0.02290046269681231, -0.029243704594181893, -0.06299246623959598, -0.06288398361236276, -0.08888410599922818, -0.047752022245080954, -0.11145622537058514, -0.11368419357136707, -0.09243975487439895, -0.13420597828200465, -0.1642271575345482, -0.13164023838820726], \"y\": [-0.0011829762672672219, -0.0032487594363730557, -0.12812306261458914, 0.22647193252501063, 0.2224770929863063, -0.11307979620160279, -0.18316803767363318, -0.03667680570704511, -0.02131448025971252, 0.21970515042410346, -0.016657032894933872, 0.13943129125201933, -0.06264435857718828, -0.11743632737188496, 0.0037037364279230984, -0.023385379775007493, -0.1104977270326238, 0.0016507052599970778, -0.027994427130478883, 0.03196926206698114], \"topics\": [1, 2, 3, 4, 5, 6, 7, 8, 9, 10, 11, 12, 13, 14, 15, 16, 17, 18, 19, 20], \"cluster\": [1, 1, 1, 1, 1, 1, 1, 1, 1, 1, 1, 1, 1, 1, 1, 1, 1, 1, 1, 1], \"Freq\": [16.240535736083984, 15.222936630249023, 14.586681365966797, 6.162444591522217, 5.9737653732299805, 4.3441267013549805, 4.177628040313721, 3.603020668029785, 3.365298271179199, 3.271771192550659, 3.222933053970337, 2.9683315753936768, 2.740086317062378, 2.7311367988586426, 2.2918756008148193, 2.1244564056396484, 2.077360153198242, 1.6946263313293457, 1.6791995763778687, 1.5217983722686768]}, \"tinfo\": {\"Category\": [\"Default\", \"Default\", \"Default\", \"Default\", \"Default\", \"Default\", \"Default\", \"Default\", \"Default\", \"Default\", \"Default\", \"Default\", \"Default\", \"Default\", \"Default\", \"Default\", \"Default\", \"Default\", \"Default\", \"Default\", \"Default\", \"Default\", \"Default\", \"Default\", \"Default\", \"Default\", \"Default\", \"Default\", \"Default\", \"Default\", \"Topic1\", \"Topic1\", \"Topic1\", \"Topic1\", \"Topic1\", \"Topic1\", \"Topic1\", \"Topic1\", \"Topic1\", \"Topic1\", \"Topic1\", \"Topic1\", \"Topic1\", \"Topic1\", \"Topic1\", \"Topic1\", \"Topic1\", \"Topic1\", \"Topic1\", \"Topic1\", \"Topic1\", \"Topic1\", \"Topic1\", \"Topic1\", \"Topic1\", \"Topic1\", \"Topic1\", \"Topic1\", \"Topic1\", \"Topic1\", \"Topic1\", \"Topic1\", \"Topic1\", \"Topic1\", \"Topic1\", \"Topic1\", \"Topic1\", \"Topic1\", \"Topic1\", \"Topic1\", \"Topic1\", \"Topic1\", \"Topic1\", \"Topic1\", \"Topic1\", \"Topic1\", \"Topic1\", \"Topic1\", \"Topic1\", \"Topic1\", \"Topic1\", \"Topic1\", \"Topic1\", \"Topic1\", \"Topic1\", \"Topic1\", \"Topic1\", \"Topic1\", \"Topic1\", \"Topic1\", \"Topic1\", \"Topic1\", \"Topic1\", \"Topic1\", \"Topic1\", \"Topic2\", \"Topic2\", \"Topic2\", \"Topic2\", \"Topic2\", \"Topic2\", \"Topic2\", \"Topic2\", \"Topic2\", \"Topic2\", \"Topic2\", \"Topic2\", \"Topic2\", \"Topic2\", \"Topic2\", \"Topic2\", \"Topic2\", \"Topic2\", \"Topic2\", \"Topic2\", \"Topic2\", \"Topic2\", \"Topic2\", \"Topic2\", \"Topic2\", \"Topic2\", \"Topic2\", \"Topic2\", \"Topic2\", \"Topic2\", \"Topic2\", \"Topic2\", \"Topic2\", \"Topic2\", \"Topic2\", \"Topic2\", \"Topic2\", \"Topic2\", \"Topic2\", \"Topic2\", \"Topic2\", \"Topic2\", \"Topic2\", \"Topic2\", \"Topic2\", \"Topic2\", \"Topic2\", \"Topic2\", \"Topic2\", \"Topic2\", \"Topic2\", \"Topic2\", \"Topic2\", \"Topic2\", \"Topic2\", \"Topic2\", \"Topic2\", \"Topic2\", \"Topic2\", \"Topic2\", \"Topic2\", \"Topic2\", \"Topic2\", \"Topic2\", \"Topic2\", \"Topic2\", \"Topic2\", \"Topic2\", \"Topic2\", \"Topic2\", \"Topic2\", \"Topic2\", \"Topic2\", \"Topic2\", \"Topic2\", \"Topic3\", \"Topic3\", \"Topic3\", \"Topic3\", \"Topic3\", \"Topic3\", \"Topic3\", \"Topic3\", \"Topic3\", \"Topic3\", \"Topic3\", \"Topic3\", \"Topic3\", \"Topic3\", \"Topic3\", \"Topic3\", \"Topic3\", \"Topic3\", \"Topic3\", \"Topic3\", \"Topic3\", \"Topic3\", \"Topic3\", \"Topic3\", \"Topic3\", \"Topic3\", \"Topic3\", \"Topic3\", \"Topic3\", \"Topic3\", \"Topic3\", \"Topic3\", \"Topic3\", \"Topic3\", \"Topic3\", \"Topic3\", \"Topic3\", \"Topic3\", \"Topic3\", \"Topic3\", \"Topic3\", \"Topic3\", \"Topic3\", \"Topic3\", \"Topic3\", \"Topic3\", \"Topic3\", \"Topic3\", \"Topic3\", \"Topic3\", \"Topic3\", \"Topic3\", \"Topic3\", \"Topic3\", \"Topic3\", \"Topic3\", \"Topic3\", \"Topic3\", \"Topic3\", \"Topic3\", \"Topic3\", \"Topic3\", \"Topic3\", \"Topic3\", \"Topic3\", \"Topic3\", \"Topic3\", \"Topic3\", \"Topic3\", \"Topic3\", \"Topic3\", \"Topic4\", \"Topic4\", \"Topic4\", \"Topic4\", \"Topic4\", \"Topic4\", \"Topic4\", \"Topic4\", \"Topic4\", \"Topic4\", \"Topic4\", \"Topic4\", \"Topic4\", \"Topic4\", \"Topic4\", \"Topic4\", \"Topic4\", \"Topic4\", \"Topic4\", \"Topic4\", \"Topic4\", \"Topic4\", \"Topic4\", \"Topic4\", \"Topic4\", \"Topic4\", \"Topic4\", \"Topic4\", \"Topic4\", \"Topic4\", \"Topic4\", \"Topic4\", \"Topic4\", \"Topic4\", \"Topic4\", \"Topic4\", \"Topic4\", \"Topic4\", \"Topic4\", \"Topic4\", \"Topic4\", \"Topic4\", \"Topic4\", \"Topic4\", \"Topic4\", \"Topic4\", \"Topic4\", \"Topic4\", \"Topic4\", \"Topic4\", \"Topic4\", \"Topic5\", \"Topic5\", \"Topic5\", \"Topic5\", \"Topic5\", \"Topic5\", \"Topic5\", \"Topic5\", \"Topic5\", \"Topic5\", \"Topic5\", \"Topic5\", \"Topic5\", \"Topic5\", \"Topic5\", \"Topic5\", \"Topic5\", \"Topic5\", \"Topic5\", \"Topic5\", \"Topic5\", \"Topic5\", \"Topic5\", \"Topic5\", \"Topic5\", \"Topic5\", \"Topic5\", \"Topic5\", \"Topic5\", \"Topic5\", \"Topic5\", \"Topic5\", \"Topic5\", \"Topic5\", \"Topic5\", \"Topic5\", \"Topic5\", \"Topic5\", \"Topic5\", \"Topic5\", \"Topic5\", \"Topic5\", \"Topic5\", \"Topic5\", \"Topic5\", \"Topic5\", \"Topic5\", \"Topic5\", \"Topic5\", \"Topic5\", \"Topic5\", \"Topic5\", \"Topic5\", \"Topic5\", \"Topic5\", \"Topic6\", \"Topic6\", \"Topic6\", \"Topic6\", \"Topic6\", \"Topic6\", \"Topic6\", \"Topic6\", \"Topic6\", \"Topic6\", \"Topic6\", \"Topic6\", \"Topic6\", \"Topic6\", \"Topic6\", \"Topic6\", \"Topic6\", \"Topic6\", \"Topic6\", \"Topic6\", \"Topic6\", \"Topic6\", \"Topic6\", \"Topic6\", \"Topic6\", \"Topic6\", \"Topic6\", \"Topic6\", \"Topic6\", \"Topic6\", \"Topic7\", \"Topic7\", \"Topic7\", \"Topic7\", \"Topic7\", \"Topic7\", \"Topic7\", \"Topic7\", \"Topic7\", \"Topic7\", \"Topic7\", \"Topic7\", \"Topic7\", \"Topic7\", \"Topic7\", \"Topic7\", \"Topic7\", \"Topic7\", \"Topic7\", \"Topic7\", \"Topic7\", \"Topic7\", \"Topic7\", \"Topic7\", \"Topic7\", \"Topic7\", \"Topic7\", \"Topic7\", \"Topic7\", \"Topic7\", \"Topic7\", \"Topic7\", \"Topic7\", \"Topic7\", \"Topic7\", \"Topic7\", \"Topic7\", \"Topic7\", \"Topic7\", \"Topic7\", \"Topic7\", \"Topic7\", \"Topic7\", \"Topic7\", \"Topic7\", \"Topic7\", \"Topic8\", \"Topic8\", \"Topic8\", \"Topic8\", \"Topic8\", \"Topic8\", \"Topic8\", \"Topic8\", \"Topic8\", \"Topic8\", \"Topic8\", \"Topic8\", \"Topic8\", \"Topic8\", \"Topic8\", \"Topic8\", \"Topic8\", \"Topic8\", \"Topic8\", \"Topic8\", \"Topic8\", \"Topic8\", \"Topic8\", \"Topic8\", \"Topic8\", \"Topic8\", \"Topic8\", \"Topic8\", \"Topic8\", \"Topic8\", \"Topic8\", \"Topic8\", \"Topic8\", \"Topic8\", \"Topic8\", \"Topic8\", \"Topic8\", \"Topic8\", \"Topic8\", \"Topic8\", \"Topic8\", \"Topic8\", \"Topic8\", \"Topic8\", \"Topic8\", \"Topic8\", \"Topic8\", \"Topic8\", \"Topic8\", \"Topic9\", \"Topic9\", \"Topic9\", \"Topic9\", \"Topic9\", \"Topic9\", \"Topic9\", \"Topic9\", \"Topic9\", \"Topic9\", \"Topic9\", \"Topic9\", \"Topic9\", \"Topic9\", \"Topic9\", \"Topic9\", \"Topic9\", \"Topic9\", \"Topic9\", \"Topic9\", \"Topic9\", \"Topic9\", \"Topic9\", \"Topic9\", \"Topic9\", \"Topic9\", \"Topic9\", \"Topic9\", \"Topic9\", \"Topic9\", \"Topic9\", \"Topic9\", \"Topic9\", \"Topic9\", \"Topic9\", \"Topic9\", \"Topic9\", \"Topic9\", \"Topic9\", \"Topic9\", \"Topic9\", \"Topic9\", \"Topic9\", \"Topic9\", \"Topic9\", \"Topic9\", \"Topic10\", \"Topic10\", \"Topic10\", \"Topic10\", \"Topic10\", \"Topic10\", \"Topic10\", \"Topic10\", \"Topic10\", \"Topic10\", \"Topic10\", \"Topic10\", \"Topic10\", \"Topic10\", \"Topic10\", \"Topic10\", \"Topic10\", \"Topic10\", \"Topic10\", \"Topic10\", \"Topic10\", \"Topic10\", \"Topic10\", \"Topic10\", \"Topic10\", \"Topic10\", \"Topic10\", \"Topic10\", \"Topic10\", \"Topic10\", \"Topic10\", \"Topic10\", \"Topic10\", \"Topic10\", \"Topic10\", \"Topic10\", \"Topic10\", \"Topic10\", \"Topic10\", \"Topic10\", \"Topic10\", \"Topic10\", \"Topic10\", \"Topic10\", \"Topic10\", \"Topic10\", \"Topic10\", \"Topic11\", \"Topic11\", \"Topic11\", \"Topic11\", \"Topic11\", \"Topic11\", \"Topic11\", \"Topic11\", \"Topic11\", \"Topic11\", \"Topic11\", \"Topic11\", \"Topic11\", \"Topic11\", \"Topic11\", \"Topic11\", \"Topic11\", \"Topic11\", \"Topic11\", \"Topic11\", \"Topic11\", \"Topic11\", \"Topic11\", \"Topic11\", \"Topic11\", \"Topic11\", \"Topic11\", \"Topic11\", \"Topic11\", \"Topic11\", \"Topic11\", \"Topic11\", \"Topic11\", \"Topic11\", \"Topic11\", \"Topic11\", \"Topic11\", \"Topic11\", \"Topic11\", \"Topic11\", \"Topic11\", \"Topic11\", \"Topic11\", \"Topic11\", \"Topic11\", \"Topic11\", \"Topic11\", \"Topic11\", \"Topic11\", \"Topic11\", \"Topic11\", \"Topic11\", \"Topic12\", \"Topic12\", \"Topic12\", \"Topic12\", \"Topic12\", \"Topic12\", \"Topic12\", \"Topic12\", \"Topic12\", \"Topic12\", \"Topic12\", \"Topic12\", \"Topic12\", \"Topic12\", \"Topic12\", \"Topic12\", \"Topic12\", \"Topic12\", \"Topic12\", \"Topic12\", \"Topic12\", \"Topic12\", \"Topic12\", \"Topic12\", \"Topic12\", \"Topic12\", \"Topic12\", \"Topic12\", \"Topic12\", \"Topic12\", \"Topic12\", \"Topic12\", \"Topic12\", \"Topic12\", \"Topic12\", \"Topic12\", \"Topic12\", \"Topic12\", \"Topic12\", \"Topic12\", \"Topic12\", \"Topic12\", \"Topic12\", \"Topic12\", \"Topic12\", \"Topic12\", \"Topic12\", \"Topic13\", \"Topic13\", \"Topic13\", \"Topic13\", \"Topic13\", \"Topic13\", \"Topic13\", \"Topic13\", \"Topic13\", \"Topic13\", \"Topic13\", \"Topic13\", \"Topic13\", \"Topic13\", \"Topic13\", \"Topic13\", \"Topic13\", \"Topic13\", \"Topic13\", \"Topic13\", \"Topic13\", \"Topic13\", \"Topic13\", \"Topic13\", \"Topic13\", \"Topic13\", \"Topic13\", \"Topic13\", \"Topic13\", \"Topic13\", \"Topic13\", \"Topic13\", \"Topic13\", \"Topic13\", \"Topic13\", \"Topic13\", \"Topic13\", \"Topic13\", \"Topic13\", \"Topic13\", \"Topic13\", \"Topic13\", \"Topic13\", \"Topic13\", \"Topic13\", \"Topic13\", \"Topic13\", \"Topic13\", \"Topic13\", \"Topic14\", \"Topic14\", \"Topic14\", \"Topic14\", \"Topic14\", \"Topic14\", \"Topic14\", \"Topic14\", \"Topic14\", \"Topic14\", \"Topic14\", \"Topic14\", \"Topic14\", \"Topic14\", \"Topic14\", \"Topic14\", \"Topic14\", \"Topic14\", \"Topic14\", \"Topic14\", \"Topic14\", \"Topic14\", \"Topic14\", \"Topic14\", \"Topic14\", \"Topic14\", \"Topic14\", \"Topic14\", \"Topic14\", \"Topic14\", \"Topic14\", \"Topic14\", \"Topic14\", \"Topic14\", \"Topic14\", \"Topic14\", \"Topic14\", \"Topic14\", \"Topic14\", \"Topic14\", \"Topic14\", \"Topic14\", \"Topic15\", \"Topic15\", \"Topic15\", \"Topic15\", \"Topic15\", \"Topic15\", \"Topic15\", \"Topic15\", \"Topic15\", \"Topic15\", \"Topic15\", \"Topic15\", \"Topic15\", \"Topic15\", \"Topic15\", \"Topic15\", \"Topic15\", \"Topic15\", \"Topic15\", \"Topic15\", \"Topic15\", \"Topic15\", \"Topic15\", \"Topic15\", \"Topic15\", \"Topic15\", \"Topic15\", \"Topic15\", \"Topic15\", \"Topic15\", \"Topic15\", \"Topic15\", \"Topic15\", \"Topic15\", \"Topic15\", \"Topic15\", \"Topic15\", \"Topic15\", \"Topic15\", \"Topic15\", \"Topic15\", \"Topic15\", \"Topic16\", \"Topic16\", \"Topic16\", \"Topic16\", \"Topic16\", \"Topic16\", \"Topic16\", \"Topic16\", \"Topic16\", \"Topic16\", \"Topic16\", \"Topic16\", \"Topic16\", \"Topic16\", \"Topic16\", \"Topic16\", \"Topic16\", \"Topic16\", \"Topic16\", \"Topic16\", \"Topic16\", \"Topic16\", \"Topic16\", \"Topic16\", \"Topic16\", \"Topic16\", \"Topic16\", \"Topic16\", \"Topic16\", \"Topic16\", \"Topic16\", \"Topic16\", \"Topic16\", \"Topic16\", \"Topic16\", \"Topic16\", \"Topic16\", \"Topic16\", \"Topic16\", \"Topic16\", \"Topic16\", \"Topic16\", \"Topic16\", \"Topic16\", \"Topic16\", \"Topic17\", \"Topic17\", \"Topic17\", \"Topic17\", \"Topic17\", \"Topic17\", \"Topic17\", \"Topic17\", \"Topic17\", \"Topic17\", \"Topic17\", \"Topic17\", \"Topic17\", \"Topic17\", \"Topic17\", \"Topic17\", \"Topic17\", \"Topic17\", \"Topic17\", \"Topic17\", \"Topic17\", \"Topic17\", \"Topic17\", \"Topic17\", \"Topic17\", \"Topic17\", \"Topic17\", \"Topic17\", \"Topic17\", \"Topic17\", \"Topic17\", \"Topic17\", \"Topic17\", \"Topic17\", \"Topic17\", \"Topic17\", \"Topic17\", \"Topic17\", \"Topic18\", \"Topic18\", \"Topic18\", \"Topic18\", \"Topic18\", \"Topic18\", \"Topic18\", \"Topic18\", \"Topic18\", \"Topic18\", \"Topic18\", \"Topic18\", \"Topic18\", \"Topic18\", \"Topic18\", \"Topic18\", \"Topic18\", \"Topic18\", \"Topic18\", \"Topic18\", \"Topic18\", \"Topic18\", \"Topic18\", \"Topic18\", \"Topic18\", \"Topic18\", \"Topic18\", \"Topic18\", \"Topic18\", \"Topic18\", \"Topic18\", \"Topic18\", \"Topic18\", \"Topic18\", \"Topic18\", \"Topic18\", \"Topic18\", \"Topic18\", \"Topic18\", \"Topic18\", \"Topic18\", \"Topic18\", \"Topic18\", \"Topic19\", \"Topic19\", \"Topic19\", \"Topic19\", \"Topic19\", \"Topic19\", \"Topic19\", \"Topic19\", \"Topic19\", \"Topic19\", \"Topic19\", \"Topic19\", \"Topic19\", \"Topic19\", \"Topic19\", \"Topic19\", \"Topic19\", \"Topic19\", \"Topic19\", \"Topic19\", \"Topic19\", \"Topic19\", \"Topic19\", \"Topic19\", \"Topic19\", \"Topic19\", \"Topic19\", \"Topic19\", \"Topic19\", \"Topic19\", \"Topic19\", \"Topic19\", \"Topic19\", \"Topic20\", \"Topic20\", \"Topic20\", \"Topic20\", \"Topic20\", \"Topic20\", \"Topic20\", \"Topic20\", \"Topic20\", \"Topic20\", \"Topic20\", \"Topic20\", \"Topic20\", \"Topic20\", \"Topic20\", \"Topic20\", \"Topic20\", \"Topic20\", \"Topic20\", \"Topic20\", \"Topic20\", \"Topic20\", \"Topic20\", \"Topic20\", \"Topic20\", \"Topic20\", \"Topic20\", \"Topic20\", \"Topic20\", \"Topic20\", \"Topic20\", \"Topic20\", \"Topic20\", \"Topic20\", \"Topic20\", \"Topic20\", \"Topic20\", \"Topic20\", \"Topic20\", \"Topic20\", \"Topic20\", \"Topic20\"], \"Freq\": [57084.0, 12491.0, 16290.0, 11142.0, 3844.0, 10452.0, 9655.0, 7586.0, 8046.0, 11782.0, 6905.0, 5803.0, 4407.0, 4083.0, 6852.0, 5027.0, 1863.0, 2294.0, 3735.0, 7291.0, 3461.0, 4598.0, 1540.0, 1949.0, 3005.0, 1685.0, 1746.0, 1464.0, 3380.0, 2012.0, 4406.6962890625, 2749.930908203125, 1502.7001953125, 1198.58349609375, 707.7848510742188, 632.7980346679688, 606.7853393554688, 589.2943115234375, 514.6240844726562, 414.5259704589844, 404.4638366699219, 400.43798828125, 11115.169921875, 392.8363342285156, 380.16473388671875, 618.2872314453125, 335.0475769042969, 330.5478210449219, 316.16143798828125, 316.1495361328125, 315.2911682128906, 307.7691345214844, 306.0272521972656, 293.78228759765625, 268.81463623046875, 265.7656555175781, 263.7517395019531, 253.1756134033203, 252.90447998046875, 251.0811309814453, 12243.32421875, 4020.861572265625, 4635.1845703125, 2448.9638671875, 6735.7900390625, 589.9818725585938, 8024.4619140625, 634.7109985351562, 557.0638427734375, 616.3480834960938, 771.1118774414062, 3291.525146484375, 783.2243041992188, 3747.692138671875, 1599.8648681640625, 2091.49462890625, 5045.0390625, 1906.918212890625, 3703.941162109375, 3133.293212890625, 1570.7161865234375, 1464.3707275390625, 3959.92578125, 1216.47998046875, 1605.111572265625, 1442.986572265625, 1368.3592529296875, 977.5745239257812, 1363.1766357421875, 2120.282470703125, 1597.0977783203125, 1224.25634765625, 1355.7471923828125, 1424.9005126953125, 1247.12841796875, 1073.544677734375, 683.2966918945312, 567.0565795898438, 519.3059692382812, 483.4264221191406, 439.37335205078125, 408.7599792480469, 399.6944274902344, 397.989013671875, 388.4665832519531, 377.7004089355469, 380.0821228027344, 354.9371032714844, 339.3110046386719, 315.9395446777344, 303.7232666015625, 301.82403564453125, 297.4905090332031, 294.4967346191406, 290.0857238769531, 279.607666015625, 275.98223876953125, 275.4183654785156, 267.75152587890625, 255.5365447998047, 255.20135498046875, 251.0078582763672, 247.00343322753906, 246.0357208251953, 244.9654083251953, 466.81793212890625, 745.988037109375, 609.4517822265625, 412.9215393066406, 1426.69775390625, 403.4331970214844, 1177.8243408203125, 633.1119384765625, 642.4542236328125, 546.930908203125, 1029.2725830078125, 907.7314453125, 778.1254272460938, 852.897705078125, 1183.9058837890625, 1572.5599365234375, 1293.1947021484375, 1450.4039306640625, 984.80126953125, 1626.054443359375, 930.5018920898438, 1044.2530517578125, 2616.263427734375, 1679.2574462890625, 1042.8389892578125, 1765.10693359375, 754.7490844726562, 1695.6292724609375, 1077.92138671875, 1094.3519287109375, 724.8568725585938, 2088.03125, 966.7197875976562, 1701.3851318359375, 1768.9781494140625, 1007.6143798828125, 1424.0169677734375, 2336.87353515625, 1223.5625, 1047.3128662109375, 1024.3287353515625, 1267.749755859375, 1323.167236328125, 1030.67529296875, 992.8424682617188, 985.5531005859375, 759.0753173828125, 679.8889770507812, 621.269775390625, 562.170654296875, 491.7293701171875, 456.6790771484375, 325.90191650390625, 315.56805419921875, 312.1733703613281, 312.1020202636719, 311.8403015136719, 311.56365966796875, 278.4265441894531, 264.84637451171875, 264.2472839355469, 262.6583557128906, 260.6435852050781, 242.01226806640625, 226.98826599121094, 224.09011840820312, 216.5911102294922, 210.19192504882812, 208.88009643554688, 193.87013244628906, 193.0269775390625, 188.8960418701172, 175.89430236816406, 173.04347229003906, 171.20074462890625, 1253.09033203125, 806.2230224609375, 306.3575134277344, 3325.894775390625, 4888.513671875, 335.2751159667969, 322.2130432128906, 1009.3236694335938, 792.3719482421875, 11931.099609375, 697.187255859375, 5183.47802734375, 7451.4404296875, 2046.3358154296875, 449.4231262207031, 1064.900390625, 1480.0543212890625, 2489.08544921875, 1337.7685546875, 3563.552978515625, 1744.9229736328125, 2382.0703125, 1444.330322265625, 484.3455810546875, 3011.62158203125, 4342.013671875, 1968.8524169921875, 2499.519287109375, 3360.354248046875, 4372.8701171875, 1920.38232421875, 2428.2568359375, 2629.76220703125, 1768.1282958984375, 1548.1746826171875, 2173.276123046875, 1620.6895751953125, 1462.489501953125, 1477.0118408203125, 1321.710693359375, 1506.9122314453125, 2293.28271484375, 862.0211791992188, 823.8833618164062, 682.2396850585938, 671.179443359375, 657.4917602539062, 595.48193359375, 593.6996459960938, 576.5733642578125, 528.5443725585938, 497.8731384277344, 496.43023681640625, 457.610595703125, 426.62353515625, 393.32147216796875, 382.28466796875, 378.00140380859375, 368.7716369628906, 359.62066650390625, 355.75299072265625, 339.7734375, 334.48663330078125, 329.0396728515625, 320.4443664550781, 313.0457458496094, 310.1292724609375, 309.58258056640625, 298.04620361328125, 286.23468017578125, 271.43585205078125, 1951.2962646484375, 1704.1539306640625, 764.5458984375, 557.1442260742188, 467.9913024902344, 579.235107421875, 757.3180541992188, 1394.312255859375, 1286.8277587890625, 1032.40869140625, 1071.0780029296875, 1316.94384765625, 706.4898071289062, 583.3546142578125, 577.0234375, 777.5211181640625, 578.134521484375, 848.3027954101562, 562.586181640625, 516.4295654296875, 524.6110229492188, 1948.1143798828125, 923.3883666992188, 874.157470703125, 761.5247802734375, 719.0806274414062, 635.0999755859375, 593.1911010742188, 538.47802734375, 468.74462890625, 406.0257568359375, 396.3466796875, 384.4886779785156, 359.10797119140625, 355.5474548339844, 349.6986083984375, 348.5461120605469, 314.4409484863281, 312.52020263671875, 301.2745056152344, 282.77679443359375, 255.36053466796875, 250.30230712890625, 230.38214111328125, 226.33786010742188, 221.1210174560547, 217.91905212402344, 207.98883056640625, 204.6935272216797, 204.2443084716797, 195.5954132080078, 448.0518798828125, 1466.308837890625, 991.5882568359375, 1084.1729736328125, 1216.942626953125, 1419.3475341796875, 1598.37646484375, 610.2805786132812, 580.576416015625, 825.49560546875, 1152.4058837890625, 777.1802978515625, 669.018798828125, 891.92919921875, 802.515869140625, 652.8240356445312, 591.9449462890625, 599.8526611328125, 508.6391296386719, 607.3172607421875, 926.8873291015625, 698.227783203125, 676.9874267578125, 626.0396728515625, 631.2755126953125, 57083.453125, 238.13101196289062, 227.2552490234375, 209.48402404785156, 172.6690216064453, 164.6143798828125, 153.5841522216797, 148.92083740234375, 134.43397521972656, 133.5517120361328, 128.1994171142578, 124.61182403564453, 116.84628295898438, 108.88982391357422, 98.87093353271484, 97.9120101928711, 91.44407653808594, 86.70889282226562, 84.86174011230469, 84.43335723876953, 79.09986114501953, 77.21493530273438, 69.82666778564453, 64.73167419433594, 60.789337158203125, 60.7679443359375, 60.60337829589844, 60.57315444946289, 59.645938873291016, 58.14651870727539, 1684.0567626953125, 1576.86572265625, 713.1712646484375, 640.7713012695312, 542.505615234375, 506.4204406738281, 489.39874267578125, 482.2510070800781, 450.7334289550781, 392.85980224609375, 376.4840393066406, 343.4460144042969, 321.3905944824219, 291.3887939453125, 290.09613037109375, 256.2950744628906, 251.55899047851562, 244.36215209960938, 237.14736938476562, 236.9759979248047, 231.08407592773438, 230.40792846679688, 220.05880737304688, 209.43362426757812, 203.7176513671875, 198.13873291015625, 194.24586486816406, 191.1336669921875, 190.43515014648438, 187.38690185546875, 508.7303161621094, 840.3041381835938, 534.0453491210938, 533.9512329101562, 733.8806762695312, 251.34901428222656, 552.0714721679688, 608.9423828125, 417.84881591796875, 431.73883056640625, 346.2891845703125, 301.8852844238281, 448.1372375488281, 271.893310546875, 290.2596435546875, 258.341064453125, 356.162841796875, 349.4657897949219, 320.4148254394531, 314.4274597167969, 310.6668701171875, 310.204833984375, 303.17327880859375, 296.36773681640625, 289.8713684082031, 258.2808532714844, 255.72486877441406, 254.46182250976562, 248.2371826171875, 231.9827423095703, 228.491943359375, 220.18907165527344, 217.32444763183594, 214.75270080566406, 198.2084197998047, 192.19659423828125, 191.932861328125, 187.31036376953125, 182.36949157714844, 173.09117126464844, 169.72991943359375, 147.17361450195312, 145.7788848876953, 145.6553955078125, 144.01483154296875, 142.90992736816406, 429.6354675292969, 296.06793212890625, 285.2074279785156, 515.4287719726562, 280.8981628417969, 638.475341796875, 496.591064453125, 330.6907958984375, 550.6780395507812, 400.357666015625, 221.52658081054688, 268.2611389160156, 517.1513671875, 329.25946044921875, 284.5907287597656, 315.81182861328125, 321.10491943359375, 244.94728088378906, 256.28662109375, 1314.4769287109375, 633.8390502929688, 566.6297607421875, 549.0196533203125, 426.4222412109375, 414.0097351074219, 399.7438049316406, 367.618408203125, 365.8663635253906, 365.71490478515625, 300.70220947265625, 260.70184326171875, 245.6094207763672, 243.90493774414062, 232.8391571044922, 227.66586303710938, 220.19154357910156, 203.74371337890625, 192.41246032714844, 178.61260986328125, 173.3768310546875, 172.53076171875, 157.96742248535156, 156.93397521972656, 154.9475555419922, 140.66928100585938, 135.99969482421875, 134.873046875, 134.3402099609375, 126.97573852539062, 1613.6204833984375, 295.2045593261719, 251.82032775878906, 200.7174835205078, 697.243408203125, 1184.336669921875, 307.20806884765625, 570.1735229492188, 941.7908935546875, 811.32666015625, 267.92742919921875, 280.17767333984375, 249.99790954589844, 298.1873474121094, 232.02685546875, 230.16259765625, 1505.33203125, 1181.456298828125, 546.786865234375, 495.6607971191406, 447.6954345703125, 430.5579528808594, 388.620361328125, 353.1366271972656, 319.93682861328125, 289.9025573730469, 279.1147766113281, 272.60455322265625, 270.6925964355469, 270.3316650390625, 239.28463745117188, 228.5962371826172, 225.98434448242188, 218.48402404785156, 214.73388671875, 214.37217712402344, 200.70770263671875, 195.74111938476562, 190.99728393554688, 189.0192108154297, 186.72024536132812, 184.56716918945312, 176.26991271972656, 173.0920867919922, 170.35231018066406, 169.1624755859375, 296.0513000488281, 349.9010925292969, 568.6434936523438, 476.9810791015625, 311.0902404785156, 266.6255798339844, 518.166748046875, 526.6967163085938, 667.2853393554688, 730.86181640625, 389.891357421875, 240.08262634277344, 303.09564208984375, 345.60198974609375, 260.88458251953125, 334.32232666015625, 329.22100830078125, 3843.229736328125, 533.090576171875, 352.2657775878906, 308.82904052734375, 289.17626953125, 288.0994873046875, 271.06842041015625, 266.7609558105469, 231.5621795654297, 222.01492309570312, 215.90130615234375, 213.91725158691406, 191.94471740722656, 191.6039276123047, 188.4318389892578, 188.09060668945312, 178.81309509277344, 176.24928283691406, 173.99940490722656, 171.22293090820312, 168.23777770996094, 166.1105499267578, 159.00485229492188, 157.36477661132812, 156.80935668945312, 154.26504516601562, 152.69642639160156, 150.89776611328125, 148.80772399902344, 148.32168579101562, 158.1112518310547, 290.25933837890625, 926.102783203125, 191.80596923828125, 275.5939025878906, 772.1100463867188, 550.7778930664062, 215.78518676757812, 241.51402282714844, 637.28125, 360.5419006347656, 300.488037109375, 368.6991271972656, 299.6374206542969, 326.4785461425781, 447.8982238769531, 726.1866455078125, 260.3102111816406, 252.72463989257812, 294.02593994140625, 256.025634765625, 240.21958923339844, 1862.1214599609375, 429.9173278808594, 391.67059326171875, 322.6940612792969, 313.02850341796875, 285.1499328613281, 279.5422058105469, 274.8968811035156, 270.8076477050781, 254.6627960205078, 238.5391387939453, 233.72216796875, 208.55410766601562, 207.4859161376953, 202.62147521972656, 200.7240447998047, 199.9932098388672, 199.11326599121094, 171.7977294921875, 170.39308166503906, 168.56192016601562, 163.06761169433594, 152.2460174560547, 151.8205108642578, 144.8299560546875, 140.02378845214844, 134.88531494140625, 130.81146240234375, 128.05751037597656, 126.16024017333984, 234.17776489257812, 406.4955139160156, 354.7797546386719, 176.8136749267578, 225.3377685546875, 528.2948608398438, 271.0259094238281, 387.7248840332031, 329.2803955078125, 209.7057342529297, 250.97943115234375, 232.48580932617188, 260.2617492675781, 229.32574462890625, 270.4755554199219, 211.57484436035156, 203.81442260742188, 669.470458984375, 516.6187744140625, 344.1079406738281, 309.4018859863281, 293.5515441894531, 223.45848083496094, 218.76443481445312, 218.30397033691406, 260.49005126953125, 212.0120086669922, 179.74234008789062, 173.70050048828125, 172.7064666748047, 166.99087524414062, 163.46942138671875, 161.9318389892578, 159.72842407226562, 158.58680725097656, 148.2329864501953, 145.7781219482422, 145.35504150390625, 142.1954803466797, 140.82211303710938, 137.57704162597656, 135.45895385742188, 135.17050170898438, 126.84663391113281, 114.94508361816406, 113.30770874023438, 112.87599182128906, 205.72122192382812, 142.12918090820312, 342.3951110839844, 419.71881103515625, 376.061279296875, 357.3428649902344, 212.41519165039062, 362.01849365234375, 221.9786376953125, 394.9197692871094, 252.15573120117188, 263.3267517089844, 267.7321472167969, 199.0977325439453, 165.83743286132812, 169.63241577148438, 174.21298217773438, 168.3408203125, 168.2216033935547, 1539.3590087890625, 1463.4649658203125, 837.0399169921875, 685.0968627929688, 567.97802734375, 499.16265869140625, 454.9021301269531, 387.8381042480469, 375.62274169921875, 364.6916809082031, 280.2019348144531, 259.6222839355469, 224.0999755859375, 218.3622589111328, 217.54310607910156, 212.79258728027344, 210.75164794921875, 206.8506622314453, 201.3628692626953, 186.02532958984375, 173.54942321777344, 173.23789978027344, 172.7054901123047, 170.80902099609375, 168.6002197265625, 163.6573028564453, 160.36376953125, 155.6239776611328, 154.92977905273438, 154.89678955078125, 290.72015380859375, 766.015380859375, 751.8004150390625, 197.90151977539062, 259.71417236328125, 246.745361328125, 484.82525634765625, 217.14694213867188, 235.40536499023438, 188.1103973388672, 221.39967346191406, 192.68984985351562, 528.7529907226562, 424.0336608886719, 387.88934326171875, 381.39794921875, 373.04168701171875, 360.5201416015625, 355.83203125, 308.6090087890625, 267.1359558105469, 231.65834045410156, 227.55455017089844, 224.20362854003906, 217.59967041015625, 216.51043701171875, 211.46441650390625, 208.76708984375, 206.1536407470703, 192.58660888671875, 180.2897491455078, 173.65158081054688, 172.07008361816406, 167.18832397460938, 159.9922332763672, 159.47549438476562, 157.9630584716797, 156.32493591308594, 155.44004821777344, 152.84921264648438, 152.75909423828125, 152.1209716796875, 367.9357604980469, 718.5144653320312, 447.9073791503906, 365.45458984375, 195.4929962158203, 180.9706573486328, 229.19735717773438, 238.3765106201172, 263.34698486328125, 251.70639038085938, 230.9757843017578, 188.60452270507812, 514.0282592773438, 508.6586608886719, 374.212158203125, 305.1606140136719, 297.9125671386719, 282.6092529296875, 280.0196228027344, 259.068603515625, 231.0336456298828, 227.79690551757812, 224.4055938720703, 210.53646850585938, 197.435546875, 176.2500762939453, 175.81285095214844, 155.4965057373047, 144.98834228515625, 144.13853454589844, 126.04740905761719, 120.67033386230469, 120.29637145996094, 113.73945617675781, 112.22037506103516, 111.9095687866211, 111.72969818115234, 108.62193298339844, 106.82321166992188, 106.14220428466797, 103.23051452636719, 103.09233856201172, 251.92160034179688, 598.15966796875, 196.00340270996094, 347.8255310058594, 184.94509887695312, 222.68980407714844, 230.83035278320312, 161.9574432373047, 420.46295166015625, 197.47698974609375, 265.2271728515625, 189.2407684326172, 157.4554901123047, 152.0480194091797, 166.59169006347656, 1340.850830078125, 432.0257873535156, 380.5918273925781, 377.1331481933594, 355.19696044921875, 330.70611572265625, 217.3489532470703, 215.4993438720703, 210.6915740966797, 209.61634826660156, 207.52810668945312, 201.7386016845703, 198.8876953125, 194.37281799316406, 190.33616638183594, 171.63075256347656, 170.88096618652344, 148.6856689453125, 148.0430145263672, 142.75514221191406, 138.01443481445312, 129.77484130859375, 129.1321258544922, 127.20332336425781, 122.98869323730469, 120.01725006103516, 118.36659240722656, 118.08052062988281, 111.41799926757812, 109.09596252441406, 150.71820068359375, 363.03680419921875, 170.97789001464844, 226.02499389648438, 135.32981872558594, 131.0017852783203, 135.95419311523438, 131.21400451660156, 719.92626953125, 464.3193359375, 405.0675048828125, 363.6565246582031, 360.1106872558594, 299.9791259765625, 291.4630126953125, 280.6223449707031, 213.54307556152344, 190.52859497070312, 190.18649291992188, 183.99676513671875, 154.44895935058594, 145.4285125732422, 144.4534912109375, 144.17042541503906, 140.73948669433594, 128.8885498046875, 128.71656799316406, 123.6163101196289, 121.43641662597656, 120.29718780517578, 113.40618133544922, 106.87333679199219, 102.71528625488281, 102.13360595703125, 100.73809051513672, 94.90147399902344, 90.08724975585938, 87.18794250488281, 416.10516357421875, 140.59181213378906, 191.8909912109375, 348.998779296875, 114.77537536621094, 142.72378540039062, 154.7376708984375, 127.92561340332031, 212.53729248046875, 216.28895568847656, 156.020263671875, 168.1345977783203, 141.19711303710938, 916.08837890625, 791.2371826171875, 568.9830322265625, 324.8670349121094, 324.0753479003906, 299.4453125, 192.6447296142578, 180.6607208251953, 151.02313232421875, 144.9595184326172, 137.8147430419922, 130.78216552734375, 129.95126342773438, 123.31987762451172, 121.87244415283203, 120.22954559326172, 115.4313735961914, 104.50508880615234, 103.27406311035156, 96.74303436279297, 95.37848663330078, 92.3016586303711, 88.63967895507812, 82.76112365722656, 80.73475646972656, 77.77972412109375, 76.34915924072266, 75.31233215332031, 73.33670043945312, 72.9510726928711, 382.83587646484375, 77.97732543945312, 109.83380889892578, 479.4476318359375, 464.2445068359375, 355.9383239746094, 315.38690185546875, 188.45169067382812, 171.7903289794922, 167.182373046875, 160.84510803222656, 160.56346130371094, 159.07386779785156, 144.8594512939453, 123.24455261230469, 119.37039947509766, 117.6229248046875, 113.02560424804688, 112.21625518798828, 107.55645751953125, 101.31193542480469, 97.98748016357422, 92.96212005615234, 92.55941009521484, 91.10305786132812, 88.57445526123047, 87.8973388671875, 85.06201171875, 83.13118743896484, 80.99266815185547, 75.67069244384766, 71.41954803466797, 71.19224548339844, 261.7367248535156, 378.3464050292969, 142.24464416503906, 497.6876525878906, 247.9632110595703, 184.9239044189453, 147.24818420410156, 154.6332550048828, 102.33348846435547, 104.8160400390625, 107.79045104980469, 99.07892608642578], \"Term\": [\"ax\", \"line\", \"not\", \"organization\", \"max\", \"do\", \"write\", \"article\", \"be\", \"would\", \"say\", \"go\", \"nntp_post\", \"host\", \"get\", \"university\", \"space\", \"window\", \"s\", \"know\", \"year\", \"use\", \"game\", \"mail\", \"right\", \"christian\", \"government\", \"team\", \"system\", \"card\", \"nntp_post\", \"anyone\", \"car\", \"buy\", \"bike\", \"nice\", \"memory\", \"anybody\", \"display\", \"oil\", \"chicago\", \"door\", \"organization\", \"engine\", \"air\", \"robert\", \"stick\", \"engineering\", \"originator\", \"insurance\", \"dod\", \"advice\", \"battery\", \"limit\", \"internal\", \"auto\", \"motor\", \"hole\", \"texas\", \"wall\", \"line\", \"host\", \"university\", \"reply\", \"article\", \"wonder\", \"write\", \"sound\", \"distribution_usa\", \"like\", \"distribution_world\", \"good\", \"inc\", \"get\", \"thank\", \"look\", \"would\", \"need\", \"be\", \"know\", \"much\", \"have\", \"not\", \"help\", \"want\", \"try\", \"new\", \"lot\", \"work\", \"do\", \"time\", \"problem\", \"may\", \"make\", \"could\", \"president\", \"argument\", \"statement\", \"decision\", \"jew\", \"arab\", \"clearly\", \"attempt\", \"russian\", \"genocide\", \"respect\", \"discuss\", \"context\", \"atheist\", \"punishment\", \"theory\", \"msg\", \"authority\", \"german\", \"party\", \"imply\", \"concept\", \"instance\", \"principle\", \"promise\", \"physical\", \"posting\", \"establish\", \"deity\", \"worship\", \"term\", \"rule\", \"present\", \"sense\", \"claim\", \"concern\", \"exist\", \"discussion\", \"clear\", \"thus\", \"answer\", \"view\", \"yet\", \"example\", \"true\", \"must\", \"reason\", \"fact\", \"rather\", \"mean\", \"issue\", \"however\", \"may\", \"point\", \"consider\", \"question\", \"perhaps\", \"many\", \"part\", \"world\", \"accept\", \"make\", \"word\", \"also\", \"people\", \"follow\", \"give\", \"would\", \"way\", \"read\", \"group\", \"say\", \"write\", \"see\", \"time\", \"mr_stephanopoulo\", \"kid\", \"hell\", \"job\", \"drug\", \"stand\", \"matthew\", \"peace\", \"health\", \"doctor\", \"should\", \"imagine\", \"hate\", \"somewhere\", \"stay\", \"firearm\", \"trial\", \"hurt\", \"neighbor\", \"weekend\", \"stupid\", \"davidian\", \"laugh\", \"coverage\", \"last_night\", \"complain\", \"ohio\", \"statistic\", \"economic\", \"newsletter\", \"happen\", \"face\", \"forget\", \"s\", \"go\", \"boy\", \"smith\", \"that\", \"away\", \"not\", \"money\", \"say\", \"do\", \"tell\", \"tax\", \"talk\", \"start\", \"take\", \"let\", \"think\", \"day\", \"come\", \"never\", \"young\", \"people\", \"be\", \"even\", \"see\", \"know\", \"would\", \"could\", \"time\", \"get\", \"want\", \"well\", \"make\", \"thing\", \"have\", \"year\", \"right\", \"good\", \"window\", \"color\", \"graphic\", \"machine\", \"mode\", \"format\", \"video\", \"mac\", \"peter\", \"screen\", \"hd\", \"ram\", \"pc\", \"font\", \"vlb\", \"mouse\", \"scsi\", \"port\", \"setup\", \"xfree\", \"laptop\", \"tape\", \"meg\", \"client\", \"vesa\", \"controller\", \"modem\", \"vga\", \"ide\", \"gif\", \"card\", \"file\", \"board\", \"monitor\", \"instal\", \"disk\", \"driver\", \"drive\", \"system\", \"run\", \"problem\", \"use\", \"bit\", \"standard\", \"email\", \"work\", \"set\", \"do\", \"support\", \"version\", \"help\", \"mail\", \"internet\", \"advance\", \"server\", \"access\", \"sun\", \"package\", \"newsgroup\", \"library\", \"directory\", \"corporation\", \"mit\", \"pin\", \"illinois\", \"material\", \"motif\", \"moon\", \"upgrade\", \"pub\", \"purchase\", \"genoa\", \"ftp\", \"mailing_list\", \"brave\", \"quick\", \"speaker\", \"terminal\", \"editor\", \"urbana\", \"cpu\", \"site\", \"available\", \"ca\", \"list\", \"send\", \"include\", \"information\", \"fax\", \"network\", \"source\", \"program\", \"image\", \"offer\", \"info\", \"software\", \"service\", \"application\", \"page\", \"user\", \"message\", \"also\", \"call\", \"post\", \"group\", \"new\", \"ax\", \"nyi\", \"stl\", \"buffalo\", \"pool\", \"brian_kendig\", \"sunday\", \"finland\", \"espn\", \"lemieux\", \"qax\", \"chain\", \"harry\", \"canuck\", \"tiger\", \"mormon\", \"winnipeg_jet\", \"cirrus_logic\", \"org\", \"dear\", \"anaheim\", \"pure\", \"discharge\", \"lawrence\", \"final_standing\", \"praise\", \"new_brunswick\", \"sinner\", \"married\", \"penn_state\", \"christian\", \"god\", \"religion\", \"bible\", \"belief\", \"faith\", \"king\", \"church\", \"spank\", \"normal\", \"lord\", \"father\", \"moral\", \"verse\", \"christ\", \"gay\", \"christianity\", \"scripture\", \"marriage\", \"sex\", \"pain\", \"homosexual\", \"sin\", \"zoroastrian\", \"passage\", \"animal\", \"mystery\", \"honor\", \"soul\", \"satan\", \"truth\", \"man\", \"die\", \"love\", \"life\", \"heart\", \"law\", \"believe\", \"child\", \"word\", \"book\", \"human\", \"say\", \"death\", \"come\", \"woman\", \"march\", \"mission\", \"boston\", \"satellite\", \"schedule\", \"pray\", \"case_western\", \"reserve_university\", \"morning\", \"brother\", \"la\", \"gov\", \"hat\", \"medicine\", \"spacecraft\", \"estimate\", \"minnesota\", \"cleveland_ohio\", \"astronomy\", \"km\", \"san_francisco\", \"pitch\", \"morris\", \"frank\", \"mar\", \"hospital\", \"energy\", \"membership\", \"comet\", \"ins_cwru\", \"george\", \"washington\", \"rd\", \"april\", \"san_jose\", \"national\", \"study\", \"student\", \"center\", \"research\", \"mr\", \"medium\", \"year\", \"usa\", \"room\", \"news\", \"day\", \"vote\", \"time\", \"gun\", \"protect\", \"police\", \"criminal\", \"law_enforcement\", \"crime\", \"arrest\", \"policy\", \"weapon\", \"clipper_chip\", \"citizen\", \"discipline\", \"permit\", \"court\", \"federal\", \"constitution\", \"illegal\", \"cop\", \"implement\", \"hunt\", \"ban\", \"senate\", \"handgun\", \"regulation\", \"militia\", \"guard\", \"prohibit\", \"gun_control\", \"amendment\", \"restriction\", \"government\", \"legal\", \"congress\", \"ensure\", \"public\", \"law\", \"private\", \"american\", \"state\", \"right\", \"house\", \"national\", \"carry\", \"case\", \"fire\", \"country\", \"key\", \"chip\", \"encryption\", \"wiretap\", \"hang\", \"apple\", \"clipper\", \"algorithm\", \"spanking\", \"nec\", \"printer\", \"encrypt\", \"hard_drive\", \"secure\", \"crypto\", \"finger\", \"tap\", \"shape\", \"automatically\", \"nsa\", \"compatible\", \"clean\", \"friday\", \"default\", \"ticket\", \"key_escrow\", \"timeout\", \"magic\", \"broadcast\", \"tree\", \"communication\", \"agency\", \"phone\", \"device\", \"security\", \"block\", \"technology\", \"bit\", \"system\", \"use\", \"message\", \"electronic\", \"datum\", \"information\", \"contain\", \"new\", \"need\", \"max\", \"obvious\", \"mile\", \"ride\", \"dealer\", \"count\", \"hall\", \"stat\", \"dog\", \"summer\", \"dollar\", \"brake\", \"screw\", \"jack\", \"bolt\", \"risk\", \"jeff\", \"rough\", \"tm\", \"yesterday\", \"misc\", \"shipping\", \"damn\", \"chris\", \"seat\", \"mid\", \"rid\", \"cold\", \"rating\", \"capital\", \"alan\", \"average\", \"cost\", \"master\", \"distribution_na\", \"price\", \"sell\", \"magazine\", \"richard\", \"sale\", \"total\", \"pull\", \"canada\", \"mike\", \"pick\", \"pay\", \"year\", \"extra\", \"trade\", \"road\", \"new_york\", \"hit\", \"space\", \"launch\", \"switch\", \"radio\", \"mon\", \"orbit\", \"van\", \"nasa\", \"flight\", \"min\", \"station\", \"volt\", \"doc\", \"audio\", \"signal\", \"aerospace\", \"mount\", \"panel\", \"amp\", \"ott\", \"expand\", \"slap\", \"cylinder\", \"metal\", \"battery_charger\", \"frequency\", \"channel\", \"monthly\", \"conductor\", \"fuel\", \"rocket\", \"ground\", \"project\", \"scale\", \"fly\", \"power\", \"unit\", \"build\", \"high\", \"mass\", \"level\", \"earth\", \"low\", \"design\", \"system\", \"large\", \"model\", \"israel\", \"israeli\", \"international\", \"soldier\", \"chief\", \"civilian\", \"privacy\", \"lebanon\", \"border\", \"terrorist\", \"massacre\", \"anger\", \"movement\", \"tomorrow\", \"february\", \"plane\", \"million\", \"pm\", \"rat\", \"heavy\", \"soviet\", \"emergency\", \"captain\", \"lunar\", \"ref\", \"edward\", \"train\", \"bomb\", \"secretary\", \"territory\", \"army\", \"nt\", \"committee\", \"attack\", \"military\", \"land\", \"enjoy\", \"hour\", \"population\", \"kill\", \"jewish\", \"report\", \"center\", \"area\", \"equal\", \"fight\", \"standard\", \"department\", \"control\", \"game\", \"team\", \"player\", \"hockey\", \"season\", \"contact\", \"nhl\", \"goal\", \"fan\", \"score\", \"ice\", \"canadian\", \"vancouver\", \"gd\", \"devil\", \"pit\", \"playoff\", \"detroit\", \"nyr\", \"coach\", \"bos\", \"defenseman\", \"hockey_league\", \"tor\", \"excellent\", \"draft\", \"tampa_bay\", \"det\", \"ahl\", \"phi\", \"hawk\", \"play\", \"win\", \"wing\", \"final\", \"division\", \"year\", \"period\", \"first\", \"pittsburgh\", \"good\", \"second\", \"computer_science\", \"homeopathy\", \"review\", \"development\", \"object\", \"gordon_bank\", \"ibm\", \"medical\", \"search\", \"reader\", \"useful\", \"disease\", \"patient\", \"professional\", \"resource\", \"homeopathic\", \"demonstrate\", \"success\", \"gps\", \"treatment\", \"announcement\", \"logical\", \"tel\", \"edition\", \"comparison\", \"painful\", \"thinking\", \"background\", \"fox\", \"installation\", \"univ\", \"science\", \"prove\", \"text\", \"description\", \"scientific\", \"develop\", \"soon\", \"reference\", \"david\", \"research\", \"pittsburgh\", \"rise\", \"paul\", \"edge\", \"water\", \"teach\", \"mother\", \"girl\", \"mhz\", \"wave\", \"reserve\", \"button\", \"probe\", \"widget\", \"cool\", \"miller\", \"frame\", \"seal\", \"lamp\", \"darren\", \"slave\", \"heat\", \"pop\", \"ken\", \"seize\", \"wind\", \"window_manager\", \"france\", \"bottle\", \"ltd\", \"tonight\", \"table\", \"light\", \"pressure\", \"building\", \"relative\", \"ago\", \"foot\", \"shell\", \"fire\", \"eye\", \"wait\", \"blood\", \"supply\", \"catch\", \"food\", \"armenian\", \"league\", \"turk\", \"turkish\", \"baseball\", \"serdar_argic\", \"cal\", \"hug\", \"sumgait\", \"chi\", \"turkey\", \"azerbaijani\", \"apartment\", \"suck\", \"ranger\", \"ham\", \"armenia\", \"xterm\", \"czar\", \"crowd\", \"mutlu\", \"logo\", \"darin\", \"interview\", \"plate\", \"penguin\", \"gold\", \"hill\", \"hitter\", \"bounce\", \"vay\", \"greek\", \"yalanci\", \"road\", \"burn\", \"today\", \"year\", \"first\", \"wire\", \"circuit\", \"connect\", \"wiring\", \"voice\", \"outlet\", \"neutral\", \"conference\", \"usenet\", \"lock\", \"computing\", \"timer\", \"gfci\", \"voltage\", \"mont_pierce\", \"annual\", \"div\", \"construction\", \"helmet\", \"familiar\", \"breaker\", \"gene\", \"postscript\", \"legend\", \"firm\", \"civil\", \"kurt\", \"cell\", \"portion\", \"ought\", \"faq\", \"multi\", \"depend\", \"cover\", \"pipe\", \"analysis\", \"art\", \"guide\", \"cable\", \"current\", \"house\", \"email\", \"copy\", \"_\", \"blue\", \"tank\", \"eg\", \"gas\", \"hi\", \"henry_spencer\", \"cigarette\", \"xlib\", \"fd\", \"mf\", \"xga\", \"toronto_zoology\", \"henry\", \"dress\", \"bay\", \"bitmap\", \"ontario\", \"fp\", \"shk\", \"gr\", \"gq\", \"mg\", \"cc\", \"eeg\", \"interactive\", \"lens\", \"ep\", \"nc\", \"lately\", \"cubs_suck\", \"csa\", \"band\", \"bus\", \"specifically\", \"associate\", \"motorcycle\", \"confuse\", \"entry\", \"detect\", \"brand\", \"ease\", \"string\", \"bag\", \"vesa_local\", \"guru\", \"countersteer\", \"bradley\", \"lane\", \"forum\", \"int\", \"scoop\", \"vram\", \"enjoyment\", \"nick\", \"libxmu\", \"callback\", \"ati\", \"safely\", \"detector\", \"drawing\", \"ms_window\", \"steer\", \"properly\", \"function\", \"shift\", \"value\", \"code\", \"error\", \"return\", \"set\", \"compile\", \"character\", \"size\", \"build\"], \"Total\": [57084.0, 12491.0, 16290.0, 11142.0, 3844.0, 10452.0, 9655.0, 7586.0, 8046.0, 11782.0, 6905.0, 5803.0, 4407.0, 4083.0, 6852.0, 5027.0, 1863.0, 2294.0, 3735.0, 7291.0, 3461.0, 4598.0, 1540.0, 1949.0, 3005.0, 1685.0, 1746.0, 1464.0, 3380.0, 2012.0, 4407.66015625, 2750.89501953125, 1503.6646728515625, 1199.5479736328125, 708.749267578125, 633.762451171875, 607.749755859375, 590.2587280273438, 515.5885009765625, 415.49029541015625, 405.42816162109375, 401.4023132324219, 11142.244140625, 393.8006591796875, 381.1290588378906, 619.9065551757812, 336.01190185546875, 331.51214599609375, 317.1257629394531, 317.1138610839844, 316.2554931640625, 308.73345947265625, 306.9915771484375, 294.7466125488281, 269.7789611816406, 266.72998046875, 264.716064453125, 254.1399688720703, 253.86883544921875, 252.0454864501953, 12491.740234375, 4083.6103515625, 5027.7001953125, 2618.19091796875, 7586.49609375, 609.2208862304688, 9655.19921875, 694.2489624023438, 601.8165283203125, 688.5280151367188, 894.0014038085938, 5445.8056640625, 962.0626220703125, 6852.201171875, 2391.4609375, 3432.914306640625, 11782.5283203125, 3265.757568359375, 8046.873046875, 7291.50146484375, 2826.4189453125, 2927.7783203125, 16290.7080078125, 2186.355712890625, 3643.8291015625, 3089.162353515625, 3138.644775390625, 1592.4776611328125, 3595.25439453125, 10452.68359375, 5376.41943359375, 3018.121826171875, 4473.07958984375, 5703.62890625, 3675.836669921875, 1074.5089111328125, 684.2609252929688, 568.0208129882812, 520.2702026367188, 484.3905944824219, 440.3375244140625, 409.7241516113281, 400.6585998535156, 398.95318603515625, 389.4307556152344, 378.6645812988281, 381.053955078125, 355.9012756347656, 340.2751770019531, 316.9037170410156, 304.68743896484375, 302.7882080078125, 298.4546813964844, 295.4609069824219, 291.0498962402344, 280.57183837890625, 276.9464111328125, 276.3825378417969, 268.7156982421875, 256.50067138671875, 256.16552734375, 251.97203063964844, 247.9676055908203, 246.99989318847656, 245.92958068847656, 470.89727783203125, 759.6505737304688, 621.7380981445312, 419.186279296875, 1527.5584716796875, 411.21917724609375, 1255.8245849609375, 660.3677368164062, 671.2562866210938, 575.2883911132812, 1154.3011474609375, 1014.756591796875, 859.797607421875, 955.3240966796875, 1388.233642578125, 1940.954345703125, 1563.0250244140625, 1817.0924072265625, 1227.789794921875, 2297.2509765625, 1170.5184326171875, 1373.776611328125, 4473.07958984375, 2576.40087890625, 1392.43115234375, 2791.865966796875, 915.8652954101562, 2778.52099609375, 1595.895751953125, 1691.2274169921875, 894.9894409179688, 5703.62890625, 1524.7894287109375, 4560.80078125, 5048.55810546875, 1666.25927734375, 3510.9990234375, 11782.5283203125, 3135.73583984375, 2068.868896484375, 1935.8419189453125, 6905.3134765625, 9655.19921875, 4432.408203125, 5376.41943359375, 986.5204467773438, 760.0426635742188, 680.8563232421875, 622.2371215820312, 563.1380004882812, 492.69671630859375, 457.64642333984375, 326.8692626953125, 316.535400390625, 313.1407165527344, 313.0693664550781, 312.8076477050781, 312.531005859375, 279.3938903808594, 265.813720703125, 265.2146301269531, 263.6257019042969, 261.6109313964844, 242.9796142578125, 227.9556121826172, 225.05746459960938, 217.55845642089844, 211.15927124023438, 209.84744262695312, 194.8374786376953, 193.99432373046875, 189.86338806152344, 176.8616485595703, 174.0108184814453, 172.1680908203125, 1264.4808349609375, 819.3032836914062, 309.6011047363281, 3735.21044921875, 5803.17822265625, 346.13616943359375, 332.6363525390625, 1125.310791015625, 868.2207641601562, 16290.7080078125, 767.0855102539062, 6905.3134765625, 10452.68359375, 2542.45263671875, 480.4068603515625, 1271.9901123046875, 1876.092529296875, 3422.80126953125, 1690.2000732421875, 5249.11376953125, 2351.6708984375, 3406.849609375, 1960.8018798828125, 528.7888793945312, 5048.55810546875, 8046.873046875, 3147.03173828125, 4432.408203125, 7291.50146484375, 11782.5283203125, 3675.836669921875, 5376.41943359375, 6852.201171875, 3643.8291015625, 2987.33349609375, 5703.62890625, 3311.37255859375, 2927.7783203125, 3461.198974609375, 3005.991943359375, 5445.8056640625, 2294.24267578125, 862.9814453125, 824.8436279296875, 683.199951171875, 672.1397094726562, 658.4520263671875, 596.4421997070312, 594.659912109375, 577.5336303710938, 529.504638671875, 498.8333740234375, 497.3904724121094, 458.5708312988281, 427.5837707519531, 394.2817077636719, 383.2449035644531, 378.9616394042969, 369.73187255859375, 360.5809020996094, 356.7132263183594, 340.7336730957031, 335.4468688964844, 329.9999084472656, 321.40460205078125, 314.0059814453125, 311.0895080566406, 310.5428161621094, 299.0064392089844, 287.1949157714844, 272.3960876464844, 2012.44873046875, 1797.4603271484375, 794.318603515625, 574.002685546875, 485.7423400878906, 618.821044921875, 934.6244506835938, 2058.962158203125, 3380.5634765625, 2460.280517578125, 3018.121826171875, 4598.19189453125, 1643.2235107421875, 1142.2069091796875, 1145.7889404296875, 3595.25439453125, 1435.2509765625, 10452.68359375, 1650.1732177734375, 1044.444091796875, 2186.355712890625, 1949.0714111328125, 924.3453979492188, 875.114501953125, 762.4818115234375, 720.0376586914062, 636.0570068359375, 594.1481323242188, 539.43505859375, 469.70159912109375, 406.98272705078125, 397.30364990234375, 385.4456481933594, 360.06494140625, 356.5044250488281, 350.65557861328125, 349.5030822753906, 315.3979187011719, 313.4771728515625, 302.2314758300781, 283.7337646484375, 256.3174743652344, 251.25929260253906, 231.33912658691406, 227.2948455810547, 222.0780029296875, 218.87603759765625, 208.94581604003906, 205.6505126953125, 205.2012939453125, 196.55239868164062, 463.15863037109375, 1609.4024658203125, 1111.2830810546875, 1229.2391357421875, 1442.669921875, 1819.17626953125, 2148.83935546875, 720.4223022460938, 679.3734741210938, 1060.5899658203125, 1613.518310546875, 1024.4012451171875, 910.5743408203125, 1367.1617431640625, 1252.5299072265625, 918.390869140625, 793.1740112304688, 915.1834106445312, 722.62109375, 1238.809326171875, 4560.80078125, 2889.163330078125, 2610.313232421875, 1935.8419189453125, 3138.644775390625, 57084.41796875, 239.0938720703125, 228.21810913085938, 210.44688415527344, 173.6318817138672, 165.57723999023438, 154.54701232910156, 149.88369750976562, 135.39683532714844, 134.5145721435547, 129.1622772216797, 125.57469940185547, 117.80915832519531, 109.85269927978516, 99.83380889892578, 98.87488555908203, 92.40695190429688, 87.67176818847656, 85.82461547851562, 85.39623260498047, 80.06278228759766, 78.17781066894531, 70.78954315185547, 65.69454956054688, 61.75227737426758, 61.73081970214844, 61.566253662109375, 61.53602981567383, 60.60881423950195, 59.10939407348633, 1685.0267333984375, 1577.835693359375, 714.1411743164062, 641.7412109375, 543.4755249023438, 507.39031982421875, 490.3686218261719, 483.22088623046875, 451.70330810546875, 393.8296813964844, 377.45391845703125, 344.4158935546875, 322.3604736328125, 292.3586730957031, 291.0660095214844, 257.26495361328125, 252.5288848876953, 245.33204650878906, 238.1172637939453, 237.94589233398438, 232.05397033691406, 231.37782287597656, 221.02870178222656, 210.4035186767578, 204.6875457763672, 199.10862731933594, 195.21575927734375, 192.1035614013672, 191.40504455566406, 188.35679626464844, 641.0309448242188, 1530.3570556640625, 976.9136352539062, 1018.8497924804688, 1789.7110595703125, 300.6145935058594, 1737.326416015625, 2293.4970703125, 1093.2261962890625, 1524.7894287109375, 1521.8978271484375, 800.7180786132812, 6905.3134765625, 635.8802490234375, 3406.849609375, 577.9653930664062, 357.1293029785156, 350.4322509765625, 321.38128662109375, 315.3939208984375, 311.6333312988281, 311.1712951660156, 304.1397399902344, 297.3341979980469, 290.83782958984375, 259.247314453125, 256.69134521484375, 255.42831420898438, 249.20367431640625, 232.94923400878906, 229.45843505859375, 221.1555633544922, 218.2909393310547, 215.7191925048828, 199.17491149902344, 193.1630859375, 192.89935302734375, 188.27685546875, 183.3359832763672, 174.0576629638672, 170.6964111328125, 148.14010620117188, 146.74537658691406, 146.62188720703125, 144.9813232421875, 143.8764190673828, 443.12005615234375, 310.32586669921875, 299.4866943359375, 576.3794555664062, 305.897705078125, 920.1464233398438, 690.5286254882812, 420.20147705078125, 1141.419189453125, 852.974365234375, 264.4012145996094, 444.0587463378906, 3461.198974609375, 960.8234252929688, 579.9613037109375, 1242.5953369140625, 2351.6708984375, 426.62823486328125, 5376.41943359375, 1315.4384765625, 634.8004760742188, 567.5911865234375, 549.9810791015625, 427.38360595703125, 414.9710998535156, 400.7051696777344, 368.57977294921875, 366.8277282714844, 366.67626953125, 301.66357421875, 261.6632080078125, 246.57083129882812, 244.86634826660156, 233.80056762695312, 228.6272735595703, 221.1529541015625, 204.7051239013672, 193.37387084960938, 179.5740203857422, 174.33824157714844, 173.49217224121094, 158.9288330078125, 157.8953857421875, 155.90896606445312, 141.6306915283203, 136.9611053466797, 135.83445739746094, 135.30162048339844, 127.93714904785156, 1746.0762939453125, 304.9176940917969, 279.3597106933594, 214.8539276123047, 922.0993041992188, 1737.326416015625, 358.8128662109375, 1056.5341796875, 2415.186279296875, 3005.991943359375, 645.78173828125, 920.1464233398438, 601.42041015625, 1635.1275634765625, 752.9155883789062, 861.1649169921875, 1506.29052734375, 1182.414794921875, 547.745361328125, 496.61920166015625, 448.6538391113281, 431.516357421875, 389.5787658691406, 354.09503173828125, 320.8952941894531, 290.8609619140625, 280.07318115234375, 273.5629577636719, 271.6510009765625, 271.2900695800781, 240.2430877685547, 229.5546875, 226.9427947998047, 219.44247436523438, 215.6923370361328, 215.33062744140625, 201.66615295410156, 196.69956970214844, 191.9557342529297, 189.9776611328125, 187.67869567871094, 185.52561950683594, 177.22836303710938, 174.050537109375, 171.31076049804688, 170.1209259033203, 320.5626220703125, 408.81829833984375, 815.213623046875, 683.1983032226562, 428.3099670410156, 350.40277099609375, 1149.01611328125, 1643.2235107421875, 3380.5634765625, 4598.19189453125, 1238.809326171875, 350.8802185058594, 1097.52392578125, 2148.83935546875, 573.9638671875, 3138.644775390625, 3265.757568359375, 3844.1962890625, 534.0570678710938, 353.2322082519531, 309.79547119140625, 290.1427001953125, 289.06591796875, 272.03485107421875, 267.7273864746094, 232.52865600585938, 222.9813995361328, 216.86778259277344, 214.88372802734375, 192.91119384765625, 192.57040405273438, 189.3983154296875, 189.0570831298828, 179.77957153320312, 177.21575927734375, 174.96588134765625, 172.1894073486328, 169.20425415039062, 167.0770263671875, 159.97132873535156, 158.3312530517578, 157.7758331298828, 155.2315216064453, 153.66290283203125, 151.86424255371094, 149.77420043945312, 149.2881622314453, 159.226318359375, 295.8063659667969, 975.3223266601562, 196.94131469726562, 303.50592041015625, 1022.3577270507812, 781.9678344726562, 239.71136474609375, 279.2345886230469, 1145.6845703125, 510.2511901855469, 403.9730529785156, 557.1448364257812, 429.0747985839844, 505.71124267578125, 982.2910766601562, 3461.198974609375, 390.2568359375, 372.7221374511719, 562.1619262695312, 514.4154052734375, 631.1656494140625, 1863.0877685546875, 430.8835754394531, 392.6368408203125, 323.6603088378906, 313.9947509765625, 286.1161804199219, 280.5084533691406, 275.8631286621094, 271.7738952636719, 255.62908935546875, 239.50543212890625, 234.68846130371094, 209.52040100097656, 208.45220947265625, 203.5877685546875, 201.69033813476562, 200.95950317382812, 200.07955932617188, 172.76402282714844, 171.359375, 169.52821350097656, 164.03390502929688, 153.21231079101562, 152.78680419921875, 145.79624938964844, 140.99008178710938, 135.8516082763672, 131.7777557373047, 129.0238037109375, 127.12652587890625, 270.31756591796875, 612.5257568359375, 523.9486694335938, 203.50997924804688, 309.0377197265625, 1510.427978515625, 474.82794189453125, 1050.7044677734375, 1381.6575927734375, 370.1275634765625, 766.786376953125, 576.8270263671875, 911.939208984375, 654.056884765625, 3380.5634765625, 873.150634765625, 527.213134765625, 670.4346313476562, 517.5829467773438, 345.0720520019531, 310.3659973144531, 294.5156555175781, 224.42263793945312, 219.7285919189453, 219.26812744140625, 261.647705078125, 212.97616577148438, 180.7064971923828, 174.66465759277344, 173.67062377929688, 167.9550323486328, 164.43357849121094, 162.89599609375, 160.6925811767578, 159.55096435546875, 149.1971435546875, 146.74227905273438, 146.31919860839844, 143.15963745117188, 141.78627014160156, 138.54119873046875, 136.42311096191406, 136.13465881347656, 127.81079864501953, 115.90924835205078, 114.2718734741211, 113.84015655517578, 213.80484008789062, 145.5398712158203, 385.6925048828125, 496.58282470703125, 467.2239990234375, 441.47039794921875, 250.56866455078125, 551.9863891601562, 321.1875, 1095.9771728515625, 483.04736328125, 858.8223876953125, 1141.419189453125, 879.41943359375, 223.24447631835938, 323.499267578125, 1142.2069091796875, 617.1981201171875, 940.7459106445312, 1540.3365478515625, 1464.4425048828125, 838.017578125, 686.0745239257812, 568.9556884765625, 500.1402282714844, 455.87969970703125, 388.815673828125, 376.6003112792969, 365.66925048828125, 281.17950439453125, 260.599853515625, 225.0775909423828, 219.33987426757812, 218.52072143554688, 213.77020263671875, 211.72926330566406, 207.82827758789062, 202.34048461914062, 187.00294494628906, 174.52703857421875, 174.21551513671875, 173.68310546875, 171.78663635253906, 169.5778350830078, 164.63491821289062, 161.3413848876953, 156.60159301757812, 155.9073944091797, 155.87440490722656, 312.98773193359375, 1044.6910400390625, 1091.9732666015625, 241.64117431640625, 421.9803771972656, 407.08673095703125, 3461.198974609375, 406.81915283203125, 2891.6611328125, 377.645263671875, 5445.8056640625, 1214.811767578125, 529.7190551757812, 424.9996337890625, 388.8553161621094, 382.3639221191406, 374.0076599121094, 361.4861145019531, 356.7980041503906, 309.5749816894531, 268.1019287109375, 232.6243438720703, 228.5205535888672, 225.1696319580078, 218.565673828125, 217.4764404296875, 212.430419921875, 209.73309326171875, 207.11964416503906, 193.5526123046875, 181.25575256347656, 174.61758422851562, 173.0360870361328, 168.15432739257812, 160.95823669433594, 160.44149780273438, 158.92906188964844, 157.2909393310547, 156.4060516357422, 153.81521606445312, 153.72509765625, 153.08697509765625, 382.8860778808594, 799.9402465820312, 499.21527099609375, 479.2110900878906, 216.1597442626953, 204.51904296875, 441.6893005371094, 525.7291870117188, 951.0399780273438, 852.0330810546875, 852.974365234375, 377.645263671875, 514.9954223632812, 509.625732421875, 375.1792297363281, 306.127685546875, 298.879638671875, 283.5763244628906, 280.9866943359375, 260.0356750488281, 232.000732421875, 228.7639923095703, 225.3726806640625, 211.50355529785156, 198.4026336669922, 177.2171630859375, 176.77993774414062, 156.46359252929688, 145.95542907714844, 145.10562133789062, 127.01451110839844, 121.63743591308594, 121.26347351074219, 114.70655822753906, 113.1874771118164, 112.87667083740234, 112.6968002319336, 109.58903503417969, 107.79031372070312, 107.10930633544922, 104.19761657714844, 104.05944061279297, 263.39263916015625, 670.4697875976562, 207.33970642089844, 395.59381103515625, 214.4117431640625, 274.5173034667969, 291.0048522949219, 185.81097412109375, 752.9155883789062, 267.0860595703125, 452.90478515625, 325.2582092285156, 268.11444091796875, 211.79820251464844, 479.0240783691406, 1341.8201904296875, 432.9951171875, 381.5611572265625, 378.10247802734375, 356.1662902832031, 331.6754455566406, 218.31829833984375, 216.46868896484375, 211.66091918945312, 210.585693359375, 208.49745178222656, 202.70794677734375, 199.85704040527344, 195.3421630859375, 191.30551147460938, 172.60009765625, 171.85031127929688, 149.65501403808594, 149.01235961914062, 143.7244873046875, 138.98377990722656, 130.7441864013672, 130.10147094726562, 128.17266845703125, 123.95805358886719, 120.98661041259766, 119.33595275878906, 119.04988098144531, 112.38735961914062, 110.06532287597656, 157.14642333984375, 455.19500732421875, 189.7582244873047, 562.1619262695312, 314.32281494140625, 796.2598876953125, 3461.198974609375, 2891.6611328125, 720.8929443359375, 465.2860107421875, 406.0341796875, 364.6231994628906, 361.0773620605469, 300.94580078125, 292.4296875, 281.5890197753906, 214.50975036621094, 191.49526977539062, 191.15316772460938, 184.96343994140625, 155.41563415527344, 146.3951873779297, 145.420166015625, 145.13710021972656, 141.70616149902344, 129.855224609375, 129.68324279785156, 124.58299255371094, 122.4030990600586, 121.26387023925781, 114.37286376953125, 107.84001922607422, 103.68196868896484, 103.10028839111328, 101.70477294921875, 95.86815643310547, 91.0539321899414, 88.15462493896484, 473.5333251953125, 162.43124389648438, 252.68695068359375, 726.0167236328125, 127.90243530273438, 196.96897888183594, 250.72230529785156, 163.42745971679688, 535.0845947265625, 774.6681518554688, 645.78173828125, 1145.7889404296875, 597.9952392578125, 917.0118408203125, 792.16064453125, 569.906494140625, 325.79046630859375, 324.998779296875, 300.3687438964844, 193.5681610107422, 181.5841522216797, 151.94656372070312, 145.88294982910156, 138.73817443847656, 131.70559692382812, 130.87469482421875, 124.2433090209961, 122.7958755493164, 121.1529769897461, 116.35480499267578, 105.42852020263672, 104.19749450683594, 97.66726684570312, 96.30191802978516, 93.22509002685547, 89.5631103515625, 83.68455505371094, 81.65818786621094, 78.70315551757812, 77.27259063720703, 76.23576354980469, 74.2601318359375, 73.87450408935547, 392.7874450683594, 79.1197509765625, 291.5135803222656, 480.3995361328125, 465.1964111328125, 356.8902282714844, 316.33880615234375, 189.40359497070312, 172.7422332763672, 168.13427734375, 161.79701232910156, 161.51536560058594, 160.02577209472656, 145.8113555908203, 124.19646453857422, 120.32231140136719, 118.57483673095703, 113.9775161743164, 113.16816711425781, 108.50836944580078, 102.26384735107422, 98.93939208984375, 93.91403198242188, 93.51132202148438, 92.05496978759766, 89.5263671875, 88.84925079345703, 86.01392364501953, 84.08309936523438, 81.944580078125, 76.62260437011719, 72.3714599609375, 72.14415740966797, 330.1471862792969, 519.9862060546875, 163.46237182617188, 864.2715454101562, 911.0806274414062, 663.4658203125, 725.5223388671875, 1435.2509765625, 240.64840698242188, 416.5310974121094, 595.065185546875, 1050.7044677734375], \"loglift\": [30.0, 29.0, 28.0, 27.0, 26.0, 25.0, 24.0, 23.0, 22.0, 21.0, 20.0, 19.0, 18.0, 17.0, 16.0, 15.0, 14.0, 13.0, 12.0, 11.0, 10.0, 9.0, 8.0, 7.0, 6.0, 5.0, 4.0, 3.0, 2.0, 1.0, 1.8173999786376953, 1.8172999620437622, 1.8170000314712524, 1.8169000148773193, 1.8163000345230103, 1.816100001335144, 1.816100001335144, 1.815999984741211, 1.8157999515533447, 1.8152999877929688, 1.8152999877929688, 1.8152999877929688, 1.8151999711990356, 1.8151999711990356, 1.8150999546051025, 1.815000057220459, 1.8148000240325928, 1.8147000074386597, 1.8145999908447266, 1.8145999908447266, 1.8145999908447266, 1.8144999742507935, 1.8144999742507935, 1.8143999576568604, 1.8141000270843506, 1.8140000104904175, 1.8140000104904175, 1.8138999938964844, 1.8138999938964844, 1.8137999773025513, 1.7976000308990479, 1.8021999597549438, 1.7364000082015991, 1.7508000135421753, 1.698699951171875, 1.785599946975708, 1.632699966430664, 1.7280000448226929, 1.740399956703186, 1.7069000005722046, 1.669800043106079, 1.3142000436782837, 1.6119999885559082, 1.2142000198364258, 1.4156999588012695, 1.322100043296814, 0.9693999886512756, 1.2797000408172607, 1.0418000221252441, 0.9729999899864197, 1.2302000522613525, 1.1247999668121338, 0.4032999873161316, 1.2314000129699707, 0.9977999925613403, 1.05649995803833, 0.987500011920929, 1.329699993133545, 0.8478999733924866, 0.2223999947309494, 0.6037999987602234, 0.9154000282287598, 0.6238999962806702, 0.43070000410079956, 0.7366999983787537, 1.881500005722046, 1.88100004196167, 1.8806999921798706, 1.8804999589920044, 1.8803999423980713, 1.8802000284194946, 1.8799999952316284, 1.8799999952316284, 1.8798999786376953, 1.8798999786376953, 1.8797999620437622, 1.8797999620437622, 1.879699945449829, 1.8795000314712524, 1.8792999982833862, 1.8791999816894531, 1.8791999816894531, 1.87909996509552, 1.87909996509552, 1.878999948501587, 1.8789000511169434, 1.8789000511169434, 1.8789000511169434, 1.8788000345230103, 1.878600001335144, 1.878600001335144, 1.878499984741211, 1.878499984741211, 1.878499984741211, 1.8783999681472778, 1.8737000226974487, 1.8641999959945679, 1.8624000549316406, 1.867300033569336, 1.8141000270843506, 1.8632999658584595, 1.8181999921798706, 1.8401999473571777, 1.8385000228881836, 1.8317999839782715, 1.767699956893921, 1.770900011062622, 1.7826000452041626, 1.7690000534057617, 1.7231999635696411, 1.6719000339508057, 1.6928999423980713, 1.656999945640564, 1.6618000268936157, 1.5368000268936157, 1.652899980545044, 1.6081000566482544, 1.3459999561309814, 1.454300045967102, 1.5932999849319458, 1.4239000082015991, 1.6888999938964844, 1.3884999752044678, 1.4900000095367432, 1.447100043296814, 1.6714999675750732, 0.8774999976158142, 1.4266999959945679, 0.8963000178337097, 0.8337000012397766, 1.3794000148773193, 0.9799000024795532, 0.26460000872612, 0.9412999749183655, 1.2015999555587769, 1.24590003490448, 0.18729999661445618, -0.10509999841451645, 0.4235999882221222, 0.1932000070810318, 1.9241000413894653, 1.923799991607666, 1.9235999584197998, 1.9234999418258667, 1.92330002784729, 1.9230999946594238, 1.9228999614715576, 1.9220999479293823, 1.9220000505447388, 1.9220000505447388, 1.9220000505447388, 1.9220000505447388, 1.9220000505447388, 1.9215999841690063, 1.9213999509811401, 1.9213999509811401, 1.9213999509811401, 1.9213999509811401, 1.9211000204086304, 1.920799970626831, 1.920799970626831, 1.9206000566482544, 1.9205000400543213, 1.9204000234603882, 1.9200999736785889, 1.9200999736785889, 1.9199999570846558, 1.919600009918213, 1.9194999933242798, 1.9193999767303467, 1.9160000085830688, 1.909000039100647, 1.9144999980926514, 1.809000015258789, 1.753499984741211, 1.8932000398635864, 1.8932000398635864, 1.8163000345230103, 1.8336000442504883, 1.6136000156402588, 1.8294999599456787, 1.638200044631958, 1.5865999460220337, 1.7079999446868896, 1.8583999872207642, 1.7474000453948975, 1.6878999471664429, 1.6065000295639038, 1.6912000179290771, 1.5377999544143677, 1.6266000270843506, 1.567199945449829, 1.6194000244140625, 1.8372999429702759, 1.408400058746338, 1.3080999851226807, 1.4560999870300293, 1.3522000312805176, 1.1504000425338745, 0.933899998664856, 1.2757999897003174, 1.1302000284194946, 0.9674000144004822, 1.2019000053405762, 1.267799973487854, 0.9602000117301941, 1.2106000185012817, 1.2309999465942383, 1.0735000371932983, 1.1033999919891357, 0.6402999758720398, 2.78629994392395, 2.785599946975708, 2.7855000495910645, 2.7853000164031982, 2.7853000164031982, 2.7852001190185547, 2.785099983215332, 2.785099983215332, 2.7850000858306885, 2.784899950027466, 2.7848000526428223, 2.7848000526428223, 2.784600019454956, 2.78439998626709, 2.7843000888824463, 2.7841999530792236, 2.7841999530792236, 2.78410005569458, 2.7839999198913574, 2.7839999198913574, 2.783900022506714, 2.783799886703491, 2.783799886703491, 2.7836999893188477, 2.783600091934204, 2.783600091934204, 2.783600091934204, 2.7834999561309814, 2.7832999229431152, 2.7832000255584717, 2.7558000087738037, 2.7334001064300537, 2.748500108718872, 2.7569000720977783, 2.749500036239624, 2.720599889755249, 2.5762999057769775, 2.396899938583374, 1.8207999467849731, 1.9183000326156616, 1.7506999969482422, 1.5362999439239502, 1.9426000118255615, 2.114799976348877, 2.1006999015808105, 1.2553999423980713, 1.8774000406265259, 0.275299996137619, 1.7106000185012817, 2.08240008354187, 1.3594000339508057, 2.8173000812530518, 2.816800117492676, 2.816699981689453, 2.816499948501587, 2.816499948501587, 2.8162999153137207, 2.816200017929077, 2.815999984741211, 2.8157999515533447, 2.8153998851776123, 2.8153998851776123, 2.8152999877929688, 2.8150999546051025, 2.8150999546051025, 2.8150999546051025, 2.8150999546051025, 2.8148000240325928, 2.81469988822937, 2.8145999908447266, 2.8143999576568604, 2.8141000270843506, 2.813999891281128, 2.8136000633239746, 2.8136000633239746, 2.813499927520752, 2.8134000301361084, 2.813199996948242, 2.8131000995635986, 2.8131000995635986, 2.8129000663757324, 2.784600019454956, 2.7246999740600586, 2.7037999629974365, 2.692199945449829, 2.647599935531616, 2.5696001052856445, 2.521899938583374, 2.651900053024292, 2.660599946975708, 2.567199945449829, 2.4811999797821045, 2.541599988937378, 2.509500026702881, 2.390700101852417, 2.3726000785827637, 2.4765000343322754, 2.5251998901367188, 2.395400047302246, 2.466599941253662, 2.1048998832702637, 1.2244000434875488, 1.3976000547409058, 1.4681999683380127, 1.6888999938964844, 1.2139999866485596, 3.1363000869750977, 3.1322999000549316, 3.1321001052856445, 3.1317999362945557, 3.1308000087738037, 3.130500078201294, 3.1301000118255615, 3.1298999786376953, 3.129199981689453, 3.129199981689453, 3.1289000511169434, 3.1285998821258545, 3.1280999183654785, 3.127500057220459, 3.126699924468994, 3.1266000270843506, 3.1259000301361084, 3.1252999305725098, 3.1250998973846436, 3.125, 3.1242001056671143, 3.124000072479248, 3.1226999759674072, 3.1215999126434326, 3.1205999851226807, 3.1205999851226807, 3.1205999851226807, 3.1205999851226807, 3.120300054550171, 3.1198999881744385, 3.1749000549316406, 3.174799919128418, 3.174099922180176, 3.1738998889923096, 3.1735999584198, 3.1735000610351562, 3.1733999252319336, 3.1733999252319336, 3.17330002784729, 3.1730000972747803, 3.1728999614715576, 3.172600030899048, 3.1723999977111816, 3.172100067138672, 3.172100067138672, 3.171600103378296, 3.171600103378296, 3.1714999675750732, 3.171299934387207, 3.171299934387207, 3.1712000370025635, 3.1712000370025635, 3.1710000038146973, 3.170799970626831, 3.1707000732421875, 3.1705000400543213, 3.1703999042510986, 3.1703999042510986, 3.170300006866455, 3.170300006866455, 2.9442999362945557, 2.575900077819824, 2.571500062942505, 2.5292999744415283, 2.2839999198913574, 2.9964001178741455, 2.0290000438690186, 1.8493000268936157, 2.21370005607605, 1.913599967956543, 1.6950000524520874, 2.200000047683716, 0.4404999911785126, 2.3257999420166016, 0.7127000093460083, 2.3701999187469482, 3.32069993019104, 3.3206000328063965, 3.3203999996185303, 3.3203001022338867, 3.3203001022338867, 3.3203001022338867, 3.320199966430664, 3.3201000690460205, 3.3201000690460205, 3.319700002670288, 3.3196001052856445, 3.3196001052856445, 3.319499969482422, 3.319200038909912, 3.319200038909912, 3.319000005722046, 3.319000005722046, 3.3189001083374023, 3.31850004196167, 3.3183999061584473, 3.3183999061584473, 3.3183000087738037, 3.3180999755859375, 3.3178000450134277, 3.317699909210205, 3.3169000148773193, 3.316800117492676, 3.316800117492676, 3.316699981689453, 3.316699981689453, 3.2925000190734863, 3.276400089263916, 3.2744998931884766, 3.2116000652313232, 3.238100051879883, 2.957900047302246, 2.9937000274658203, 3.0838000774383545, 2.5945000648498535, 2.566999912261963, 3.1465001106262207, 2.8194000720977783, 1.4223999977111816, 2.252500057220459, 2.6115000247955322, 1.9536000490188599, 1.3322999477386475, 2.7685000896453857, 0.2799000144004822, 3.390899896621704, 3.3901000022888184, 3.390000104904175, 3.389899969100952, 3.389400005340576, 3.3893001079559326, 3.3893001079559326, 3.3889999389648438, 3.3889999389648438, 3.3889999389648438, 3.3884999752044678, 3.388000011444092, 3.387700080871582, 3.387700080871582, 3.387500047683716, 3.387399911880493, 3.3873000144958496, 3.386899948120117, 3.386699914932251, 3.3863000869750977, 3.3861000537872314, 3.3861000537872314, 3.3856000900268555, 3.385499954223633, 3.385499954223633, 3.3847999572753906, 3.3845999240875244, 3.3845999240875244, 3.384500026702881, 3.3840999603271484, 3.3127999305725098, 3.359299898147583, 3.287899971008301, 3.3236000537872314, 3.1120998859405518, 3.008500099182129, 3.2363998889923096, 2.7748000621795654, 2.449899911880493, 2.0820000171661377, 2.511899948120117, 2.202500104904175, 2.5137999057769775, 1.6899000406265259, 2.214600086212158, 2.072200059890747, 3.4191999435424805, 3.4189999103546143, 3.418100118637085, 3.4179000854492188, 3.4177000522613525, 3.41759991645813, 3.4173998832702637, 3.417099952697754, 3.416800022125244, 3.4165000915527344, 3.4163999557495117, 3.416300058364868, 3.416300058364868, 3.416300058364868, 3.415800094604492, 3.4156999588012695, 3.415600061416626, 3.4154999256134033, 3.4154000282287598, 3.4154000282287598, 3.41510009765625, 3.4149999618530273, 3.414799928665161, 3.414799928665161, 3.4147000312805176, 3.4147000312805176, 3.414400100708008, 3.414299964904785, 3.4142000675201416, 3.4142000675201416, 3.3403000831604004, 3.26419997215271, 3.0596001148223877, 3.060499906539917, 3.100100040435791, 3.1466000080108643, 2.623500108718872, 2.2820000648498535, 1.7972999811172485, 1.5806000232696533, 2.2637999057769775, 3.0404000282287598, 2.1331000328063965, 1.5923999547958374, 2.6314001083374023, 1.180400013923645, 1.1253000497817993, 3.4346001148223877, 3.4330999851226807, 3.4321000576019287, 3.43179988861084, 3.43149995803833, 3.43149995803833, 3.431299924850464, 3.431299924850464, 3.4307000637054443, 3.430500030517578, 3.4303998947143555, 3.4303998947143555, 3.4298999309539795, 3.429800033569336, 3.429800033569336, 3.429800033569336, 3.429500102996826, 3.4293999671936035, 3.42930006980896, 3.4291999340057373, 3.4291999340057373, 3.4291000366210938, 3.428800106048584, 3.428800106048584, 3.4286999702453613, 3.4286000728607178, 3.4286000728607178, 3.428499937057495, 3.4284000396728516, 3.4284000396728516, 3.4279000759124756, 3.4158999919891357, 3.3831000328063965, 3.4084999561309814, 3.338399887084961, 3.154099941253662, 3.084399938583374, 3.329699993133545, 3.289799928665161, 2.848299980163574, 3.087599992752075, 3.1389000415802, 3.0220000743865967, 3.0757999420166016, 2.997299909591675, 2.649600028991699, 1.8732999563217163, 3.029900074005127, 3.046299934387207, 2.786799907684326, 2.7370998859405518, 2.468899965286255, 3.516700029373169, 3.514899969100952, 3.514699935913086, 3.51419997215271, 3.5141000747680664, 3.5137999057769775, 3.513700008392334, 3.513700008392334, 3.5136001110076904, 3.513400077819824, 3.5130999088287354, 3.513000011444092, 3.512500047683716, 3.512500047683716, 3.512399911880493, 3.512399911880493, 3.512399911880493, 3.5123000144958496, 3.5116000175476074, 3.5114998817443848, 3.5114998817443848, 3.5113000869750977, 3.5107998847961426, 3.5107998847961426, 3.510499954223633, 3.5102999210357666, 3.509999990463257, 3.5097999572753906, 3.509700059890747, 3.509500026702881, 3.373699903488159, 3.1071999073028564, 3.1273000240325928, 3.3766000270843506, 3.2012999057769775, 2.4667000770568848, 2.956399917602539, 2.5202999114990234, 2.0829999446868896, 2.9489998817443848, 2.4003000259399414, 2.6085000038146973, 2.2632999420166016, 2.469099998474121, 0.991599977016449, 2.099600076675415, 2.566800117492676, 3.5957000255584717, 3.5952999591827393, 3.594399929046631, 3.594099998474121, 3.593899965286255, 3.592900037765503, 3.5927999019622803, 3.5927999019622803, 3.5927000045776367, 3.592600107192993, 3.5917999744415283, 3.591599941253662, 3.591599941253662, 3.591399908065796, 3.5913000106811523, 3.591200113296509, 3.591200113296509, 3.591099977493286, 3.5906999111175537, 3.59060001373291, 3.59060001373291, 3.590399980545044, 3.590399980545044, 3.5901999473571777, 3.590100049972534, 3.590100049972534, 3.589600086212158, 3.5887999534606934, 3.58870005607605, 3.58870005607605, 3.5585999488830566, 3.573499917984009, 3.478100061416626, 3.428999900817871, 3.3801000118255615, 3.3857998847961426, 3.431999921798706, 3.1754000186920166, 3.2276999950408936, 2.5764999389648438, 2.9470999240875244, 2.4149999618530273, 2.1470999717712402, 2.1117000579833984, 3.2999000549316406, 2.9516000747680664, 1.7166999578475952, 2.2980000972747803, 1.8758000135421753, 3.5998001098632812, 3.5998001098632812, 3.599299907684326, 3.5989999771118164, 3.5987000465393066, 3.5985000133514404, 3.598299980163574, 3.597899913787842, 3.597899913787842, 3.5978000164031982, 3.5969998836517334, 3.5966999530792236, 3.596100091934204, 3.5959999561309814, 3.5959999561309814, 3.595900058746338, 3.5957999229431152, 3.5957000255584717, 3.595599889755249, 3.5952000617980957, 3.5947999954223633, 3.5947999954223633, 3.5947999954223633, 3.5947000980377197, 3.5947000980377197, 3.5945000648498535, 3.594399929046631, 3.5941998958587646, 3.5941998958587646, 3.5941998958587646, 3.526599884033203, 3.2901999950408936, 3.2272000312805176, 3.4007999897003174, 3.1150999069213867, 3.0998001098632812, 1.6348999738693237, 2.9727001190185547, 1.0922000408172607, 2.9035000801086426, 0.3977999985218048, 1.7591999769210815, 3.7739999294281006, 3.7734999656677246, 3.7732999324798584, 3.7732999324798584, 3.773200035095215, 3.773099899291992, 3.773099899291992, 3.772700071334839, 3.772200107574463, 3.7716000080108643, 3.7716000080108643, 3.7715001106262207, 3.771399974822998, 3.7713000774383545, 3.771199941635132, 3.771199941635132, 3.7711000442504883, 3.7708001136779785, 3.7704999446868896, 3.7702999114990234, 3.77020001411438, 3.7699999809265137, 3.7697999477386475, 3.7697999477386475, 3.769700050354004, 3.7695999145507812, 3.7695999145507812, 3.7695000171661377, 3.7695000171661377, 3.7695000171661377, 3.7360000610351562, 3.6684000492095947, 3.66729998588562, 3.5048000812530518, 3.675299882888794, 3.6535000801086426, 3.119800090789795, 2.9848999977111816, 2.4916999340057373, 2.5564000606536865, 2.469399929046631, 3.0815000534057617, 3.8498001098632812, 3.8498001098632812, 3.849100112915039, 3.8485000133514404, 3.848400115966797, 3.8482000827789307, 3.8482000827789307, 3.847899913787842, 3.8475000858306885, 3.847399950027466, 3.847399950027466, 3.847100019454956, 3.8468000888824463, 3.8461999893188477, 3.8461999893188477, 3.8454999923706055, 3.8450000286102295, 3.8450000286102295, 3.8440001010894775, 3.8436999320983887, 3.843600034713745, 3.8431999683380127, 3.843100070953369, 3.8429999351501465, 3.8429999351501465, 3.8427999019622803, 3.842600107192993, 3.842600107192993, 3.8422999382019043, 3.8422999382019043, 3.8071000576019287, 3.737499952316284, 3.7953999042510986, 3.7230000495910645, 3.7037999629974365, 3.642400026321411, 3.619999885559082, 3.7142999172210693, 3.2690999507904053, 3.5497000217437744, 3.3166000843048096, 3.3101000785827637, 3.3194000720977783, 3.52020001411438, 2.7953999042510986, 3.8733999729156494, 3.871799945831299, 3.871500015258789, 3.871500015258789, 3.871299982070923, 3.8710999488830566, 3.8696000576019287, 3.8696000576019287, 3.869499921798706, 3.869499921798706, 3.8694000244140625, 3.86929988861084, 3.8691999912261963, 3.8691000938415527, 3.86899995803833, 3.8684000968933105, 3.8684000968933105, 3.8675999641418457, 3.867500066757202, 3.867300033569336, 3.8671000003814697, 3.8666000366210938, 3.8666000366210938, 3.866499900817871, 3.8661999702453613, 3.865999937057495, 3.8659000396728516, 3.8659000396728516, 3.8654000759124756, 3.8652000427246094, 3.8322999477386475, 3.647900104522705, 3.76990008354187, 2.962899923324585, 3.031399965286255, 2.0694000720977783, 0.6370000243186951, 0.7813000082969666, 4.076399803161621, 4.0756001472473145, 4.075300216674805, 4.075099945068359, 4.074999809265137, 4.07450008392334, 4.074399948120117, 4.0742998123168945, 4.073200225830078, 4.0725998878479, 4.0725998878479, 4.072500228881836, 4.071499824523926, 4.071100234985352, 4.071000099182129, 4.071000099182129, 4.070899963378906, 4.070199966430664, 4.070199966430664, 4.069900035858154, 4.069799900054932, 4.069699764251709, 4.069200038909912, 4.068699836730957, 4.068299770355225, 4.068299770355225, 4.06820011138916, 4.067599773406982, 4.066999912261963, 4.066699981689453, 3.9484000205993652, 3.933300018310547, 3.802500009536743, 3.3452000617980957, 3.969399929046631, 3.7555999755859375, 3.595099925994873, 3.8327999114990234, 3.154400110244751, 2.8018999099731445, 2.6572000980377197, 2.158600091934204, 2.6342999935150146, 4.0858001708984375, 4.085700035095215, 4.08519983291626, 4.084000110626221, 4.084000110626221, 4.083799839019775, 4.082099914550781, 4.0817999839782715, 4.0808000564575195, 4.08050012588501, 4.0802001953125, 4.079800128936768, 4.079800128936768, 4.079400062561035, 4.0792999267578125, 4.07919979095459, 4.07889986038208, 4.078100204467773, 4.078000068664551, 4.077300071716309, 4.077199935913086, 4.076900005340576, 4.076499938964844, 4.075799942016602, 4.075500011444092, 4.075099945068359, 4.07480001449585, 4.074699878692627, 4.0742998123168945, 4.0742998123168945, 4.061200141906738, 4.072299957275391, 3.1106998920440674, 4.183300018310547, 4.183199882507324, 4.182600021362305, 4.182300090789795, 4.180200099945068, 4.179800033569336, 4.179599761962891, 4.1793999671936035, 4.1793999671936035, 4.179299831390381, 4.178699970245361, 4.177599906921387, 4.177299976348877, 4.177199840545654, 4.1768999099731445, 4.176799774169922, 4.176499843597412, 4.175899982452393, 4.175600051879883, 4.175099849700928, 4.175000190734863, 4.174900054931641, 4.174600124359131, 4.174499988555908, 4.174099922180176, 4.173900127410889, 4.173600196838379, 4.172800064086914, 4.171999931335449, 4.171999931335449, 3.9530999660491943, 3.867300033569336, 4.046199798583984, 3.6333999633789062, 2.8838999271392822, 2.9077000617980957, 2.5905001163482666, 1.957200050354004, 3.330199956893921, 2.805500030517578, 2.476799964904785, 1.8240000009536743], \"logprob\": [30.0, 29.0, 28.0, 27.0, 26.0, 25.0, 24.0, 23.0, 22.0, 21.0, 20.0, 19.0, 18.0, 17.0, 16.0, 15.0, 14.0, 13.0, 12.0, 11.0, 10.0, 9.0, 8.0, 7.0, 6.0, 5.0, 4.0, 3.0, 2.0, 1.0, -4.08489990234375, -4.55649995803833, -5.160799980163574, -5.386899948120117, -5.913700103759766, -6.025700092315674, -6.067599773406982, -6.09689998626709, -6.232399940490723, -6.448699951171875, -6.473199844360352, -6.48330020904541, -3.1596999168395996, -6.502399921417236, -6.535200119018555, -6.048900127410889, -6.661499977111816, -6.675099849700928, -6.719600200653076, -6.719600200653076, -6.722300052642822, -6.746500015258789, -6.752099990844727, -6.793000221252441, -6.881800174713135, -6.893199920654297, -6.9008002281188965, -6.941699981689453, -6.942800045013428, -6.949999809265137, -3.0631000995635986, -4.176599979400635, -4.03439998626709, -4.672399997711182, -3.660599946975708, -6.095699787139893, -3.485599994659424, -6.022600173950195, -6.15310001373291, -6.052000045776367, -5.828000068664551, -4.376699924468994, -5.812399864196777, -4.2469000816345215, -5.098100185394287, -4.8302001953125, -3.9495999813079834, -4.922599792480469, -4.258699893951416, -4.426000118255615, -5.116499900817871, -5.186600208282471, -4.191800117492676, -5.372099876403809, -5.094900131225586, -5.201300144195557, -5.25439977645874, -5.590700149536133, -5.258200168609619, -4.816500186920166, -5.099899768829346, -5.365699768066406, -5.263700008392334, -5.214000225067139, -5.3471999168396, -5.432400226593018, -5.884200096130371, -6.0706000328063965, -6.158599853515625, -6.230199813842773, -6.325799942016602, -6.3979997634887695, -6.420400142669678, -6.424699783325195, -6.44890022277832, -6.4770002365112305, -6.470699787139893, -6.5391998291015625, -6.584199905395508, -6.655600070953369, -6.695000171661377, -6.701300144195557, -6.715700149536133, -6.725800037384033, -6.740900039672852, -6.777699947357178, -6.790800094604492, -6.792799949645996, -6.821000099182129, -6.867700099945068, -6.86899995803833, -6.8856000900268555, -6.901700019836426, -6.905600070953369, -6.909999847412109, -6.265200138092041, -5.79640007019043, -5.998499870300293, -6.387800216674805, -5.1479997634887695, -6.411099910736084, -5.339700222015381, -5.9604997634887695, -5.945799827575684, -6.106800079345703, -5.4745001792907715, -5.600200176239014, -5.754199981689453, -5.662499904632568, -5.334499835968018, -5.050600051879883, -5.246200084686279, -5.131499767303467, -5.518700122833252, -5.017199993133545, -5.575399875640869, -5.460000038146973, -4.541600227355957, -4.985000133514404, -5.461400032043457, -4.935100078582764, -5.7846999168396, -4.975299835205078, -5.428299903869629, -5.4131999015808105, -5.825099945068359, -4.767099857330322, -5.537199974060059, -4.97189998626709, -4.9328999519348145, -5.495800018310547, -5.149899959564209, -4.6545000076293945, -5.301599979400635, -5.457099914550781, -5.479300022125244, -5.26609992980957, -5.223299980163574, -5.473100185394287, -5.510499954223633, -5.475200176239014, -5.736299991607666, -5.846499919891357, -5.936600208282471, -6.036600112915039, -6.170499801635742, -6.2444000244140625, -6.5817999839782715, -6.613999843597412, -6.624800205230713, -6.625100135803223, -6.625899791717529, -6.626800060272217, -6.739299774169922, -6.789299964904785, -6.791500091552734, -6.797599792480469, -6.805300235748291, -6.87939977645874, -6.94350004196167, -6.956399917602539, -6.9903998374938965, -7.020400047302246, -7.026599884033203, -7.101200103759766, -7.105599880218506, -7.127200126647949, -7.198500156402588, -7.214900016784668, -7.225599765777588, -5.235000133514404, -5.676000118255615, -6.643700122833252, -4.258900165557861, -3.873800039291382, -6.553500175476074, -6.593200206756592, -5.451399803161621, -5.693399906158447, -2.9814999103546143, -5.821400165557861, -3.815200090408325, -3.452199935913086, -4.74459981918335, -6.26039981842041, -5.397799968719482, -5.068600177764893, -4.548699855804443, -5.169600009918213, -4.189899921417236, -4.903900146484375, -4.592700004577637, -5.0929999351501465, -6.1855998039245605, -4.3582000732421875, -3.992300033569336, -4.783199787139893, -4.544600009918213, -4.248600006103516, -3.9851999282836914, -4.80810022354126, -4.573500156402588, -4.493800163269043, -4.890699863433838, -5.023600101470947, -4.6844000816345215, -4.977799892425537, -5.08050012588501, -5.0706000328063965, -5.181700229644775, -5.050600051879883, -3.7690000534057617, -4.747499942779541, -4.792699813842773, -4.981400012969971, -4.997700214385986, -5.0183000564575195, -5.117400169372559, -5.1203999519348145, -5.149700164794922, -5.236599922180176, -5.29640007019043, -5.299300193786621, -5.380799770355225, -5.450900077819824, -5.532100200653076, -5.5605998039245605, -5.571899890899658, -5.59660005569458, -5.621699810028076, -5.632500171661377, -5.678500175476074, -5.694200038909912, -5.710599899291992, -5.737100124359131, -5.76039981842041, -5.769800186157227, -5.771500110626221, -5.809500217437744, -5.849999904632568, -5.9029998779296875, -3.930500030517578, -4.065899848937988, -4.867499828338623, -5.183899879455566, -5.35830020904541, -5.145100116729736, -4.876999855041504, -4.266600131988525, -4.346799850463867, -4.5671000480651855, -4.530399799346924, -4.323699951171875, -4.946499824523926, -5.138000011444092, -5.148900032043457, -4.8506999015808105, -5.146999835968018, -4.763500213623047, -5.174200057983398, -5.259799957275391, -5.244100093841553, -3.901099920272827, -4.647600173950195, -4.702400207519531, -4.840400218963623, -4.89769983291626, -5.021900177001953, -5.090199947357178, -5.1869001388549805, -5.3256001472473145, -5.469299793243408, -5.4934000968933105, -5.523799896240234, -5.592100143432617, -5.6020002365112305, -5.618599891662598, -5.6219000816345215, -5.724899768829346, -5.730999946594238, -5.7677001953125, -5.830999851226807, -5.933000087738037, -5.953000068664551, -6.035900115966797, -6.053599834442139, -6.077000141143799, -6.091599941253662, -6.138199806213379, -6.154200077056885, -6.156400203704834, -6.1996002197265625, -5.370800018310547, -4.185200214385986, -4.576399803161621, -4.487100124359131, -4.371600151062012, -4.217700004577637, -4.098899841308594, -5.061800003051758, -5.111700057983398, -4.759699821472168, -4.42609977722168, -4.820000171661377, -4.969900131225586, -4.682300090789795, -4.787899971008301, -4.9944000244140625, -5.092299938201904, -5.078999996185303, -5.243899822235107, -5.0665998458862305, -4.643799781799316, -4.92710018157959, -4.958000183105469, -5.036300182342529, -5.027900218963623, -0.20489999651908875, -5.684299945831299, -5.730999946594238, -5.8125, -6.00570011138916, -6.053500175476074, -6.122900009155273, -6.15369987487793, -6.256100177764893, -6.262599945068359, -6.303500175476074, -6.331900119781494, -6.396299839019775, -6.466800212860107, -6.563300132751465, -6.5731000900268555, -6.64139986038208, -6.6946001052856445, -6.716100215911865, -6.721199989318848, -6.786399841308594, -6.810500144958496, -6.911099910736084, -6.9868998527526855, -7.049699783325195, -7.050099849700928, -7.052800178527832, -7.053299903869629, -7.068699836730957, -7.094200134277344, -3.6891000270843506, -3.7548000812530518, -4.548299789428711, -4.655399799346924, -4.821800231933594, -4.890699863433838, -4.924900054931641, -4.939599990844727, -5.007199764251709, -5.144599914550781, -5.18720006942749, -5.2789998054504395, -5.345399856567383, -5.443399906158447, -5.447800159454346, -5.571700096130371, -5.590400218963623, -5.6194000244140625, -5.649400234222412, -5.650100231170654, -5.675300121307373, -5.678199768066406, -5.724100112915039, -5.773600101470947, -5.801300048828125, -5.829100131988525, -5.848899841308594, -5.865099906921387, -5.86870002746582, -5.884900093078613, -4.886099815368652, -4.384300231933594, -4.837600231170654, -4.837699890136719, -4.519700050354004, -5.59119987487793, -4.8043999671936035, -4.706299781799316, -5.082900047302246, -5.05019998550415, -5.2708001136779785, -5.4079999923706055, -5.012899875640869, -5.512599945068359, -5.447299957275391, -5.563799858093262, -5.094699859619141, -5.113699913024902, -5.200500011444092, -5.219299793243408, -5.231400012969971, -5.232800006866455, -5.255799770355225, -5.278500080108643, -5.300600051879883, -5.415999889373779, -5.426000118255615, -5.4309000968933105, -5.455699920654297, -5.523399829864502, -5.538599967956543, -5.5756001472473145, -5.588699817657471, -5.600599765777588, -5.680799961090088, -5.711599826812744, -5.712900161743164, -5.737299919128418, -5.763999938964844, -5.816299915313721, -5.835899829864502, -5.978499889373779, -5.98799991607666, -5.988800048828125, -6.000199794769287, -6.007900238037109, -4.907100200653076, -5.2795000076293945, -5.31689977645874, -4.725100040435791, -5.332099914550781, -4.511000156402588, -4.76230001449585, -5.168900012969971, -4.658899784088135, -4.977700233459473, -5.569499969482422, -5.3780999183654785, -4.721700191497803, -5.1732001304626465, -5.318999767303467, -5.214900016784668, -5.198299884796143, -5.468999862670898, -5.423799991607666, -3.720599889755249, -4.449999809265137, -4.562099933624268, -4.593699932098389, -4.846399784088135, -4.875899791717529, -4.910999774932861, -4.994800090789795, -4.999499797821045, -5.0, -5.195700168609619, -5.338399887084961, -5.398099899291992, -5.40500020980835, -5.451499938964844, -5.473899841308594, -5.507299900054932, -5.585000038146973, -5.642199993133545, -5.716599941253662, -5.746300220489502, -5.751200199127197, -5.839399814605713, -5.8460001945495605, -5.858699798583984, -5.955399990081787, -5.989200115203857, -5.997499942779541, -6.001399993896484, -6.057799816131592, -3.5155999660491943, -5.214099884033203, -5.3730998039245605, -5.599899768829346, -4.354700088500977, -3.824899911880493, -5.174300193786621, -4.5559000968933105, -4.053999900817871, -4.203100204467773, -5.311100006103516, -5.26639986038208, -5.38040018081665, -5.204100131988525, -5.454999923706055, -5.4629998207092285, -3.5569000244140625, -3.799099922180176, -4.5696001052856445, -4.667699813842773, -4.769499778747559, -4.808499813079834, -4.910999774932861, -5.006800174713135, -5.105500221252441, -5.204100131988525, -5.242000102996826, -5.265600204467773, -5.272600173950195, -5.27400016784668, -5.395999908447266, -5.441699981689453, -5.453199863433838, -5.4868998527526855, -5.504199981689453, -5.505899906158447, -5.571800231933594, -5.596799850463867, -5.621399879455566, -5.631800174713135, -5.644000053405762, -5.655600070953369, -5.701600074768066, -5.719799995422363, -5.735799789428711, -5.742800235748291, -5.18310022354126, -5.015999794006348, -4.530399799346924, -4.706200122833252, -5.133500099182129, -5.287799835205078, -4.623300075531006, -4.60699987411499, -4.3703999519348145, -4.279399871826172, -4.907800197601318, -5.392600059509277, -5.159599781036377, -5.028299808502197, -5.309599876403809, -5.061500072479248, -5.076900005340576, -2.6045000553131104, -4.579899787902832, -4.994200229644775, -5.125800132751465, -5.1915998458862305, -5.195300102233887, -5.256199836730957, -5.272200107574463, -5.413700103759766, -5.4558000564575195, -5.483799934387207, -5.493000030517578, -5.601399898529053, -5.6031999588012695, -5.619900226593018, -5.621699810028076, -5.6722002029418945, -5.686699867248535, -5.69950008392334, -5.71560001373291, -5.7332000732421875, -5.7459001541137695, -5.789700031280518, -5.800000190734863, -5.803599834442139, -5.819900035858154, -5.830100059509277, -5.8420000076293945, -5.855899810791016, -5.8592000007629395, -5.795300006866455, -5.18779993057251, -4.027599811553955, -5.602099895477295, -5.239699840545654, -4.209499835968018, -4.547299861907959, -5.484300136566162, -5.371699810028076, -4.401400089263916, -4.9710001945495605, -5.153200149536133, -4.948599815368652, -5.156000137329102, -5.070199966430664, -4.754000186920166, -4.2708001136779785, -5.2967000007629395, -5.326300144195557, -5.174900054931641, -5.313300132751465, -5.376999855041504, -3.246799945831299, -4.712699890136719, -4.8059000968933105, -4.999599933624268, -5.03000020980835, -5.123300075531006, -5.143099784851074, -5.159900188446045, -5.174900054931641, -5.236400127410889, -5.301799774169922, -5.322199821472168, -5.436100006103516, -5.441199779510498, -5.465000152587891, -5.474400043487549, -5.478000164031982, -5.482399940490723, -5.630000114440918, -5.638199806213379, -5.64900016784668, -5.68209981918335, -5.750800132751465, -5.753600120544434, -5.8007001876831055, -5.834499835968018, -5.8719000816345215, -5.902500152587891, -5.923799991607666, -5.938700199127197, -5.320199966430664, -4.768700122833252, -4.904799938201904, -5.601200103759766, -5.358699798583984, -4.5065999031066895, -5.174099922180176, -4.815999984741211, -4.979400157928467, -5.430600166320801, -5.250899791717529, -5.327499866485596, -5.214600086212158, -5.34119987487793, -5.17609977722168, -5.4217000007629395, -5.459099769592285, -4.189799785614014, -4.448999881744385, -4.855299949645996, -4.961599826812744, -5.014200210571289, -5.287099838256836, -5.308300018310547, -5.310400009155273, -5.133699893951416, -5.339600086212158, -5.504799842834473, -5.539000034332275, -5.5447001457214355, -5.5782999992370605, -5.599699974060059, -5.609099864959717, -5.622799873352051, -5.630000114440918, -5.697500228881836, -5.714200019836426, -5.717100143432617, -5.739099979400635, -5.748799800872803, -5.77209997177124, -5.787600040435791, -5.78980016708374, -5.853300094604492, -5.9517998695373535, -5.96619987487793, -5.96999979019165, -5.369800090789795, -5.73960018157959, -4.860300064086914, -4.656700134277344, -4.766499996185303, -4.817599773406982, -5.337699890136719, -4.804599761962891, -5.293700218200684, -4.717599868774414, -5.166200160980225, -5.122900009155273, -5.106299877166748, -5.402500152587891, -5.585299968719482, -5.562699794769287, -5.535999774932861, -5.570300102233887, -5.571000099182129, -3.3538999557495117, -3.4045000076293945, -3.963099956512451, -4.16349983215332, -4.350900173187256, -4.480100154876709, -4.57289981842041, -4.732399940490723, -4.764400005340576, -4.794000148773193, -5.057499885559082, -5.133800029754639, -5.280900001525879, -5.3069000244140625, -5.3105998039245605, -5.332699775695801, -5.342299938201904, -5.361000061035156, -5.387899875640869, -5.467100143432617, -5.536600112915039, -5.538400173187256, -5.541399955749512, -5.552499771118164, -5.565499782562256, -5.595200061798096, -5.615600109100342, -5.645599842071533, -5.650000095367432, -5.650300025939941, -5.020699977874756, -4.051799774169922, -4.070499897003174, -5.405200004577637, -5.133399963378906, -5.184700012207031, -4.509200096130371, -5.312399864196777, -5.2316999435424805, -5.455999851226807, -5.293000221252441, -5.4319000244140625, -4.247099876403809, -4.467899799346924, -4.5569000244140625, -4.573800086975098, -4.5960001945495605, -4.630099773406982, -4.643199920654297, -4.785600185394287, -4.929900169372559, -5.072400093078613, -5.0903000831604, -5.105100154876709, -5.135000228881836, -5.139999866485596, -5.163599967956543, -5.176499843597412, -5.189000129699707, -5.2571001052856445, -5.3231000900268555, -5.360599994659424, -5.369800090789795, -5.398499965667725, -5.442500114440918, -5.445799827575684, -5.4552998542785645, -5.465700149536133, -5.471399784088135, -5.4882001876831055, -5.488800048828125, -5.493000030517578, -4.609799861907959, -3.940500020980835, -4.413099765777588, -4.616499900817871, -5.242099761962891, -5.319300174713135, -5.083099842071533, -5.043799877166748, -4.944200038909912, -4.9893999099731445, -5.075399875640869, -5.2779998779296875, -4.19950008392334, -4.210000038146973, -4.517000198364258, -4.7210001945495605, -4.744999885559082, -4.797800064086914, -4.807000160217285, -4.884699821472168, -4.999300003051758, -5.013400077819824, -5.02839994430542, -5.092199802398682, -5.156400203704834, -5.269899845123291, -5.27239990234375, -5.395199775695801, -5.465199947357178, -5.4710001945495605, -5.605199813842773, -5.648799896240234, -5.651899814605713, -5.707900047302246, -5.721399784088135, -5.724100112915039, -5.7256999015808105, -5.753900051116943, -5.770599842071533, -5.7769999504089355, -5.804900169372559, -5.80620002746582, -4.912700176239014, -4.047999858856201, -5.163700103759766, -4.590099811553955, -5.221799850463867, -5.035999774932861, -5.000100135803223, -5.354499816894531, -4.4004998207092285, -5.156199932098389, -4.861199855804443, -5.198800086975098, -5.382699966430664, -5.417600154876709, -5.326300144195557, -3.2183001041412354, -4.350900173187256, -4.477700233459473, -4.486800193786621, -4.5467000007629395, -4.618199825286865, -5.037899971008301, -5.04640007019043, -5.068999767303467, -5.074100017547607, -5.084099769592285, -5.112400054931641, -5.126699924468994, -5.149600028991699, -5.170599937438965, -5.274099826812744, -5.27839994430542, -5.417600154876709, -5.421899795532227, -5.4583001136779785, -5.492000102996826, -5.553599834442139, -5.558599948883057, -5.573599815368652, -5.6072998046875, -5.631800174713135, -5.645599842071533, -5.6479997634887695, -5.706099987030029, -5.727200031280518, -5.4039998054504395, -4.524899959564209, -5.277900218963623, -4.998799800872803, -5.51170015335083, -5.5441999435424805, -5.5071001052856445, -5.542600154876709, -3.6366000175476074, -4.075200080871582, -4.211699962615967, -4.3196001052856445, -4.329400062561035, -4.51200008392334, -4.540800094604492, -4.578800201416016, -4.851900100708008, -4.966000080108643, -4.967800140380859, -5.000800132751465, -5.175899982452393, -5.236100196838379, -5.242800235748291, -5.244800090789795, -5.268899917602539, -5.356800079345703, -5.358099937438965, -5.398600101470947, -5.416399955749512, -5.42579984664917, -5.484799861907959, -5.544099807739258, -5.583799839019775, -5.5894999504089355, -5.6031999588012695, -5.662899971008301, -5.715000152587891, -5.747700214385986, -4.184800148010254, -5.269899845123291, -4.958799839019775, -4.3607001304626465, -5.472799777984619, -5.254899978637695, -5.173999786376953, -5.364299774169922, -4.856599807739258, -4.839099884033203, -5.165800094604492, -5.091000080108643, -5.265600204467773, -3.3864998817443848, -3.5329999923706055, -3.862799882888794, -4.4232001304626465, -4.425600051879883, -4.504700183868408, -4.945799827575684, -5.010000228881836, -5.189199924468994, -5.230199813842773, -5.280700206756592, -5.333099842071533, -5.3394999504089355, -5.3917999267578125, -5.403600215911865, -5.417200088500977, -5.457900047302246, -5.557400226593018, -5.569200038909912, -5.6346001625061035, -5.648799896240234, -5.681600093841553, -5.7220001220703125, -5.7906999588012695, -5.815400123596191, -5.852700233459473, -5.871300220489502, -5.885000228881836, -5.911600112915039, -5.916800022125244, -4.258999824523926, -5.850200176239014, -5.507599830627441, -3.9356000423431396, -3.9677999019622803, -4.233399868011475, -4.354400157928467, -4.8694000244140625, -4.961900234222412, -4.989099979400635, -5.0278000831604, -5.0295000076293945, -5.03879976272583, -5.132400035858154, -5.294000148773193, -5.326000213623047, -5.340700149536133, -5.3805999755859375, -5.387800216674805, -5.430200099945068, -5.489999771118164, -5.523399829864502, -5.576000213623047, -5.5802998542785645, -5.596199989318848, -5.624300003051758, -5.631999969482422, -5.66480016708374, -5.68779993057251, -5.713799953460693, -5.781799793243408, -5.839600086212158, -5.842800140380859, -4.540900230407715, -4.172399997711182, -5.150599956512451, -3.898200035095215, -4.594900131225586, -4.888199806213379, -5.116099834442139, -5.0671000480651855, -5.480000019073486, -5.455999851226807, -5.427999973297119, -5.51230001449585]}, \"token.table\": {\"Topic\": [19, 2, 7, 20, 5, 5, 1, 12, 10, 13, 8, 16, 14, 1, 11, 10, 1, 2, 3, 4, 5, 7, 12, 9, 3, 8, 9, 12, 6, 9, 18, 13, 7, 15, 18, 1, 2, 4, 1, 1, 17, 10, 4, 5, 8, 14, 2, 1, 2, 5, 8, 9, 12, 13, 2, 17, 17, 9, 13, 9, 2, 10, 11, 18, 1, 2, 3, 20, 8, 2, 20, 2, 10, 13, 2, 12, 2, 1, 10, 5, 10, 3, 11, 1, 3, 17, 6, 17, 15, 20, 9, 3, 19, 17, 1, 12, 19, 1, 3, 7, 2, 3, 7, 7, 1, 1, 2, 4, 10, 19, 8, 9, 10, 13, 16, 19, 3, 4, 14, 11, 13, 2, 5, 7, 18, 13, 14, 8, 16, 17, 3, 16, 20, 11, 20, 5, 18, 6, 10, 8, 6, 1, 2, 4, 10, 12, 20, 16, 17, 8, 17, 20, 16, 1, 5, 11, 4, 18, 17, 1, 2, 3, 4, 5, 10, 20, 8, 11, 14, 14, 6, 11, 13, 1, 4, 9, 3, 9, 12, 1, 2, 4, 9, 20, 8, 10, 12, 14, 16, 19, 18, 1, 5, 8, 10, 12, 13, 6, 12, 2, 5, 20, 17, 1, 13, 3, 7, 10, 11, 7, 7, 7, 7, 19, 18, 6, 9, 18, 13, 2, 7, 10, 1, 2, 2, 8, 4, 10, 9, 14, 5, 10, 20, 11, 4, 1, 2, 3, 4, 7, 8, 2, 13, 8, 10, 15, 10, 5, 20, 3, 15, 18, 2, 2, 10, 12, 18, 20, 3, 9, 13, 18, 1, 2, 3, 9, 9, 18, 14, 2, 8, 10, 20, 2, 1, 2, 4, 5, 10, 12, 13, 4, 16, 9, 4, 8, 10, 18, 5, 4, 11, 1, 2, 3, 10, 11, 20, 2, 3, 9, 9, 8, 11, 18, 3, 5, 9, 9, 17, 10, 19, 1, 3, 5, 10, 14, 17, 19, 20, 1, 2, 4, 12, 18, 12, 17, 11, 17, 16, 4, 5, 8, 10, 12, 2, 3, 4, 14, 15, 3, 1, 3, 5, 7, 8, 11, 6, 3, 7, 13, 2, 10, 14, 2, 15, 1, 13, 15, 18, 18, 20, 15, 16, 1, 10, 12, 14, 20, 20, 14, 2, 5, 15, 15, 4, 10, 14, 3, 7, 5, 6, 9, 2, 2, 5, 15, 4, 10, 1, 11, 15, 1, 11, 1, 4, 8, 17, 18, 1, 8, 14, 1, 2, 3, 4, 7, 12, 3, 1, 11, 11, 1, 14, 20, 19, 1, 4, 1, 4, 3, 7, 8, 12, 20, 3, 16, 15, 5, 13, 19, 19, 10, 12, 1, 4, 18, 13, 10, 10, 8, 1, 1, 13, 14, 20, 9, 15, 20, 19, 12, 13, 16, 2, 4, 15, 20, 6, 2, 8, 1, 2, 3, 7, 10, 2, 5, 20, 14, 2, 4, 12, 4, 11, 2, 16, 3, 16, 2, 3, 7, 18, 14, 4, 18, 7, 4, 5, 18, 19, 13, 9, 3, 13, 4, 10, 2, 5, 14, 6, 10, 6, 9, 13, 16, 3, 18, 1, 2, 3, 8, 10, 12, 14, 17, 20, 12, 2, 12, 13, 2, 4, 5, 7, 20, 4, 2, 3, 16, 12, 16, 3, 13, 4, 20, 15, 19, 16, 16, 8, 12, 10, 5, 12, 4, 10, 20, 14, 19, 7, 14, 18, 5, 2, 8, 11, 2, 1, 3, 4, 18, 4, 16, 1, 2, 3, 1, 3, 14, 14, 7, 17, 1, 2, 3, 7, 14, 15, 8, 9, 10, 13, 15, 19, 19, 4, 2, 17, 3, 9, 12, 2, 3, 5, 8, 9, 7, 18, 9, 9, 20, 11, 17, 9, 10, 1, 3, 10, 6, 8, 3, 1, 3, 1, 14, 4, 3, 7, 16, 16, 13, 3, 18, 1, 2, 3, 4, 5, 19, 19, 19, 1, 3, 4, 8, 9, 10, 11, 12, 17, 1, 11, 14, 17, 14, 14, 1, 15, 15, 7, 7, 8, 1, 5, 5, 13, 3, 9, 16, 18, 1, 2, 4, 17, 2, 7, 9, 3, 15, 14, 4, 9, 5, 4, 5, 12, 3, 9, 2, 1, 4, 12, 2, 5, 9, 13, 20, 1, 4, 5, 2, 5, 10, 15, 8, 4, 10, 15, 2, 1, 20, 19, 1, 13, 5, 17, 13, 13, 2, 8, 9, 10, 11, 11, 2, 2, 13, 3, 16, 10, 10, 3, 3, 13, 7, 8, 1, 2, 3, 4, 7, 18, 8, 16, 3, 13, 20, 4, 1, 2, 3, 4, 5, 10, 11, 12, 3, 19, 3, 12, 7, 9, 9, 6, 17, 13, 9, 10, 18, 6, 19, 1, 2, 3, 10, 1, 2, 3, 12, 15, 5, 20, 2, 3, 7, 12, 16, 1, 2, 3, 1, 1, 5, 5, 8, 16, 18, 15, 17, 1, 3, 5, 7, 1, 3, 1, 3, 7, 1, 4, 11, 12, 16, 13, 4, 4, 11, 15, 10, 5, 5, 1, 2, 3, 4, 3, 7, 8, 13, 17, 1, 2, 3, 4, 5, 8, 8, 7, 6, 9, 10, 12, 13, 10, 11, 5, 3, 11, 1, 2, 5, 8, 10, 1, 2, 3, 7, 9, 15, 8, 2, 3, 4, 8, 4, 8, 1, 2, 5, 10, 12, 19, 19, 16, 11, 5, 11, 14, 11, 9, 13, 9, 16, 13, 12, 8, 11, 8, 5, 4, 1, 12, 4, 12, 3, 11, 4, 12, 18, 12, 5, 7, 6, 8, 8, 16, 5, 1, 20, 12, 4, 13, 8, 9, 3, 20, 2, 1, 2, 3, 11, 18, 1, 2, 4, 7, 20, 17, 7, 12, 8, 9, 18, 19, 10, 1, 2, 3, 4, 5, 10, 3, 5, 10, 18, 1, 2, 3, 7, 1, 2, 3, 4, 5, 8, 10, 11, 6, 3, 11, 17, 3, 5, 8, 5, 3, 14, 1, 20, 1, 7, 1, 2, 3, 7, 10, 13, 19, 6, 14, 15, 11, 3, 5, 3, 1, 19, 12, 6, 1, 5, 1, 12, 18, 18, 5, 2, 5, 7, 15, 12, 1, 2, 5, 11, 19, 2, 7, 15, 16, 3, 11, 4, 3, 17, 6, 2, 3, 7, 9, 1, 2, 2, 8, 14, 9, 4, 14, 4, 10, 18, 2, 3, 11, 5, 18, 20, 14, 8, 14, 15, 13, 17, 1, 2, 14, 14, 14, 13, 1, 2, 3, 14, 9, 9, 6, 16, 3, 9, 13, 4, 18, 1, 2, 5, 2, 18, 1, 2, 9, 12, 16, 6, 8, 2, 16, 18, 2, 15, 16, 4, 5, 11, 2, 10, 13, 9, 11, 16, 1, 2, 3, 4, 15, 4, 5, 10, 12, 9, 8, 12, 2, 9, 20, 9, 11, 15, 5, 2, 9, 10, 11, 13, 2, 5, 6, 6, 1, 2, 4, 5, 5, 12, 4, 17, 13, 1, 2, 11, 8, 19, 1, 2, 4, 5, 7, 20, 15, 1, 2, 3, 13, 5, 7, 12, 15, 20, 9, 13, 16, 17, 7, 1, 5, 11, 15, 17, 2, 5, 11, 13, 1, 8, 15, 16, 8, 15, 2, 9, 1, 2, 3, 4, 8, 13, 17, 18, 20, 15, 4, 11, 11, 11, 1, 2, 3, 9, 16, 11, 11, 16, 17, 1, 4, 12, 13, 1, 8, 11, 2, 20, 1, 3, 4, 5, 11, 14, 17, 2, 1, 3, 20, 5, 11, 8, 8, 11, 7, 8, 1, 2, 3, 7, 11, 12, 8, 8, 15, 8, 15, 20, 14, 4, 11, 7, 4, 16, 15, 14, 11, 1, 2, 4, 8, 14, 13, 10, 9, 10, 13, 1, 2, 3, 4, 16, 1, 5, 10, 11, 9, 2, 3, 5, 2, 7, 17, 5, 2, 3, 5, 9, 18, 2, 3, 4, 5, 16, 20, 4, 7, 10, 4, 16, 17, 20, 11, 19, 3, 12, 7, 6, 5, 12, 4, 5, 10, 11, 12, 20, 12, 16, 3, 4, 4, 5, 13, 3, 3, 4, 15, 7, 1, 2, 4, 5, 7, 12, 13, 20, 13, 12, 8, 7, 10, 5, 20, 3, 1, 4, 13, 1, 3, 4, 14, 11, 1, 2, 9, 13, 2, 12, 3, 3, 20, 1, 6, 20, 5, 8, 18, 7, 8, 3, 15, 17, 17, 11, 5, 6, 4, 15, 16, 2, 3, 4, 5, 9, 12, 1, 2, 4, 5, 10, 12, 10, 16, 1, 2, 3, 1, 2, 3, 7, 14, 19, 10, 4, 3, 11, 16, 14, 5, 10, 12, 15, 1, 2, 3, 4, 7, 2, 4, 5, 13, 13, 1, 4, 15, 1, 4, 5, 1, 3, 2, 1, 2, 3, 7, 1, 2, 3, 7, 15, 1, 2, 10, 10, 6, 1, 2, 3, 4, 8, 10, 18, 11, 2, 3, 9, 13, 17, 13, 16, 14, 19, 2, 3, 11, 12, 11, 13, 14, 13, 15, 10, 3, 1, 2, 4, 7, 2, 7, 1, 2, 3, 4, 17, 17, 17, 4, 10, 12, 9, 15, 1, 5, 8, 11, 14, 17, 5, 5, 1, 5, 8, 10, 11, 1, 2, 4, 5, 9, 10, 12, 15, 18, 4, 5, 10, 2, 11, 20, 12, 14, 2, 5, 13, 17, 7, 4, 5, 4, 20, 4, 4, 2, 5, 7, 4, 18, 12, 18, 2, 8, 20, 4, 8, 10, 16, 1, 1, 2, 3, 4, 8, 9, 16, 16, 1, 2, 3, 9, 3, 1, 2, 3, 16, 1, 5, 14, 16, 4, 16, 2, 14, 6, 18, 10, 18, 3, 7, 1, 3, 2, 4, 5, 7, 1, 2, 3, 4, 10, 15, 17, 2, 3, 4, 7, 17, 2, 1, 2, 3, 19, 1, 2, 3, 7, 4, 19, 19, 17, 1, 2, 3, 5, 7, 8, 9, 11, 13, 15, 17, 18, 20, 2, 3, 8, 11, 14, 17, 11, 2, 4, 3, 14, 7], \"Freq\": [0.998896598815918, 0.8100654482841492, 0.1765383929014206, 0.012290648184716702, 0.9985588788986206, 0.9987264275550842, 0.9976242780685425, 0.996577262878418, 0.856126070022583, 0.1418723165988922, 0.18578064441680908, 0.8123349547386169, 0.994179904460907, 0.9970375895500183, 0.9922982454299927, 0.9969075322151184, 0.2606998383998871, 0.37296080589294434, 0.05832309275865555, 0.06490088254213333, 0.20325377583503723, 0.01512892171740532, 0.024557091295719147, 0.9903798699378967, 0.30760955810546875, 0.15238504111766815, 0.539499819278717, 0.9955776333808899, 0.9867256283760071, 0.2690778970718384, 0.7260026335716248, 0.9961946606636047, 0.9944320321083069, 0.9940122961997986, 0.9921653270721436, 0.07017233222723007, 0.8914484977722168, 0.037251975387334824, 0.9978675246238708, 0.9996746182441711, 0.9957117438316345, 0.9988033771514893, 0.2521514892578125, 0.7463683485984802, 0.8935086131095886, 0.10409808903932571, 0.9969624876976013, 0.43665170669555664, 0.12053406238555908, 0.08642064779996872, 0.03638764098286629, 0.02729073166847229, 0.06367837637662888, 0.2262856513261795, 0.998157262802124, 0.9950520396232605, 0.9993887543678284, 0.032740138471126556, 0.9634954929351807, 0.9982401728630066, 0.07976952940225601, 0.035896286368370056, 0.26323944330215454, 0.6182138323783875, 0.8878934383392334, 0.1026824489235878, 0.009358733892440796, 0.9975056052207947, 0.9941011071205139, 0.9962525367736816, 0.9882121086120605, 0.07652298361063004, 0.07652298361063004, 0.8457803726196289, 0.9983562231063843, 0.9930333495140076, 0.995125949382782, 0.9972632527351379, 0.9967901706695557, 0.9108970761299133, 0.08823150396347046, 0.016902949661016464, 0.9803710579872131, 0.014973150566220284, 0.9122104048728943, 0.0714104101061821, 0.9999751448631287, 0.9965075254440308, 0.994700014591217, 0.9944356083869934, 0.9923238754272461, 0.6208972930908203, 0.3773409128189087, 0.9967254400253296, 0.9967700242996216, 0.9945386052131653, 0.990483283996582, 0.46030303835868835, 0.539588451385498, 0.9991250038146973, 0.35840463638305664, 0.3758452534675598, 0.26553335785865784, 0.9988449811935425, 0.9989428520202637, 0.18135085701942444, 0.06755015254020691, 0.42964330315589905, 0.32071107625961304, 0.9883562326431274, 0.13127750158309937, 0.1055927723646164, 0.7619802951812744, 0.4150548577308655, 0.5810768008232117, 0.9985348582267761, 0.017625169828534126, 0.963089644908905, 0.017625169828534126, 0.9926170706748962, 0.9921554923057556, 0.38767385482788086, 0.3121103048324585, 0.2273477166891098, 0.07162110507488251, 0.9937025904655457, 0.9969801902770996, 0.9957020282745361, 0.9896432161331177, 0.9903209805488586, 0.9678272008895874, 0.02889036387205124, 0.9914236068725586, 0.9958873987197876, 0.9950739741325378, 0.9943032264709473, 0.988537073135376, 0.9965137839317322, 0.9923486113548279, 0.9951887130737305, 0.9931247234344482, 0.24935650825500488, 0.07423590868711472, 0.1656031757593155, 0.046635378152132034, 0.3692760467529297, 0.09422250092029572, 0.8796902298927307, 0.11880873143672943, 0.5662968158721924, 0.4294947683811188, 0.9970867037773132, 0.9939092993736267, 0.9995431900024414, 0.8926618695259094, 0.10708342492580414, 0.6017739772796631, 0.3980678915977478, 0.9939615726470947, 0.21978680789470673, 0.2540527880191803, 0.246438130736351, 0.0034612095914781094, 0.2415924370288849, 0.03426597639918327, 0.9904416799545288, 0.08256381005048752, 0.6623053550720215, 0.2530760169029236, 0.997698187828064, 0.9922378063201904, 0.9913712739944458, 0.994454562664032, 0.9995579719543457, 0.9694656729698181, 0.029814423993229866, 0.39406710863113403, 0.4156826138496399, 0.18955126404762268, 0.20059597492218018, 0.5840522646903992, 0.03241337463259697, 0.1822487711906433, 0.00061157310847193, 0.9962525963783264, 0.11803688108921051, 0.12747983634471893, 0.033050328493118286, 0.7176642417907715, 0.9918197989463806, 0.9909442663192749, 0.2085123509168625, 0.039424605667591095, 0.4827323853969574, 0.012265432626008987, 0.02277866005897522, 0.23479542136192322, 0.995423436164856, 0.9937313199043274, 0.22087186574935913, 0.5257710814476013, 0.2520820200443268, 0.9972187280654907, 0.9964774250984192, 0.9982491135597229, 0.616523802280426, 0.3823545277118683, 0.9988034963607788, 0.9915919899940491, 0.9963375926017761, 0.9993906617164612, 0.9979056715965271, 0.997473418712616, 0.9967830181121826, 0.9972360730171204, 0.992337703704834, 0.9978002905845642, 0.9893279671669006, 0.9936609268188477, 0.9341704845428467, 0.06546394526958466, 0.9964434504508972, 0.04171283170580864, 0.9564156532287598, 0.9982326030731201, 0.9966660737991333, 0.9956297874450684, 0.9985143542289734, 0.9981556534767151, 0.9946367144584656, 0.47196701169013977, 0.25464266538619995, 0.2722042202949524, 0.99430912733078, 0.9988627433776855, 0.1949014663696289, 0.004109368193894625, 0.6991796493530273, 0.0164374727755785, 0.08512263000011444, 0.9932313561439514, 0.10889504104852676, 0.8867167234420776, 0.07486836612224579, 0.9233765006065369, 0.9941542148590088, 0.9966967701911926, 0.5692952871322632, 0.42385488748550415, 0.9948744773864746, 0.9986425638198853, 0.9939672946929932, 0.9965826869010925, 0.9800126552581787, 0.017022551968693733, 0.9920650124549866, 0.9979082345962524, 0.9925894141197205, 0.02147768624126911, 0.9020627737045288, 0.07517190277576447, 0.997452974319458, 0.16948772966861725, 0.7490496039390564, 0.053144458681344986, 0.027290398254990578, 0.997256338596344, 0.993414044380188, 0.9977201819419861, 0.32754674553871155, 0.0853712260723114, 0.4547324478626251, 0.13067024946212769, 0.9974676370620728, 0.1392512023448944, 0.3454705476760864, 0.04570841044187546, 0.08078695833683014, 0.008503890596330166, 0.1998414248228073, 0.17858169972896576, 0.9964977502822876, 0.9931318163871765, 0.9965553879737854, 0.4364583194255829, 0.25083813071250916, 0.07525143772363663, 0.23578782379627228, 0.9967187643051147, 0.049214500933885574, 0.9494296908378601, 0.33924248814582825, 0.1207888275384903, 0.5223300457000732, 0.01741100288927555, 0.9963125586509705, 0.9951521158218384, 0.19972945749759674, 0.5318377614021301, 0.2670800983905792, 0.9964619278907776, 0.25068292021751404, 0.2672114670276642, 0.4807051718235016, 0.995961606502533, 0.9971895813941956, 0.9976598620414734, 0.9982161521911621, 0.9949591755867004, 0.9948257207870483, 0.9858474135398865, 0.0025459062308073044, 0.0025459062308073044, 0.0025459062308073044, 0.0025459062308073044, 0.005091812461614609, 0.0025459062308073044, 0.9750820994377136, 0.005091812461614609, 0.28399255871772766, 0.1923404186964035, 0.14328716695308685, 0.09939739853143692, 0.27882906794548035, 0.9920873641967773, 0.9932062029838562, 0.9939281344413757, 0.9915337562561035, 0.992012619972229, 0.14213813841342926, 0.3835907280445099, 0.09111418575048447, 0.27607598900794983, 0.10660360008478165, 0.09271940588951111, 0.3309730589389801, 0.23121167719364166, 0.04812019690871239, 0.29576316475868225, 0.997433066368103, 0.05145277827978134, 0.74202561378479, 0.008079362101852894, 0.061658285558223724, 0.13649868965148926, 0.9960615634918213, 0.9836499691009521, 0.4450523555278778, 0.4277535080909729, 0.12580984830856323, 0.99755859375, 0.9948537945747375, 0.9930229187011719, 0.9959518313407898, 0.9945942163467407, 0.4147776663303375, 0.2721978425979614, 0.28029897809028625, 0.03240450471639633, 0.7598334550857544, 0.23744796216487885, 0.9021106362342834, 0.09252416342496872, 0.3990478515625, 0.2492137998342514, 0.35012245178222656, 0.9961584210395813, 0.993253767490387, 0.9884729385375977, 0.9960145950317383, 0.18565087020397186, 0.2943245470523834, 0.5184639692306519, 0.996432900428772, 0.3000592887401581, 0.6981867551803589, 0.9976170659065247, 0.4524453282356262, 0.5466194748878479, 0.9975853562355042, 0.9888466000556946, 0.9974654316902161, 0.9972341060638428, 0.9585568308830261, 0.039372000843286514, 0.9948055744171143, 0.9356501698493958, 0.06302306801080704, 0.9988585710525513, 0.9093726873397827, 0.08896037191152573, 0.925531268119812, 0.07311198115348816, 0.8624147772789001, 0.022371329367160797, 0.046979792416095734, 0.06599542498588562, 0.9950166940689087, 0.1891488879919052, 0.2014312744140625, 0.6067503094673157, 0.20281872153282166, 0.002870076335966587, 0.7128313183784485, 0.08112749457359314, 0.00019133841851726174, 0.9975162148475647, 0.9963572025299072, 0.9960301518440247, 0.9977265000343323, 0.9959985613822937, 0.9965064525604248, 0.9961434602737427, 0.9918743968009949, 0.9935187101364136, 0.3224925696849823, 0.6770401000976562, 0.18831093609333038, 0.8099510073661804, 0.9979791641235352, 0.3016502261161804, 0.2929821014404297, 0.40220028162002563, 0.996809184551239, 0.99419105052948, 0.9968568682670593, 0.9910154342651367, 0.99683678150177, 0.9916651844978333, 0.9919397234916687, 0.9975736737251282, 0.6839941143989563, 0.31349730491638184, 0.3491044342517853, 0.5035831332206726, 0.1466238647699356, 0.9918996691703796, 0.9979421496391296, 0.9986392259597778, 0.9949206113815308, 0.9979668259620667, 0.9984551072120667, 0.8460754752159119, 0.1476641148328781, 0.9945319890975952, 0.9355193376541138, 0.060506224632263184, 0.9957032203674316, 0.9837902188301086, 0.14334061741828918, 0.7435794472694397, 0.10750546306371689, 0.24115785956382751, 0.46724337339401245, 0.013565129600465298, 0.27883878350257874, 0.9896833896636963, 0.9960978627204895, 0.9947748780250549, 0.09977655857801437, 0.2707313001155853, 0.6256689429283142, 0.0009532792610116303, 0.0025420780293643475, 0.8928906917572021, 0.08688151091337204, 0.019888538867235184, 0.9965925216674805, 0.9380291104316711, 0.06131429597735405, 0.9968842267990112, 0.33055153489112854, 0.6662279367446899, 0.2583436965942383, 0.737589955329895, 0.9837626814842224, 0.014646590687334538, 0.7979781031608582, 0.20142067968845367, 0.9972598552703857, 0.9953204393386841, 0.9984059929847717, 0.12037167698144913, 0.8785020709037781, 0.9958890080451965, 0.13464325666427612, 0.846725583076477, 0.016656896099448204, 0.9939475655555725, 0.9912816882133484, 0.9965758323669434, 0.4729531705379486, 0.5255035161972046, 0.9480042457580566, 0.05118332803249359, 0.31518054008483887, 0.06635379791259766, 0.6161423921585083, 0.9878178238868713, 0.9975836277008057, 0.9941040873527527, 0.3081354796886444, 0.13281701505184174, 0.5578314661979675, 0.9954202175140381, 0.9934225082397461, 0.21406380832195282, 0.3209227919578552, 0.21890531480312347, 0.039423707872629166, 0.023515895009040833, 0.050490010529756546, 0.08126816898584366, 0.045302681624889374, 0.0055331517942249775, 0.9971524477005005, 0.10031137615442276, 0.7280664443969727, 0.1682642549276352, 0.6049478650093079, 0.06541599333286285, 0.22985617816448212, 0.06061481684446335, 0.03900953382253647, 0.9986346960067749, 0.6179230213165283, 0.031313665211200714, 0.3486254811286926, 0.20274576544761658, 0.7938011884689331, 0.988368570804596, 0.006459925323724747, 0.9977948069572449, 0.9953149557113647, 0.9952831268310547, 0.9885074496269226, 0.9906457662582397, 0.9926680326461792, 0.9939234852790833, 0.9929776787757874, 0.9950210452079773, 0.9949880838394165, 0.9911385178565979, 0.10769516229629517, 0.16346587240695953, 0.7269423604011536, 0.9991322755813599, 0.9969268441200256, 0.9950830936431885, 0.9938913583755493, 0.9895775318145752, 0.9948599934577942, 0.9963260293006897, 0.9703916311264038, 0.02933742105960846, 0.9950554966926575, 0.5469775199890137, 0.38381826877593994, 0.06917484849691391, 0.9908912777900696, 0.9948747754096985, 0.9964884519577026, 0.22956429421901703, 0.40558257699012756, 0.3645685911178589, 0.14457595348358154, 0.8424693942070007, 0.0129239521920681, 0.9979021549224854, 0.9994703531265259, 0.9888051152229309, 0.6045019030570984, 0.06830944865942001, 0.27672672271728516, 0.00991588830947876, 0.04058169201016426, 0.9986552596092224, 0.994408130645752, 0.9243582487106323, 0.035508185625076294, 0.040089886635541916, 0.9930719137191772, 0.9868587851524353, 0.9864808917045593, 0.9989772439002991, 0.19991432130336761, 0.7974604368209839, 0.20080788433551788, 0.13550449907779694, 0.6628292798995972, 0.5289688110351562, 0.13430848717689514, 0.3233735263347626, 0.012397706508636475, 0.9955469369888306, 0.21416229009628296, 0.7832221388816833, 0.9989064931869507, 0.9938567876815796, 0.9890102744102478, 0.996195912361145, 0.9965232014656067, 0.9941556453704834, 0.9985426664352417, 0.007908384315669537, 0.9909205436706543, 0.9976035356521606, 0.9931316375732422, 0.9951699376106262, 0.9983009696006775, 0.5000378489494324, 0.499354749917984, 0.06709527969360352, 0.9297488927841187, 0.9983293414115906, 0.998308539390564, 0.8349561095237732, 0.15967288613319397, 0.9895807504653931, 0.9949415922164917, 0.9987422823905945, 0.9947314262390137, 0.5561766624450684, 0.06266134977340698, 0.07729757577180862, 0.2401256114244461, 0.0635761171579361, 0.9899929761886597, 0.9970648288726807, 0.9954431056976318, 0.43064215779304504, 0.06152030825614929, 0.07020552456378937, 0.06369161605834961, 0.03256957605481148, 0.03329334408044815, 0.069481760263443, 0.23811978101730347, 0.9911811947822571, 0.33588647842407227, 0.3802488446235657, 0.28201788663864136, 0.9876555800437927, 0.9984338283538818, 0.9960669279098511, 0.9955143928527832, 0.9965046644210815, 0.9976479411125183, 0.9940451383590698, 0.9942553639411926, 0.9923038482666016, 0.9846678972244263, 0.015182643197476864, 0.3423997461795807, 0.6558132767677307, 0.31434768438339233, 0.41500088572502136, 0.027873193845152855, 0.2415676862001419, 0.1739729791879654, 0.7599489092826843, 0.06551283597946167, 0.9932152628898621, 0.6219417452812195, 0.3771614730358124, 0.9968034625053406, 0.997664749622345, 0.997763454914093, 0.9958051443099976, 0.9958393573760986, 0.9947866201400757, 0.9985851049423218, 0.24014027416706085, 0.7584918737411499, 0.0009761800174601376, 0.9974180459976196, 0.992895245552063, 0.9979618787765503, 0.8138763308525085, 0.18190084397792816, 0.003118300111964345, 0.17865228652954102, 0.7800233960151672, 0.004397594835609198, 0.021987974643707275, 0.014292183332145214, 0.09801327437162399, 0.2486903965473175, 0.6524465680122375, 0.0637553483247757, 0.7436572909355164, 0.16101714968681335, 0.031179621815681458, 0.9939085245132446, 0.9634737372398376, 0.03499797731637955, 0.9928995966911316, 0.9949977397918701, 0.9964874982833862, 0.9876413345336914, 0.9910657405853271, 0.9971125721931458, 0.9968932271003723, 0.9985445141792297, 0.9908508658409119, 0.9978601336479187, 0.9988737106323242, 0.7953740358352661, 0.020503735169768333, 0.1717187762260437, 0.011960512027144432, 0.997037947177887, 0.9956637620925903, 0.9971292018890381, 0.4761437773704529, 0.5216879844665527, 0.9980118274688721, 0.9895087480545044, 0.9991432428359985, 0.9971668720245361, 0.9986281394958496, 0.6386994123458862, 0.3604089617729187, 0.9972090125083923, 0.99397873878479, 0.4296783208847046, 0.07776176184415817, 0.46081045269966125, 0.0067201522178947926, 0.024823419749736786, 0.9930704236030579, 0.9973067045211792, 0.9923805594444275, 0.18800806999206543, 0.8086612224578857, 0.9896776080131531, 0.997846782207489, 0.26684972643852234, 0.21531221270561218, 0.11796361207962036, 0.019469721242785454, 0.07673361152410507, 0.011452777311205864, 0.04924694448709488, 0.24279887974262238, 0.9957016706466675, 0.9881622791290283, 0.9945099949836731, 0.9979493618011475, 0.3177295923233032, 0.6815069317817688, 0.9967626333236694, 0.9894275665283203, 0.9977017641067505, 0.9942165613174438, 0.9674742221832275, 0.02951616235077381, 0.9922105073928833, 0.9961745738983154, 0.9835311770439148, 0.16566085815429688, 0.03549875691533089, 0.7916222810745239, 0.007099751383066177, 0.17736360430717468, 0.3795059621334076, 0.06520721316337585, 0.32734018564224243, 0.050861623138189316, 0.9985063076019287, 0.9941205382347107, 0.1782410591840744, 0.4112395644187927, 0.4101220667362213, 0.10589589923620224, 0.8919119238853455, 0.8946622014045715, 0.08278530091047287, 0.02033323235809803, 0.9974669218063354, 0.9800876379013062, 0.019853118807077408, 0.8818463087081909, 0.03742152079939842, 0.08053762465715408, 0.997413694858551, 0.9931353330612183, 0.9943080544471741, 0.6091034412384033, 0.3076103627681732, 0.08301983773708344, 0.9961481094360352, 0.6141373515129089, 0.3855627179145813, 0.18059580028057098, 0.29444968700408936, 0.5241204500198364, 0.44959136843681335, 0.03289692848920822, 0.23027850687503815, 0.28510671854019165, 0.9885063171386719, 0.9960935711860657, 0.9988902807235718, 0.9982436299324036, 0.9010837078094482, 0.095948725938797, 0.9939641952514648, 0.9994503259658813, 0.9942114353179932, 0.24984094500541687, 0.36608272790908813, 0.3809855282306671, 0.002980558667331934, 0.3319486677646637, 0.5488914847373962, 0.013068845495581627, 0.06926488131284714, 0.036592766642570496, 0.10653149336576462, 0.610396683216095, 0.2278190404176712, 0.0014396148035302758, 0.05362565070390701, 0.9959201812744141, 0.996837854385376, 0.9953079223632812, 0.9899550080299377, 0.3944585919380188, 0.03782479837536812, 0.5673719644546509, 0.9960903525352478, 0.020310619845986366, 0.9749097228050232, 0.9981304407119751, 0.9985874891281128, 0.9996888041496277, 0.3031468391418457, 0.584831953048706, 0.07265687733888626, 0.027497833594679832, 0.011848660185933113, 0.07791921496391296, 0.7078025341033936, 0.2072041779756546, 0.0030471202917397022, 0.0034824232570827007, 0.998142659664154, 0.9959251284599304, 0.16889657080173492, 0.19141611456871033, 0.033779315650463104, 0.6035237312316895, 0.996969997882843, 0.995758593082428, 0.9987663626670837, 0.19454164803028107, 0.4899866282939911, 0.314818412065506, 0.9948503375053406, 0.9946793913841248, 0.9937127232551575, 0.9960171580314636, 0.9920665621757507, 0.09555443376302719, 0.6991788148880005, 0.20276184380054474, 0.9965116381645203, 0.19262708723545074, 0.8047531843185425, 0.9941698908805847, 0.9955880641937256, 0.9956900477409363, 0.9975390434265137, 0.9940861463546753, 0.9928828477859497, 0.9959129095077515, 0.9962494373321533, 0.9983043670654297, 0.6107586622238159, 0.38694027066230774, 0.9982520341873169, 0.9968319535255432, 0.9086340069770813, 0.08995085954666138, 0.9703787565231323, 0.027874434366822243, 0.9902340769767761, 0.9940979480743408, 0.9955677390098572, 0.9957796335220337, 0.9911515712738037, 0.9971192479133606, 0.9927129149436951, 0.9979676604270935, 0.9985606074333191, 0.9972949624061584, 0.9957678318023682, 0.9952253699302673, 0.9967516660690308, 0.9961385130882263, 0.839633047580719, 0.15884949266910553, 0.999472439289093, 0.9810497164726257, 0.9973968267440796, 0.5558270215988159, 0.15602782368659973, 0.28799694776535034, 0.12928546965122223, 0.8680595755577087, 0.08604014664888382, 0.8104260563850403, 0.06852298974990845, 0.022154049947857857, 0.012365051545202732, 0.9929216504096985, 0.9937722086906433, 0.9968711733818054, 0.6933678984642029, 0.30429938435554504, 0.0010867835953831673, 0.9830308556556702, 0.9970399737358093, 0.5839380025863647, 0.0952305868268013, 0.06338498741388321, 0.13963069021701813, 0.016841420903801918, 0.10074232518672943, 0.9959683418273926, 0.8551996946334839, 0.1442505568265915, 0.9951109886169434, 0.1764584183692932, 0.04028964042663574, 0.7364333868026733, 0.045899588614702225, 0.4358569085597992, 0.17491625249385834, 0.003504697233438492, 0.012425744906067848, 0.20104219019412994, 0.03695862740278244, 0.10641535371541977, 0.028037577867507935, 0.990802526473999, 0.33630406856536865, 0.4976522922515869, 0.16329215466976166, 0.39996930956840515, 0.3452451527118683, 0.254306435585022, 0.9973397254943848, 0.9932153820991516, 0.9980702996253967, 0.9987969398498535, 0.9885397553443909, 0.9998502135276794, 0.9978932738304138, 0.24308335781097412, 0.024001412093639374, 0.7323806881904602, 0.0004296927945688367, 0.9938205480575562, 0.9756776690483093, 0.02061290852725506, 0.9954249262809753, 0.9933751225471497, 0.9973057508468628, 0.9980207085609436, 0.2646681070327759, 0.7347011566162109, 0.9954525828361511, 0.9988199472427368, 0.9959354400634766, 0.9960988759994507, 0.9903918504714966, 0.9975548982620239, 0.0023334617726504803, 0.9964501261711121, 0.9920670986175537, 0.9869022965431213, 0.996857225894928, 0.9980676174163818, 0.3431006371974945, 0.6556062698364258, 0.9954580664634705, 0.9917926788330078, 0.9946043491363525, 0.13284075260162354, 0.6754826903343201, 0.1297077238559723, 0.05764787644147873, 0.004386251326650381, 0.9963927268981934, 0.9966409802436829, 0.9974119067192078, 0.998772144317627, 0.5426090359687805, 0.45607662200927734, 0.9987552165985107, 0.9973406195640564, 0.9918453097343445, 0.9812315106391907, 0.3503970801830292, 0.5966060161590576, 0.03486143797636032, 0.018024949356913567, 0.17469817399978638, 0.8243570327758789, 0.39083704352378845, 0.07374284416437149, 0.5334065556526184, 0.997684895992279, 0.9990760087966919, 0.9943903088569641, 0.20117425918579102, 0.6979765892028809, 0.09936045855283737, 0.9954500794410706, 0.351979523897171, 0.6446366310119629, 0.9970423579216003, 0.8991228342056274, 0.09382151067256927, 0.996397078037262, 0.993218183517456, 0.4978216886520386, 0.5004696846008301, 0.9944995641708374, 0.9922711253166199, 0.1474120020866394, 0.11869537830352783, 0.7332311272621155, 0.9987857341766357, 0.9965556859970093, 0.9965468049049377, 0.08306160569190979, 0.6516842842102051, 0.21231168508529663, 0.0523986779153347, 0.99895840883255, 0.9984270334243774, 0.9963607788085938, 0.9938402771949768, 0.15567231178283691, 0.15255886316299438, 0.6911850571632385, 0.9980205297470093, 0.9884251952171326, 0.3608762323856354, 0.37926483154296875, 0.2593558430671692, 0.9961423277854919, 0.9879965782165527, 0.3356664478778839, 0.17610903084278107, 0.08606831729412079, 0.34956979751586914, 0.05164099112153053, 0.9881612062454224, 0.9962358474731445, 0.979512095451355, 0.001608394319191575, 0.016083942726254463, 0.9995263814926147, 0.04823002964258194, 0.9453085660934448, 0.19660437107086182, 0.04695029929280281, 0.7551172971725464, 0.9973366260528564, 0.9961681962013245, 0.9966841340065002, 0.8555992245674133, 0.1421353667974472, 0.9976191520690918, 0.4055502414703369, 0.16202129423618317, 0.07720033079385757, 0.3548564612865448, 0.9978092312812805, 0.26897743344306946, 0.7139677405357361, 0.0037185819819569588, 0.013015036471188068, 0.9929826259613037, 0.3206420838832855, 0.67754727602005, 0.9980480670928955, 0.2059687376022339, 0.7935854196548462, 0.9987390041351318, 0.10015719383955002, 0.8974084258079529, 0.9959253668785095, 0.0813361406326294, 0.7558838725090027, 0.16158780455589294, 0.7426238059997559, 0.25496751070022583, 0.9971482753753662, 0.9974138736724854, 0.9849342107772827, 0.9910014271736145, 0.3588997423648834, 0.6321936845779419, 0.004656383767724037, 0.003940017428249121, 0.995145857334137, 0.9979598522186279, 0.9972044825553894, 0.9931758046150208, 0.9919760823249817, 0.1971021443605423, 0.8022546172142029, 0.9948309063911438, 0.9516282677650452, 0.04340760409832001, 0.3934517204761505, 0.5060736536979675, 0.06138620153069496, 0.007733694277703762, 0.013050609268248081, 0.01740081235766411, 0.9973160624504089, 0.06333871930837631, 0.8272420167922974, 0.10876345634460449, 0.9895684123039246, 0.5068135857582092, 0.14089839160442352, 0.05047106370329857, 0.2765393853187561, 0.024184051901102066, 0.9943292737007141, 0.08395062386989594, 0.862825870513916, 0.04663923755288124, 0.9984020590782166, 0.9353786706924438, 0.010694406926631927, 0.005729146767407656, 0.0252082459628582, 0.022916587069630623, 0.3772607743740082, 0.26547980308532715, 0.0489041730761528, 0.306233286857605, 0.25909337401390076, 0.46894726157188416, 0.2708170413970947, 0.9966603517532349, 0.9955127835273743, 0.9932664036750793, 0.9982449412345886, 0.9926749467849731, 0.09096894413232803, 0.2053692787885666, 0.22190909087657928, 0.015161490067839622, 0.1226702407002449, 0.07029418647289276, 0.04824110493063927, 0.022053077816963196, 0.20261263847351074, 0.9978004097938538, 0.13250507414340973, 0.8666548132896423, 0.9956859946250916, 0.997432291507721, 0.1739858239889145, 0.11610144376754761, 0.439788281917572, 0.2697944641113281, 0.9980671405792236, 0.9944086670875549, 0.5229809880256653, 0.07293272018432617, 0.4020194113254547, 0.9969244599342346, 0.0016131463926285505, 0.8656485080718994, 0.1294773370027542, 0.5069303512573242, 0.49141210317611694, 0.9931396842002869, 0.98203045129776, 0.017113130539655685, 0.34630197286605835, 0.07722696661949158, 0.4194643497467041, 0.0910465270280838, 0.0044710347428917885, 0.042271602898836136, 0.01869705505669117, 0.9976108074188232, 0.10923079401254654, 0.8904451131820679, 0.9871187210083008, 0.44253018498420715, 0.5559994578361511, 0.995337724685669, 0.9186077117919922, 0.07845760136842728, 0.9927966594696045, 0.9955803751945496, 0.0007240800769068301, 0.1836267113685608, 0.7505814433097839, 0.06487757712602615, 0.12775786221027374, 0.8697361946105957, 0.9979677200317383, 0.1012575626373291, 0.8988171219825745, 0.1124589666724205, 0.8850031495094299, 0.9905053973197937, 0.9981697797775269, 0.9990469813346863, 0.9952766299247742, 0.9945704340934753, 0.9974624514579773, 0.9934539794921875, 0.9958899021148682, 0.9983202815055847, 0.995082676410675, 0.4321657121181488, 0.33750084042549133, 0.05597575008869171, 0.014817110262811184, 0.1588723510503769, 0.9888697862625122, 0.9952446818351746, 0.1144031286239624, 0.7261096239089966, 0.1564287692308426, 0.19131812453269958, 0.23260493576526642, 0.5640274882316589, 0.012182993814349174, 0.992233395576477, 0.16880489885807037, 0.07800832390785217, 0.047316525131464005, 0.704632580280304, 0.9971631169319153, 0.006931592710316181, 0.14902924001216888, 0.8435748219490051, 0.9852421879768372, 0.011927871033549309, 0.997963547706604, 0.9993680715560913, 0.005444305017590523, 0.144818514585495, 0.7110262513160706, 0.10235293209552765, 0.034843552857637405, 0.20553895831108093, 0.18672692775726318, 0.4027170240879059, 0.08430581539869308, 0.012541360221803188, 0.10799504816532135, 0.9983890056610107, 0.9960247874259949, 0.9934266209602356, 0.1237817108631134, 0.871853768825531, 0.12235231697559357, 0.8687014579772949, 0.9935536980628967, 0.9931679368019104, 0.9965842366218567, 0.9971129298210144, 0.9953458309173584, 0.9912891983985901, 0.9672712087631226, 0.03022722527384758, 0.5327147245407104, 0.005041464697569609, 0.042012203484773636, 0.09074635803699493, 0.1462024748325348, 0.18149271607398987, 0.9936969876289368, 0.9947595596313477, 0.9680240750312805, 0.030062859877943993, 0.358474463224411, 0.6411024332046509, 0.9955987334251404, 0.995011031627655, 0.4622151553630829, 0.08179116249084473, 0.4527045488357544, 0.992659330368042, 0.914657473564148, 0.05473540723323822, 0.0288081094622612, 0.777868926525116, 0.06977248936891556, 0.0009428714402019978, 0.12351615726947784, 0.027343271300196648, 0.9909840822219849, 0.999416172504425, 0.9936439990997314, 0.9984430074691772, 0.9972100257873535, 0.9959975481033325, 0.9974281787872314, 0.9985859394073486, 0.3361912667751312, 0.5104153752326965, 0.15233667194843292, 0.12152918428182602, 0.7888736724853516, 0.07142505049705505, 0.0175897516310215, 0.9972831010818481, 0.2840360701084137, 0.27865344285964966, 0.390032023191452, 0.04720132797956467, 0.9982028603553772, 0.9978896975517273, 0.9951280951499939, 0.9969387650489807, 0.9841406941413879, 0.9969884753227234, 0.9946625232696533, 0.9935899376869202, 0.18562524020671844, 0.787717342376709, 0.026177918538451195, 0.2794960141181946, 0.7197384238243103, 0.995301365852356, 0.997144877910614, 0.9931291937828064, 0.9968774914741516, 0.9955987334251404, 0.9983381628990173, 0.9964605569839478, 0.2610825300216675, 0.1491900235414505, 0.5855708718299866, 0.30724048614501953, 0.04302578791975975, 0.341176301240921, 0.21452292799949646, 0.09392953664064407, 0.9983780384063721, 0.01449462492018938, 0.20114989578723907, 0.3807057738304138, 0.12601450085639954, 0.1973043829202652, 0.07986833900213242, 0.04176274687051773, 0.9567465782165527, 0.15046155452728271, 0.12212219089269638, 0.727182149887085, 0.0015723392134532332, 0.13993819057941437, 0.8372706770896912, 0.02044041082262993, 0.9916860461235046, 0.9984093904495239, 0.9958456754684448, 0.9956867694854736, 0.934624433517456, 0.062447067350149155, 0.9970569014549255, 0.9990149736404419, 0.3907690942287445, 0.4508204758167267, 0.15752607583999634, 0.994046688079834, 0.13884231448173523, 0.05270501226186752, 0.8047347664833069, 0.0007866419618949294, 0.00235992600210011, 0.9917237162590027, 0.006370816379785538, 0.9954733848571777, 0.9926198720932007, 0.995416522026062, 0.9965776205062866, 0.2358042299747467, 0.7616685032844543, 0.6690471172332764, 0.14384512603282928, 0.18691504001617432, 0.10219398885965347, 0.896641194820404, 0.9977437853813171, 0.29896968603134155, 0.19629321992397308, 0.48952510952949524, 0.015099478885531425, 0.18269750475883484, 0.10611315071582794, 0.6789717674255371, 0.032195910811424255, 0.9910102486610413, 0.005214775912463665, 0.9508274793624878, 0.04171820729970932, 0.9963837265968323, 0.9916480183601379, 0.29703783988952637, 0.18469540774822235, 0.45160168409347534, 0.018785737454891205, 0.04761533439159393, 0.993069052696228, 0.9947912096977234, 0.9944795966148376, 0.28885042667388916, 0.3855525255203247, 0.10298145562410355, 0.05777008458971977, 0.16451914608478546, 0.9943137764930725, 0.9898188710212708, 0.9954208731651306, 0.9933165311813354, 0.10974986851215363, 0.11562932282686234, 0.7074946761131287, 0.06859366595745087, 0.6787898540496826, 0.08317187428474426, 0.23610080778598785, 0.9936562776565552, 0.9964632391929626, 0.9934110045433044, 0.997626543045044, 0.059788208454847336, 0.8528823852539062, 0.025211894884705544, 0.0619492270052433, 0.20435830950737, 0.794033408164978, 0.46711692214012146, 0.18192633986473083, 0.25961729884147644, 0.09096316993236542, 0.998529314994812, 0.9976140856742859, 0.9970842003822327, 0.016848208382725716, 0.4106750786304474, 0.5707330703735352, 0.03656440228223801, 0.9611213803291321, 0.9218927025794983, 0.045945461839437485, 0.026851242408156395, 0.0023867771960794926, 0.001988980919122696, 0.000994490459561348, 0.9984778165817261, 0.9941457509994507, 0.6046896576881409, 0.018733931705355644, 0.34241461753845215, 0.015611609444022179, 0.017693156376481056, 0.27097606658935547, 0.1689794659614563, 0.2864169180393219, 0.04197302088141441, 0.033926378935575485, 0.1589755266904831, 0.03871086984872818, 0.9977220892906189, 0.99762362241745, 0.13423356413841248, 0.704380214214325, 0.16052672266960144, 0.4211639165878296, 0.0011570437345653772, 0.5762078166007996, 0.9981873631477356, 0.9952123761177063, 0.006363491993397474, 0.006363491993397474, 0.006363491993397474, 0.9608873128890991, 0.9953527450561523, 0.4940427243709564, 0.5045746564865112, 0.9967963099479675, 0.9903663396835327, 0.9966340661048889, 0.9975820183753967, 0.894795835018158, 0.06898205727338791, 0.03646194562315941, 0.9967492818832397, 0.9970162510871887, 0.9970664978027344, 0.9904696941375732, 0.42425695061683655, 0.574270486831665, 0.9902673363685608, 0.17884553968906403, 0.2031332105398178, 0.028703605756163597, 0.5851119160652161, 0.995851993560791, 0.44047072529792786, 0.05433844402432442, 0.4852038621902466, 0.019484996795654297, 0.9538360238075256, 0.04189144819974899, 0.9963163137435913, 0.9956865310668945, 0.2557613253593445, 0.3903390169143677, 0.35366499423980713, 0.997743546962738, 0.9958078861236572, 0.2118946611881256, 0.26947107911109924, 0.5181878805160522, 0.9929303526878357, 0.30953139066696167, 0.0009157733293250203, 0.6886615753173828, 0.9938170313835144, 0.999458372592926, 0.9946250319480896, 0.17794980108737946, 0.8193967938423157, 0.9847744107246399, 0.9987613558769226, 0.9987531900405884, 0.9982908368110657, 0.551936149597168, 0.44639351963996887, 0.9684500694274902, 0.02954593300819397, 0.6341859102249146, 0.04918712005019188, 0.03344723954796791, 0.28331780433654785, 0.3791108727455139, 0.12043654173612595, 0.2556147277355194, 0.21639637649059296, 0.004728455562144518, 0.020860832184553146, 0.002781444229185581, 0.6468674540519714, 0.24242748320102692, 0.012417017482221127, 0.07509338855743408, 0.021877601742744446, 0.9962201118469238, 0.4281763434410095, 0.19834452867507935, 0.37114274501800537, 0.002291528508067131, 0.8310548067092896, 0.1370246261358261, 0.013153535313904285, 0.01853923499584198, 0.9980005621910095, 0.9946426153182983, 0.9937704205513, 0.9956231713294983, 0.0052698636427521706, 0.026349319145083427, 0.0052698636427521706, 0.010539727285504341, 0.0052698636427521706, 0.0052698636427521706, 0.0052698636427521706, 0.0052698636427521706, 0.010539727285504341, 0.0052698636427521706, 0.9011467099189758, 0.0052698636427521706, 0.0052698636427521706, 0.03438115119934082, 0.426730751991272, 0.1493702083826065, 0.20975390076637268, 0.1401248574256897, 0.03929274156689644, 0.9930924773216248, 0.9048641324043274, 0.09420821815729141, 0.915299117565155, 0.08320900797843933, 0.9933294057846069], \"Term\": [\"_\", \"accept\", \"accept\", \"accept\", \"access\", \"advance\", \"advice\", \"aerospace\", \"agency\", \"agency\", \"ago\", \"ago\", \"ahl\", \"air\", \"alan\", \"algorithm\", \"also\", \"also\", \"also\", \"also\", \"also\", \"also\", \"also\", \"amendment\", \"american\", \"american\", \"american\", \"amp\", \"anaheim\", \"analysis\", \"analysis\", \"anger\", \"animal\", \"announcement\", \"annual\", \"answer\", \"answer\", \"answer\", \"anybody\", \"anyone\", \"apartment\", \"apple\", \"application\", \"application\", \"april\", \"april\", \"arab\", \"area\", \"area\", \"area\", \"area\", \"area\", \"area\", \"area\", \"argument\", \"armenia\", \"armenian\", \"army\", \"army\", \"arrest\", \"art\", \"art\", \"art\", \"art\", \"article\", \"article\", \"article\", \"associate\", \"astronomy\", \"atheist\", \"ati\", \"attack\", \"attack\", \"attack\", \"attempt\", \"audio\", \"authority\", \"auto\", \"automatically\", \"available\", \"available\", \"average\", \"average\", \"away\", \"away\", \"away\", \"ax\", \"azerbaijani\", \"background\", \"bag\", \"ban\", \"band\", \"band\", \"baseball\", \"battery\", \"battery_charger\", \"bay\", \"be\", \"be\", \"belief\", \"believe\", \"believe\", \"believe\", \"bible\", \"bike\", \"bit\", \"bit\", \"bit\", \"bit\", \"bitmap\", \"block\", \"block\", \"block\", \"blood\", \"blood\", \"blue\", \"board\", \"board\", \"board\", \"bolt\", \"bomb\", \"book\", \"book\", \"book\", \"book\", \"border\", \"bos\", \"boston\", \"bottle\", \"bounce\", \"boy\", \"boy\", \"bradley\", \"brake\", \"brand\", \"brave\", \"breaker\", \"brian_kendig\", \"broadcast\", \"brother\", \"buffalo\", \"build\", \"build\", \"build\", \"build\", \"build\", \"build\", \"building\", \"building\", \"burn\", \"burn\", \"bus\", \"button\", \"buy\", \"ca\", \"ca\", \"cable\", \"cable\", \"cal\", \"call\", \"call\", \"call\", \"call\", \"call\", \"call\", \"callback\", \"canada\", \"canada\", \"canada\", \"canadian\", \"canuck\", \"capital\", \"captain\", \"car\", \"card\", \"card\", \"carry\", \"carry\", \"carry\", \"case\", \"case\", \"case\", \"case\", \"case\", \"case_western\", \"catch\", \"catch\", \"catch\", \"catch\", \"cc\", \"cell\", \"center\", \"center\", \"center\", \"center\", \"center\", \"center\", \"chain\", \"channel\", \"character\", \"character\", \"character\", \"chi\", \"chicago\", \"chief\", \"child\", \"child\", \"chip\", \"chris\", \"christ\", \"christian\", \"christianity\", \"church\", \"cigarette\", \"circuit\", \"cirrus_logic\", \"citizen\", \"civil\", \"civilian\", \"claim\", \"claim\", \"clean\", \"clear\", \"clear\", \"clearly\", \"cleveland_ohio\", \"client\", \"clipper\", \"clipper_chip\", \"coach\", \"code\", \"code\", \"code\", \"cold\", \"color\", \"come\", \"come\", \"come\", \"come\", \"come\", \"comet\", \"committee\", \"committee\", \"communication\", \"communication\", \"comparison\", \"compatible\", \"compile\", \"compile\", \"complain\", \"computer_science\", \"computing\", \"concept\", \"concern\", \"concern\", \"conductor\", \"conference\", \"confuse\", \"congress\", \"congress\", \"congress\", \"connect\", \"consider\", \"consider\", \"consider\", \"consider\", \"constitution\", \"construction\", \"contact\", \"contain\", \"contain\", \"contain\", \"contain\", \"context\", \"control\", \"control\", \"control\", \"control\", \"control\", \"control\", \"control\", \"controller\", \"cool\", \"cop\", \"copy\", \"copy\", \"copy\", \"copy\", \"corporation\", \"cost\", \"cost\", \"could\", \"could\", \"could\", \"could\", \"count\", \"countersteer\", \"country\", \"country\", \"country\", \"court\", \"cover\", \"cover\", \"cover\", \"coverage\", \"cpu\", \"crime\", \"criminal\", \"crowd\", \"crypto\", \"csa\", \"cubs_suck\", \"cubs_suck\", \"cubs_suck\", \"cubs_suck\", \"cubs_suck\", \"cubs_suck\", \"cubs_suck\", \"cubs_suck\", \"current\", \"current\", \"current\", \"current\", \"current\", \"cylinder\", \"czar\", \"damn\", \"darin\", \"darren\", \"datum\", \"datum\", \"datum\", \"datum\", \"datum\", \"david\", \"david\", \"david\", \"david\", \"david\", \"davidian\", \"day\", \"day\", \"day\", \"day\", \"day\", \"dealer\", \"dear\", \"death\", \"death\", \"death\", \"decision\", \"default\", \"defenseman\", \"deity\", \"demonstrate\", \"department\", \"department\", \"department\", \"department\", \"depend\", \"depend\", \"description\", \"description\", \"design\", \"design\", \"design\", \"det\", \"detect\", \"detector\", \"detroit\", \"develop\", \"develop\", \"develop\", \"development\", \"device\", \"device\", \"devil\", \"die\", \"die\", \"directory\", \"discharge\", \"discipline\", \"discuss\", \"discussion\", \"discussion\", \"disease\", \"disk\", \"disk\", \"display\", \"distribution_na\", \"distribution_na\", \"distribution_usa\", \"distribution_usa\", \"distribution_world\", \"distribution_world\", \"distribution_world\", \"distribution_world\", \"div\", \"division\", \"division\", \"division\", \"do\", \"do\", \"do\", \"do\", \"do\", \"doc\", \"doctor\", \"dod\", \"dog\", \"dollar\", \"door\", \"draft\", \"drawing\", \"dress\", \"drive\", \"drive\", \"driver\", \"driver\", \"drug\", \"earth\", \"earth\", \"earth\", \"ease\", \"economic\", \"edge\", \"edition\", \"editor\", \"edward\", \"eeg\", \"eg\", \"electronic\", \"electronic\", \"email\", \"email\", \"email\", \"emergency\", \"encrypt\", \"encryption\", \"energy\", \"engine\", \"engineering\", \"enjoy\", \"enjoy\", \"enjoyment\", \"ensure\", \"ensure\", \"entry\", \"ep\", \"equal\", \"equal\", \"equal\", \"error\", \"error\", \"error\", \"error\", \"espn\", \"establish\", \"estimate\", \"even\", \"even\", \"even\", \"even\", \"even\", \"example\", \"example\", \"example\", \"excellent\", \"exist\", \"exist\", \"expand\", \"extra\", \"extra\", \"eye\", \"eye\", \"face\", \"face\", \"fact\", \"fact\", \"faith\", \"familiar\", \"fan\", \"faq\", \"faq\", \"father\", \"fax\", \"fax\", \"fax\", \"fd\", \"february\", \"federal\", \"fight\", \"fight\", \"file\", \"file\", \"final\", \"final\", \"final\", \"final_standing\", \"finger\", \"finland\", \"fire\", \"fire\", \"fire\", \"firearm\", \"firm\", \"first\", \"first\", \"first\", \"first\", \"first\", \"first\", \"first\", \"first\", \"first\", \"flight\", \"fly\", \"fly\", \"fly\", \"follow\", \"follow\", \"follow\", \"follow\", \"follow\", \"font\", \"food\", \"food\", \"food\", \"foot\", \"foot\", \"forget\", \"forget\", \"format\", \"forum\", \"fox\", \"fp\", \"frame\", \"france\", \"frank\", \"frequency\", \"friday\", \"ftp\", \"fuel\", \"function\", \"function\", \"function\", \"game\", \"gas\", \"gay\", \"gd\", \"gene\", \"genoa\", \"genocide\", \"george\", \"george\", \"german\", \"get\", \"get\", \"get\", \"gfci\", \"gif\", \"girl\", \"give\", \"give\", \"give\", \"go\", \"go\", \"go\", \"goal\", \"god\", \"gold\", \"good\", \"good\", \"good\", \"good\", \"good\", \"gordon_bank\", \"gov\", \"government\", \"government\", \"government\", \"gps\", \"gq\", \"gr\", \"graphic\", \"greek\", \"greek\", \"ground\", \"ground\", \"ground\", \"group\", \"group\", \"group\", \"group\", \"guard\", \"guide\", \"guide\", \"gun\", \"gun_control\", \"guru\", \"hall\", \"ham\", \"handgun\", \"hang\", \"happen\", \"happen\", \"hard_drive\", \"harry\", \"hat\", \"hate\", \"have\", \"have\", \"hawk\", \"hawk\", \"hd\", \"health\", \"heart\", \"heart\", \"heat\", \"heavy\", \"hell\", \"helmet\", \"help\", \"help\", \"help\", \"help\", \"help\", \"henry\", \"henry_spencer\", \"hi\", \"high\", \"high\", \"high\", \"high\", \"high\", \"high\", \"high\", \"high\", \"hill\", \"hit\", \"hit\", \"hit\", \"hitter\", \"hockey\", \"hockey_league\", \"hole\", \"homeopathic\", \"homeopathy\", \"homosexual\", \"honor\", \"hospital\", \"host\", \"host\", \"hour\", \"hour\", \"house\", \"house\", \"house\", \"house\", \"however\", \"however\", \"however\", \"hug\", \"human\", \"human\", \"hunt\", \"hurt\", \"ibm\", \"ice\", \"ide\", \"illegal\", \"illinois\", \"image\", \"image\", \"image\", \"imagine\", \"implement\", \"imply\", \"inc\", \"inc\", \"inc\", \"include\", \"include\", \"include\", \"include\", \"include\", \"info\", \"info\", \"info\", \"information\", \"information\", \"information\", \"information\", \"ins_cwru\", \"instal\", \"instal\", \"installation\", \"instance\", \"insurance\", \"int\", \"interactive\", \"internal\", \"international\", \"internet\", \"interview\", \"israel\", \"israeli\", \"issue\", \"issue\", \"issue\", \"issue\", \"jack\", \"jeff\", \"jew\", \"jewish\", \"jewish\", \"job\", \"ken\", \"key\", \"key_escrow\", \"kid\", \"kill\", \"kill\", \"king\", \"km\", \"know\", \"know\", \"know\", \"know\", \"know\", \"kurt\", \"la\", \"lamp\", \"land\", \"land\", \"lane\", \"laptop\", \"large\", \"large\", \"large\", \"large\", \"large\", \"large\", \"large\", \"large\", \"last_night\", \"lately\", \"laugh\", \"launch\", \"law\", \"law\", \"law_enforcement\", \"lawrence\", \"league\", \"lebanon\", \"legal\", \"legal\", \"legend\", \"lemieux\", \"lens\", \"let\", \"let\", \"let\", \"let\", \"level\", \"level\", \"level\", \"level\", \"level\", \"library\", \"libxmu\", \"life\", \"life\", \"life\", \"light\", \"light\", \"like\", \"like\", \"like\", \"limit\", \"line\", \"line\", \"list\", \"list\", \"list\", \"lock\", \"logical\", \"logo\", \"look\", \"look\", \"look\", \"lord\", \"lot\", \"lot\", \"love\", \"love\", \"love\", \"low\", \"low\", \"low\", \"low\", \"ltd\", \"lunar\", \"mac\", \"machine\", \"magazine\", \"magazine\", \"magic\", \"mail\", \"mailing_list\", \"make\", \"make\", \"make\", \"make\", \"man\", \"man\", \"man\", \"man\", \"man\", \"many\", \"many\", \"many\", \"many\", \"many\", \"mar\", \"march\", \"marriage\", \"married\", \"mass\", \"mass\", \"mass\", \"massacre\", \"master\", \"master\", \"material\", \"matthew\", \"max\", \"may\", \"may\", \"may\", \"may\", \"may\", \"mean\", \"mean\", \"mean\", \"mean\", \"mean\", \"medical\", \"medicine\", \"medium\", \"medium\", \"medium\", \"medium\", \"meg\", \"membership\", \"memory\", \"message\", \"message\", \"message\", \"metal\", \"mf\", \"mg\", \"mhz\", \"mid\", \"mike\", \"mike\", \"mike\", \"mile\", \"military\", \"military\", \"militia\", \"miller\", \"million\", \"min\", \"minnesota\", \"misc\", \"mission\", \"mit\", \"mode\", \"model\", \"model\", \"modem\", \"mon\", \"money\", \"money\", \"monitor\", \"monitor\", \"mont_pierce\", \"monthly\", \"moon\", \"moral\", \"mormon\", \"morning\", \"morris\", \"mother\", \"motif\", \"motor\", \"motorcycle\", \"mount\", \"mouse\", \"movement\", \"mr\", \"mr\", \"mr_stephanopoulo\", \"ms_window\", \"msg\", \"much\", \"much\", \"much\", \"multi\", \"multi\", \"must\", \"must\", \"must\", \"must\", \"must\", \"mutlu\", \"mystery\", \"nasa\", \"national\", \"national\", \"national\", \"nc\", \"nec\", \"need\", \"need\", \"need\", \"need\", \"need\", \"need\", \"neighbor\", \"network\", \"network\", \"neutral\", \"never\", \"never\", \"never\", \"never\", \"new\", \"new\", \"new\", \"new\", \"new\", \"new\", \"new\", \"new\", \"new_brunswick\", \"new_york\", \"new_york\", \"new_york\", \"news\", \"news\", \"news\", \"newsgroup\", \"newsletter\", \"nhl\", \"nice\", \"nick\", \"nntp_post\", \"normal\", \"not\", \"not\", \"not\", \"not\", \"nsa\", \"nt\", \"nt\", \"nyi\", \"nyr\", \"object\", \"obvious\", \"offer\", \"offer\", \"ohio\", \"oil\", \"ontario\", \"orbit\", \"org\", \"organization\", \"organization\", \"originator\", \"ott\", \"ought\", \"outlet\", \"package\", \"page\", \"page\", \"pain\", \"painful\", \"panel\", \"part\", \"part\", \"part\", \"part\", \"part\", \"party\", \"passage\", \"patient\", \"paul\", \"pay\", \"pay\", \"pc\", \"peace\", \"penguin\", \"penn_state\", \"people\", \"people\", \"people\", \"people\", \"perhaps\", \"perhaps\", \"period\", \"period\", \"period\", \"permit\", \"peter\", \"phi\", \"phone\", \"phone\", \"phone\", \"physical\", \"pick\", \"pick\", \"pin\", \"pipe\", \"pipe\", \"pit\", \"pitch\", \"pittsburgh\", \"pittsburgh\", \"plane\", \"plate\", \"play\", \"play\", \"play\", \"player\", \"playoff\", \"pm\", \"point\", \"point\", \"point\", \"point\", \"police\", \"policy\", \"pool\", \"pop\", \"population\", \"population\", \"population\", \"port\", \"portion\", \"post\", \"post\", \"post\", \"posting\", \"postscript\", \"power\", \"power\", \"power\", \"power\", \"power\", \"praise\", \"pray\", \"present\", \"present\", \"present\", \"president\", \"pressure\", \"pressure\", \"price\", \"price\", \"price\", \"principle\", \"printer\", \"privacy\", \"private\", \"private\", \"probe\", \"problem\", \"problem\", \"problem\", \"problem\", \"professional\", \"program\", \"program\", \"program\", \"program\", \"prohibit\", \"project\", \"project\", \"promise\", \"properly\", \"properly\", \"protect\", \"prove\", \"prove\", \"pub\", \"public\", \"public\", \"public\", \"pull\", \"pull\", \"punishment\", \"purchase\", \"pure\", \"qax\", \"question\", \"question\", \"question\", \"question\", \"quick\", \"radio\", \"ram\", \"ranger\", \"rat\", \"rather\", \"rather\", \"rating\", \"rd\", \"rd\", \"read\", \"read\", \"read\", \"read\", \"read\", \"read\", \"reader\", \"reason\", \"reason\", \"reason\", \"ref\", \"reference\", \"reference\", \"reference\", \"reference\", \"reference\", \"regulation\", \"relative\", \"relative\", \"relative\", \"religion\", \"reply\", \"reply\", \"reply\", \"reply\", \"reply\", \"report\", \"report\", \"report\", \"report\", \"research\", \"research\", \"research\", \"reserve\", \"reserve_university\", \"resource\", \"respect\", \"restriction\", \"return\", \"return\", \"return\", \"return\", \"return\", \"return\", \"return\", \"return\", \"return\", \"review\", \"richard\", \"richard\", \"rid\", \"ride\", \"right\", \"right\", \"right\", \"right\", \"rise\", \"risk\", \"road\", \"road\", \"road\", \"robert\", \"robert\", \"rocket\", \"rocket\", \"room\", \"room\", \"rough\", \"rule\", \"rule\", \"run\", \"run\", \"run\", \"run\", \"run\", \"run\", \"run\", \"russian\", \"s\", \"s\", \"safely\", \"sale\", \"sale\", \"san_francisco\", \"san_jose\", \"san_jose\", \"satan\", \"satellite\", \"say\", \"say\", \"say\", \"say\", \"scale\", \"scale\", \"schedule\", \"science\", \"science\", \"scientific\", \"scientific\", \"scoop\", \"score\", \"screen\", \"screw\", \"scripture\", \"scsi\", \"seal\", \"search\", \"season\", \"seat\", \"second\", \"second\", \"second\", \"second\", \"second\", \"secretary\", \"secure\", \"security\", \"security\", \"security\", \"see\", \"see\", \"see\", \"see\", \"seize\", \"sell\", \"sell\", \"sell\", \"sell\", \"senate\", \"send\", \"send\", \"send\", \"sense\", \"sense\", \"serdar_argic\", \"server\", \"service\", \"service\", \"service\", \"service\", \"service\", \"set\", \"set\", \"set\", \"set\", \"set\", \"set\", \"setup\", \"sex\", \"shape\", \"shell\", \"shell\", \"shift\", \"shift\", \"shipping\", \"shk\", \"should\", \"signal\", \"sin\", \"sinner\", \"site\", \"site\", \"size\", \"size\", \"size\", \"size\", \"size\", \"size\", \"slap\", \"slave\", \"smith\", \"smith\", \"software\", \"software\", \"soldier\", \"somewhere\", \"soon\", \"soon\", \"soon\", \"soul\", \"sound\", \"sound\", \"sound\", \"source\", \"source\", \"source\", \"source\", \"source\", \"soviet\", \"space\", \"spacecraft\", \"spank\", \"spanking\", \"speaker\", \"specifically\", \"stand\", \"standard\", \"standard\", \"standard\", \"start\", \"start\", \"start\", \"start\", \"stat\", \"state\", \"state\", \"state\", \"state\", \"statement\", \"station\", \"statistic\", \"stay\", \"steer\", \"stick\", \"stl\", \"string\", \"student\", \"student\", \"student\", \"study\", \"study\", \"stupid\", \"success\", \"suck\", \"sumgait\", \"summer\", \"sun\", \"sunday\", \"supply\", \"supply\", \"supply\", \"support\", \"support\", \"support\", \"support\", \"support\", \"switch\", \"system\", \"system\", \"system\", \"system\", \"system\", \"system\", \"table\", \"table\", \"take\", \"take\", \"take\", \"talk\", \"talk\", \"talk\", \"talk\", \"tampa_bay\", \"tank\", \"tap\", \"tape\", \"tax\", \"tax\", \"teach\", \"team\", \"technology\", \"technology\", \"technology\", \"tel\", \"tell\", \"tell\", \"tell\", \"tell\", \"tell\", \"term\", \"term\", \"terminal\", \"territory\", \"terrorist\", \"texas\", \"text\", \"text\", \"thank\", \"thank\", \"thank\", \"that\", \"that\", \"theory\", \"thing\", \"thing\", \"thing\", \"thing\", \"think\", \"think\", \"think\", \"think\", \"thinking\", \"thus\", \"thus\", \"thus\", \"ticket\", \"tiger\", \"time\", \"time\", \"time\", \"time\", \"time\", \"timeout\", \"timer\", \"tm\", \"today\", \"today\", \"today\", \"today\", \"today\", \"tomorrow\", \"tonight\", \"tor\", \"toronto_zoology\", \"total\", \"total\", \"total\", \"total\", \"trade\", \"trade\", \"trade\", \"train\", \"treatment\", \"tree\", \"trial\", \"true\", \"true\", \"true\", \"true\", \"truth\", \"truth\", \"try\", \"try\", \"try\", \"try\", \"turk\", \"turkey\", \"turkish\", \"unit\", \"unit\", \"unit\", \"univ\", \"univ\", \"university\", \"university\", \"university\", \"university\", \"university\", \"university\", \"upgrade\", \"urbana\", \"usa\", \"usa\", \"usa\", \"usa\", \"usa\", \"use\", \"use\", \"use\", \"use\", \"use\", \"use\", \"use\", \"useful\", \"usenet\", \"user\", \"user\", \"user\", \"value\", \"value\", \"value\", \"van\", \"vancouver\", \"vay\", \"vay\", \"vay\", \"vay\", \"verse\", \"version\", \"version\", \"vesa\", \"vesa_local\", \"vga\", \"video\", \"view\", \"view\", \"view\", \"vlb\", \"voice\", \"volt\", \"voltage\", \"vote\", \"vote\", \"vram\", \"wait\", \"wait\", \"wait\", \"wait\", \"wall\", \"want\", \"want\", \"want\", \"want\", \"washington\", \"washington\", \"water\", \"wave\", \"way\", \"way\", \"way\", \"weapon\", \"weekend\", \"well\", \"well\", \"well\", \"widget\", \"win\", \"win\", \"win\", \"wind\", \"window\", \"window_manager\", \"wing\", \"wing\", \"winnipeg_jet\", \"wire\", \"wiretap\", \"wiring\", \"woman\", \"woman\", \"wonder\", \"wonder\", \"word\", \"word\", \"word\", \"word\", \"work\", \"work\", \"work\", \"work\", \"work\", \"work\", \"work\", \"world\", \"world\", \"world\", \"world\", \"world\", \"worship\", \"would\", \"would\", \"would\", \"would\", \"write\", \"write\", \"write\", \"write\", \"xfree\", \"xga\", \"xlib\", \"xterm\", \"yalanci\", \"yalanci\", \"yalanci\", \"yalanci\", \"yalanci\", \"yalanci\", \"yalanci\", \"yalanci\", \"yalanci\", \"yalanci\", \"yalanci\", \"yalanci\", \"yalanci\", \"year\", \"year\", \"year\", \"year\", \"year\", \"year\", \"yesterday\", \"yet\", \"yet\", \"young\", \"young\", \"zoroastrian\"]}, \"R\": 30, \"lambda.step\": 0.01, \"plot.opts\": {\"xlab\": \"PC1\", \"ylab\": \"PC2\"}, \"topic.order\": [8, 14, 19, 3, 16, 11, 18, 13, 6, 17, 7, 10, 15, 4, 9, 20, 12, 5, 1, 2]};\n",
       "\n",
       "function LDAvis_load_lib(url, callback){\n",
       "  var s = document.createElement('script');\n",
       "  s.src = url;\n",
       "  s.async = true;\n",
       "  s.onreadystatechange = s.onload = callback;\n",
       "  s.onerror = function(){console.warn(\"failed to load library \" + url);};\n",
       "  document.getElementsByTagName(\"head\")[0].appendChild(s);\n",
       "}\n",
       "\n",
       "if(typeof(LDAvis) !== \"undefined\"){\n",
       "   // already loaded: just create the visualization\n",
       "   !function(LDAvis){\n",
       "       new LDAvis(\"#\" + \"ldavis_el1910023130851235842905435235\", ldavis_el1910023130851235842905435235_data);\n",
       "   }(LDAvis);\n",
       "}else if(typeof define === \"function\" && define.amd){\n",
       "   // require.js is available: use it to load d3/LDAvis\n",
       "   require.config({paths: {d3: \"https://cdnjs.cloudflare.com/ajax/libs/d3/3.5.5/d3.min\"}});\n",
       "   require([\"d3\"], function(d3){\n",
       "      window.d3 = d3;\n",
       "      LDAvis_load_lib(\"https://cdn.rawgit.com/bmabey/pyLDAvis/files/ldavis.v1.0.0.js\", function(){\n",
       "        new LDAvis(\"#\" + \"ldavis_el1910023130851235842905435235\", ldavis_el1910023130851235842905435235_data);\n",
       "      });\n",
       "    });\n",
       "}else{\n",
       "    // require.js not available: dynamically load d3 & LDAvis\n",
       "    LDAvis_load_lib(\"https://cdnjs.cloudflare.com/ajax/libs/d3/3.5.5/d3.min.js\", function(){\n",
       "         LDAvis_load_lib(\"https://cdn.rawgit.com/bmabey/pyLDAvis/files/ldavis.v1.0.0.js\", function(){\n",
       "                 new LDAvis(\"#\" + \"ldavis_el1910023130851235842905435235\", ldavis_el1910023130851235842905435235_data);\n",
       "            })\n",
       "         });\n",
       "}\n",
       "</script>"
      ],
      "text/plain": [
       "PreparedData(topic_coordinates=              x         y  topics  cluster       Freq\n",
       "topic                                                \n",
       "7      0.336841 -0.001183       1        1  16.240536\n",
       "13     0.291028 -0.003249       2        1  15.222937\n",
       "18     0.328831 -0.128123       3        1  14.586681\n",
       "2      0.091778  0.226472       4        1   6.162445\n",
       "15     0.059631  0.222477       5        1   5.973765\n",
       "10    -0.085006 -0.113080       6        1   4.344127\n",
       "17     0.060749 -0.183168       7        1   4.177628\n",
       "12    -0.021541 -0.036677       8        1   3.603021\n",
       "5     -0.022900 -0.021314       9        1   3.365298\n",
       "16    -0.029244  0.219705      10        1   3.271771\n",
       "6     -0.062992 -0.016657      11        1   3.222933\n",
       "9     -0.062884  0.139431      12        1   2.968332\n",
       "14    -0.088884 -0.062644      13        1   2.740086\n",
       "3     -0.047752 -0.117436      14        1   2.731137\n",
       "8     -0.111456  0.003704      15        1   2.291876\n",
       "19    -0.113684 -0.023385      16        1   2.124456\n",
       "11    -0.092440 -0.110498      17        1   2.077360\n",
       "4     -0.134206  0.001651      18        1   1.694626\n",
       "0     -0.164227 -0.027994      19        1   1.679200\n",
       "1     -0.131640  0.031969      20        1   1.521798, topic_info=      Category          Freq          Term         Total  loglift  logprob\n",
       "term                                                                      \n",
       "4146   Default  57084.000000            ax  57084.000000  30.0000  30.0000\n",
       "21     Default  12491.000000          line  12491.000000  29.0000  29.0000\n",
       "82     Default  16290.000000           not  16290.000000  28.0000  28.0000\n",
       "30     Default  11142.000000  organization  11142.000000  27.0000  27.0000\n",
       "3721   Default   3844.000000           max   3844.000000  26.0000  26.0000\n",
       "65     Default  10452.000000            do  10452.000000  25.0000  25.0000\n",
       "322    Default   9655.000000         write   9655.000000  24.0000  24.0000\n",
       "55     Default   7586.000000       article   7586.000000  23.0000  23.0000\n",
       "244    Default   8046.000000            be   8046.000000  22.0000  22.0000\n",
       "154    Default  11782.000000         would  11782.000000  21.0000  21.0000\n",
       "303    Default   6905.000000           say   6905.000000  20.0000  20.0000\n",
       "226    Default   5803.000000            go   5803.000000  19.0000  19.0000\n",
       "29     Default   4407.000000     nntp_post   4407.000000  18.0000  18.0000\n",
       "16     Default   4083.000000          host   4083.000000  17.0000  17.0000\n",
       "118    Default   6852.000000           get   6852.000000  16.0000  16.0000\n",
       "46     Default   5027.000000    university   5027.000000  15.0000  15.0000\n",
       "1911   Default   1863.000000         space   1863.000000  14.0000  14.0000\n",
       "215    Default   2294.000000        window   2294.000000  13.0000  13.0000\n",
       "36     Default   3735.000000             s   3735.000000  12.0000  12.0000\n",
       "18     Default   7291.000000          know   7291.000000  11.0000  11.0000\n",
       "50     Default   3461.000000          year   3461.000000  10.0000  10.0000\n",
       "317    Default   4598.000000           use   4598.000000   9.0000   9.0000\n",
       "2726   Default   1540.000000          game   1540.000000   8.0000   8.0000\n",
       "23     Default   1949.000000          mail   1949.000000   7.0000   7.0000\n",
       "681    Default   3005.000000         right   3005.000000   6.0000   6.0000\n",
       "967    Default   1685.000000     christian   1685.000000   5.0000   5.0000\n",
       "1362   Default   1746.000000    government   1746.000000   4.0000   4.0000\n",
       "567    Default   1464.000000          team   1464.000000   3.0000   3.0000\n",
       "206    Default   3380.000000        system   3380.000000   2.0000   2.0000\n",
       "60     Default   2012.000000          card   2012.000000   1.0000   1.0000\n",
       "...        ...           ...           ...           ...      ...      ...\n",
       "11736  Topic20    119.370399          guru    120.322311   4.1773  -5.3260\n",
       "3548   Topic20    117.622925  countersteer    118.574837   4.1772  -5.3407\n",
       "10436  Topic20    113.025604       bradley    113.977516   4.1769  -5.3806\n",
       "280    Topic20    112.216255          lane    113.168167   4.1768  -5.3878\n",
       "4913   Topic20    107.556458         forum    108.508369   4.1765  -5.4302\n",
       "7111   Topic20    101.311935           int    102.263847   4.1759  -5.4900\n",
       "6768   Topic20     97.987480         scoop     98.939392   4.1756  -5.5234\n",
       "1548   Topic20     92.962120          vram     93.914032   4.1751  -5.5760\n",
       "23677  Topic20     92.559410     enjoyment     93.511322   4.1750  -5.5803\n",
       "20303  Topic20     91.103058          nick     92.054970   4.1749  -5.5962\n",
       "13531  Topic20     88.574455        libxmu     89.526367   4.1746  -5.6243\n",
       "10134  Topic20     87.897339      callback     88.849251   4.1745  -5.6320\n",
       "4748   Topic20     85.062012           ati     86.013924   4.1741  -5.6648\n",
       "3568   Topic20     83.131187        safely     84.083099   4.1739  -5.6878\n",
       "6308   Topic20     80.992668      detector     81.944580   4.1736  -5.7138\n",
       "5064   Topic20     75.670692       drawing     76.622604   4.1728  -5.7818\n",
       "4044   Topic20     71.419548     ms_window     72.371460   4.1720  -5.8396\n",
       "3571   Topic20     71.192245         steer     72.144157   4.1720  -5.8428\n",
       "2237   Topic20    261.736725      properly    330.147186   3.9531  -4.5409\n",
       "3553   Topic20    378.346405      function    519.986206   3.8673  -4.1724\n",
       "306    Topic20    142.244644         shift    163.462372   4.0462  -5.1506\n",
       "2350   Topic20    497.687653         value    864.271545   3.6334  -3.8982\n",
       "161    Topic20    247.963211          code    911.080627   2.8839  -4.5949\n",
       "397    Topic20    184.923904         error    663.465820   2.9077  -4.8882\n",
       "1131   Topic20    147.248184        return    725.522339   2.5905  -5.1161\n",
       "535    Topic20    154.633255           set   1435.250977   1.9572  -5.0671\n",
       "10030  Topic20    102.333488       compile    240.648407   3.3302  -5.4800\n",
       "7388   Topic20    104.816040     character    416.531097   2.8055  -5.4560\n",
       "945    Topic20    107.790451          size    595.065186   2.4768  -5.4280\n",
       "1281   Topic20     99.078926         build   1050.704468   1.8240  -5.5123\n",
       "\n",
       "[998 rows x 6 columns], token_table=       Topic      Freq         Term\n",
       "term                               \n",
       "2128      19  0.998897            _\n",
       "2647       2  0.810065       accept\n",
       "2647       7  0.176538       accept\n",
       "2647      20  0.012291       accept\n",
       "2079       5  0.998559       access\n",
       "338        5  0.998726      advance\n",
       "2653       1  0.997624       advice\n",
       "20220     12  0.996577    aerospace\n",
       "4672      10  0.856126       agency\n",
       "4672      13  0.141872       agency\n",
       "3662       8  0.185781          ago\n",
       "3662      16  0.812335          ago\n",
       "14829     14  0.994180          ahl\n",
       "637        1  0.997038          air\n",
       "9530      11  0.992298         alan\n",
       "501       10  0.996908    algorithm\n",
       "384        1  0.260700         also\n",
       "384        2  0.372961         also\n",
       "384        3  0.058323         also\n",
       "384        4  0.064901         also\n",
       "384        5  0.203254         also\n",
       "384        7  0.015129         also\n",
       "384       12  0.024557         also\n",
       "2139       9  0.990380    amendment\n",
       "1250       3  0.307610     american\n",
       "1250       8  0.152385     american\n",
       "1250       9  0.539500     american\n",
       "5348      12  0.995578          amp\n",
       "12918      6  0.986726      anaheim\n",
       "3084       9  0.269078     analysis\n",
       "...      ...       ...          ...\n",
       "322        7  0.018539        write\n",
       "28759      4  0.998001        xfree\n",
       "31839     19  0.994643          xga\n",
       "3414      19  0.993770         xlib\n",
       "2103      17  0.995623        xterm\n",
       "71892      1  0.005270      yalanci\n",
       "71892      2  0.026349      yalanci\n",
       "71892      3  0.005270      yalanci\n",
       "71892      5  0.010540      yalanci\n",
       "71892      7  0.005270      yalanci\n",
       "71892      8  0.005270      yalanci\n",
       "71892      9  0.005270      yalanci\n",
       "71892     11  0.005270      yalanci\n",
       "71892     13  0.010540      yalanci\n",
       "71892     15  0.005270      yalanci\n",
       "71892     17  0.901147      yalanci\n",
       "71892     18  0.005270      yalanci\n",
       "71892     20  0.005270      yalanci\n",
       "50         2  0.034381         year\n",
       "50         3  0.426731         year\n",
       "50         8  0.149370         year\n",
       "50        11  0.209754         year\n",
       "50        14  0.140125         year\n",
       "50        17  0.039293         year\n",
       "1140      11  0.993092    yesterday\n",
       "830        2  0.904864          yet\n",
       "830        4  0.094208          yet\n",
       "3395       3  0.915299        young\n",
       "3395      14  0.083209        young\n",
       "23559      7  0.993329  zoroastrian\n",
       "\n",
       "[1606 rows x 3 columns], R=30, lambda_step=0.01, plot_opts={'xlab': 'PC1', 'ylab': 'PC2'}, topic_order=[8, 14, 19, 3, 16, 11, 18, 13, 6, 17, 7, 10, 15, 4, 9, 20, 12, 5, 1, 2])"
      ]
     },
     "execution_count": 18,
     "metadata": {},
     "output_type": "execute_result"
    }
   ],
   "source": [
    "# Visualize the topics\n",
    "pyLDAvis.enable_notebook()\n",
    "vis = pyLDAvis.gensim.prepare(lda_model, corpus, id2word)\n",
    "vis"
   ]
  },
  {
   "cell_type": "code",
   "execution_count": 19,
   "metadata": {},
   "outputs": [],
   "source": [
    "# Download File: http://mallet.cs.umass.edu/dist/mallet-2.0.8.zip\n",
    "mallet_path = 'C:\\\\Users\\\\wei\\\\notebooks\\\\mallet-2.0.8\\\\bin\\\\mallet' # update this path\n",
    "ldamallet = gensim.models.wrappers.LdaMallet(mallet_path, corpus=corpus, num_topics=20, id2word=id2word)"
   ]
  },
  {
   "cell_type": "code",
   "execution_count": 20,
   "metadata": {},
   "outputs": [
    {
     "name": "stdout",
     "output_type": "stream",
     "text": [
      "[(4,\n",
      "  [('game', 0.024669252959315626),\n",
      "   ('team', 0.01804187804635432),\n",
      "   ('year', 0.014622500746045956),\n",
      "   ('play', 0.014038098080175072),\n",
      "   ('player', 0.012061076295633145),\n",
      "   ('win', 0.010904705063165224),\n",
      "   ('good', 0.010419775191485129),\n",
      "   ('season', 0.007734009748333831),\n",
      "   ('hockey', 0.00693822739480752),\n",
      "   ('fan', 0.006540336218044365)]),\n",
      " (14,\n",
      "  [('write', 0.011085139030301292),\n",
      "   ('question', 0.01009565055282291),\n",
      "   ('science', 0.00980884229848135),\n",
      "   ('exist', 0.00973714023489596),\n",
      "   ('evidence', 0.008346120201339395),\n",
      "   ('argument', 0.00815969483601738),\n",
      "   ('system', 0.00810233318514907),\n",
      "   ('make', 0.00810233318514907),\n",
      "   ('reason', 0.007256248834841467),\n",
      "   ('thing', 0.007041142644085297)]),\n",
      " (11,\n",
      "  [('drug', 0.00915375864181325),\n",
      "   ('research', 0.0075610396429509055),\n",
      "   ('study', 0.007035967445523759),\n",
      "   ('food', 0.006913450599457425),\n",
      "   ('problem', 0.0061433447098976105),\n",
      "   ('doctor', 0.0057932965782795135),\n",
      "   ('disease', 0.00556576529272775),\n",
      "   ('medical', 0.005548262886146845),\n",
      "   ('organization', 0.005425746040080511),\n",
      "   ('effect', 0.005408243633499606)]),\n",
      " (12,\n",
      "  [('write', 0.1136276465173366),\n",
      "   ('organization', 0.10774010432648051),\n",
      "   ('line', 0.10342513040810064),\n",
      "   ('article', 0.10227447069653268),\n",
      "   ('nntp_post', 0.05977677201595581),\n",
      "   ('host', 0.05087833691316355),\n",
      "   ('reply', 0.034308837066584844),\n",
      "   ('usa', 0.015457195458729672),\n",
      "   ('distribution_world', 0.013596962258361461),\n",
      "   ('post', 0.00830392758514882)]),\n",
      " (1,\n",
      "  [('leave', 0.013436459097837746),\n",
      "   ('time', 0.013097724834867047),\n",
      "   ('day', 0.01024671145486366),\n",
      "   ('people', 0.010162027889120984),\n",
      "   ('back', 0.009710382205160052),\n",
      "   ('man', 0.008171964094168125),\n",
      "   ('happen', 0.007861457686444985),\n",
      "   ('call', 0.00776266019307853),\n",
      "   ('start', 0.0073674702196127135),\n",
      "   ('face', 0.007198103088127364)]),\n",
      " (2,\n",
      "  [('god', 0.021087040833287163),\n",
      "   ('christian', 0.016698986093412378),\n",
      "   ('people', 0.008244224056734445),\n",
      "   ('religion', 0.007956119452601253),\n",
      "   ('word', 0.0078453099894731),\n",
      "   ('bible', 0.007812067150534656),\n",
      "   ('church', 0.007047481854950413),\n",
      "   ('faith', 0.006415867915119952),\n",
      "   ('atheist', 0.005861820599479196),\n",
      "   ('belief', 0.0057510111363510445)]),\n",
      " (3,\n",
      "  [('window', 0.03304615384615384),\n",
      "   ('image', 0.01589230769230769),\n",
      "   ('file', 0.014692307692307692),\n",
      "   ('program', 0.0132),\n",
      "   ('display', 0.01296923076923077),\n",
      "   ('graphic', 0.012307692307692308),\n",
      "   ('color', 0.012061538461538462),\n",
      "   ('package', 0.00893846153846154),\n",
      "   ('screen', 0.008),\n",
      "   ('version', 0.007984615384615385)]),\n",
      " (10,\n",
      "  [('key', 0.031186003386277514),\n",
      "   ('system', 0.01283560428928485),\n",
      "   ('encryption', 0.011464968152866241),\n",
      "   ('bit', 0.01020720793356446),\n",
      "   ('government', 0.009175199548496332),\n",
      "   ('security', 0.009110699024429573),\n",
      "   ('chip', 0.008675320486978957),\n",
      "   ('technology', 0.008143191163428203),\n",
      "   ('message', 0.007788438281061034),\n",
      "   ('public', 0.007723937756994276)]),\n",
      " (18,\n",
      "  [('gun', 0.021209049989566877),\n",
      "   ('state', 0.017184845142635706),\n",
      "   ('law', 0.016678093421170298),\n",
      "   ('people', 0.010209556741288341),\n",
      "   ('crime', 0.0076012758219811015),\n",
      "   ('case', 0.007005097326139446),\n",
      "   ('weapon', 0.006960383938951322),\n",
      "   ('kill', 0.006677199153426536),\n",
      "   ('firearm', 0.006662294691030494),\n",
      "   ('police', 0.0060363072703967565)]),\n",
      " (5,\n",
      "  [('ax', 0.851311826711456),\n",
      "   ('max', 0.06211629792656087),\n",
      "   ('tm', 0.0024035677053168077),\n",
      "   ('qax', 0.002027105293640681),\n",
      "   ('_', 0.0012597011467624232),\n",
      "   ('giz', 0.0010135526468203406),\n",
      "   ('mf', 0.0009845939997683308),\n",
      "   ('ml', 0.0007963627939302676),\n",
      "   ('wm_wm', 0.0007674041468782579),\n",
      "   ('gq', 0.000752924823352253)])]\n",
      "\n",
      "Coherence Score:  0.6328970286381035\n"
     ]
    }
   ],
   "source": [
    "# Show Topics\n",
    "pprint(ldamallet.show_topics(formatted=False))\n",
    "\n",
    "# Compute Coherence Score\n",
    "coherence_model_ldamallet = CoherenceModel(model=ldamallet, texts=data_lemmatized, dictionary=id2word, coherence='c_v')\n",
    "coherence_ldamallet = coherence_model_ldamallet.get_coherence()\n",
    "print('\\nCoherence Score: ', coherence_ldamallet)"
   ]
  },
  {
   "cell_type": "markdown",
   "metadata": {},
   "source": [
    "## How to find the best number of topics"
   ]
  },
  {
   "cell_type": "code",
   "execution_count": 21,
   "metadata": {},
   "outputs": [],
   "source": [
    "def compute_coherence_values(dictionary, corpus, texts, limit, start=2, step=3):\n",
    "    \"\"\"\n",
    "    Compute c_v coherence for various number of topics\n",
    "\n",
    "    Parameters:\n",
    "    ----------\n",
    "    dictionary : Gensim dictionary\n",
    "    corpus : Gensim corpus\n",
    "    texts : List of input texts\n",
    "    limit : Max num of topics\n",
    "\n",
    "    Returns:\n",
    "    -------\n",
    "    model_list : List of LDA topic models\n",
    "    coherence_values : Coherence values corresponding to the LDA model with respective number of topics\n",
    "    \"\"\"\n",
    "    coherence_values = []\n",
    "    model_list = []\n",
    "    for num_topics in range(start, limit, step):\n",
    "        model = gensim.models.wrappers.LdaMallet(mallet_path, corpus=corpus, num_topics=num_topics, id2word=id2word)\n",
    "        model_list.append(model)\n",
    "        coherencemodel = CoherenceModel(model=model, texts=texts, dictionary=dictionary, coherence='c_v')\n",
    "        coherence_values.append(coherencemodel.get_coherence())\n",
    "\n",
    "    return model_list, coherence_values"
   ]
  },
  {
   "cell_type": "code",
   "execution_count": 22,
   "metadata": {},
   "outputs": [],
   "source": [
    "# Can take a long time to run.\n",
    "model_list, coherence_values = compute_coherence_values(dictionary=id2word, corpus=corpus, texts=data_lemmatized, start=2, limit=40, step=6)"
   ]
  },
  {
   "cell_type": "code",
   "execution_count": 23,
   "metadata": {},
   "outputs": [
    {
     "data": {
      "image/png": "[encoded data removed]",
      "text/plain": [
       "<Figure size 432x288 with 1 Axes>"
      ]
     },
     "metadata": {
      "needs_background": "light"
     },
     "output_type": "display_data"
    }
   ],
   "source": [
    "# Show graph\n",
    "limit=40; start=2; step=6;\n",
    "x = range(start, limit, step)\n",
    "plt.plot(x, coherence_values)\n",
    "plt.xlabel(\"Num Topics\")\n",
    "plt.ylabel(\"Coherence score\")\n",
    "plt.legend((\"coherence_values\"), loc='best')\n",
    "plt.show()"
   ]
  },
  {
   "cell_type": "code",
   "execution_count": null,
   "metadata": {},
   "outputs": [],
   "source": []
  }
 ],
 "metadata": {
  "celltoolbar": "Slideshow",
  "kernelspec": {
   "display_name": "Python 3",
   "language": "python",
   "name": "python3"
  },
  "language_info": {
   "codemirror_mode": {
    "name": "ipython",
    "version": 3
   },
   "file_extension": ".py",
   "mimetype": "text/x-python",
   "name": "python",
   "nbconvert_exporter": "python",
   "pygments_lexer": "ipython3",
   "version": "3.7.1"
  }
 },
 "nbformat": 4,
 "nbformat_minor": 2
}
